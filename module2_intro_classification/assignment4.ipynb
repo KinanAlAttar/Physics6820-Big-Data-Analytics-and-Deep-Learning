{
 "cells": [
  {
   "cell_type": "markdown",
   "metadata": {
    "colab_type": "text",
    "id": "H-XII8KKiNzp"
   },
   "source": [
    "# Assignment 4\n",
    "In the in-class workbook, we had a classifier which was designed to picks between two specific digits, one that we called **signal** and the other we called **background**.   \n",
    "\n",
    "In this assignment, we will want to read in all of the digits, and design a classifier which finds a specific digit (our **signal** again), but **all** of the other 9 digits will serve as the background.   Our background will naturally be 9 times bigger than our signal (unless we limit it).\n",
    "\n"
   ]
  },
  {
   "cell_type": "markdown",
   "metadata": {
    "colab_type": "text",
    "id": "lvhYHv5X2K_p"
   },
   "source": [
    "# A useful method\n",
    "The \"nested_defaultdict\" function is very useful for making two dimensional counter (actually nested dictionaries).  \n"
   ]
  },
  {
   "cell_type": "code",
   "execution_count": 21,
   "metadata": {
    "colab": {},
    "colab_type": "code",
    "id": "2qH7R-6S2OVm"
   },
   "outputs": [],
   "source": [
    "from collections import defaultdict\n",
    "from functools import partial\n",
    "from itertools import repeat\n",
    "def nested_defaultdict(default_factory, depth=1):\n",
    "    result = partial(defaultdict, default_factory)\n",
    "    for _ in repeat(None, depth - 1):\n",
    "        result = partial(defaultdict, result)\n",
    "    return result()  \n"
   ]
  },
  {
   "cell_type": "markdown",
   "metadata": {},
   "source": [
    "## Helpful for good plotly-express behavior"
   ]
  },
  {
   "cell_type": "code",
   "execution_count": 22,
   "metadata": {},
   "outputs": [],
   "source": [
    "import plotly.express as px\n",
    "import plotly.io as pio\n",
    "pio.renderers.default='notebook'"
   ]
  },
  {
   "cell_type": "markdown",
   "metadata": {
    "colab_type": "text",
    "id": "NvfjJRFB0yRQ"
   },
   "source": [
    "# Getting the data:\n",
    "The data is available in the project space.   If you uncomment the line with **short = \"short_\"**, the code will run faster.  \n",
    "\n",
    "**Once it is working you should use the full sample.**"
   ]
  },
  {
   "cell_type": "code",
   "execution_count": 23,
   "metadata": {
    "colab": {},
    "colab_type": "code",
    "id": "luIJ0Dguwewg"
   },
   "outputs": [
    {
     "name": "stdout",
     "output_type": "stream",
     "text": [
      "Processing digit  0\n",
      "Processing digit  1\n",
      "Processing digit  2\n",
      "Processing digit  3\n",
      "Processing digit  4\n",
      "Processing digit  5\n",
      "Processing digit  6\n",
      "Processing digit  7\n",
      "Processing digit  8\n",
      "Processing digit  9\n",
      "      0  1  2  3  4  5  6  7  8  9  ...  775  776  777  778  779  780  781  \\\n",
      "0     0  0  0  0  0  0  0  0  0  0  ...    0    0    0    0    0    0    0   \n",
      "1     0  0  0  0  0  0  0  0  0  0  ...    0    0    0    0    0    0    0   \n",
      "2     0  0  0  0  0  0  0  0  0  0  ...    0    0    0    0    0    0    0   \n",
      "3     0  0  0  0  0  0  0  0  0  0  ...    0    0    0    0    0    0    0   \n",
      "4     0  0  0  0  0  0  0  0  0  0  ...    0    0    0    0    0    0    0   \n",
      "...  .. .. .. .. .. .. .. .. .. ..  ...  ...  ...  ...  ...  ...  ...  ...   \n",
      "6953  0  0  0  0  0  0  0  0  0  0  ...    0    0    0    0    0    0    0   \n",
      "6954  0  0  0  0  0  0  0  0  0  0  ...    0    0    0    0    0    0    0   \n",
      "6955  0  0  0  0  0  0  0  0  0  0  ...    0    0    0    0    0    0    0   \n",
      "6956  0  0  0  0  0  0  0  0  0  0  ...    0    0    0    0    0    0    0   \n",
      "6957  0  0  0  0  0  0  0  0  0  0  ...    0    0    0    0    0    0    0   \n",
      "\n",
      "      782  783  digit  \n",
      "0       0    0      0  \n",
      "1       0    0      0  \n",
      "2       0    0      0  \n",
      "3       0    0      0  \n",
      "4       0    0      0  \n",
      "...   ...  ...    ...  \n",
      "6953    0    0      9  \n",
      "6954    0    0      9  \n",
      "6955    0    0      9  \n",
      "6956    0    0      9  \n",
      "6957    0    0      9  \n",
      "\n",
      "[70000 rows x 785 columns]\n"
     ]
    }
   ],
   "source": [
    "import pandas as pd\n",
    "#\n",
    "short = \"\"\n",
    "# short = \"short_\"\n",
    "\n",
    "#\n",
    "# Read in all of the other digits\n",
    "dfAll = pd.DataFrame()\n",
    "for digit in range(10):\n",
    "    print(\"Processing digit \",digit)\n",
    "    fname = '/fs/ess/PAS1759/data/ch3/digit_' + short + str(digit) + '.csv'\n",
    "    df = pd.read_csv(fname,header=None)\n",
    "    df['digit'] = digit\n",
    "    dfAll = pd.concat([dfAll, df])\n",
    "print(dfAll)"
   ]
  },
  {
   "cell_type": "markdown",
   "metadata": {
    "colab_type": "text",
    "id": "h0m8yoxK0ef1"
   },
   "source": [
    "# Task 0: Defining Signal\n",
    "At the top of this block we define which of the 10 digits we want to use for our **signal**.  The default is 5.\n",
    "\n",
    "Use dfA to contain just samples from this digit, and dfB to use samples from the other digits.   You should be able to pull these out of the dfAll dataframe, each with one line of code.  Hint: use .loc and .copy()."
   ]
  },
  {
   "cell_type": "code",
   "execution_count": 24,
   "metadata": {
    "colab": {},
    "colab_type": "code",
    "id": "cZVQuKLBTV3T"
   },
   "outputs": [
    {
     "name": "stdout",
     "output_type": "stream",
     "text": [
      "Length of signal sample:      6313\n",
      "Length of background sample:  63687\n"
     ]
    }
   ],
   "source": [
    "#\n",
    "# Define our \"signal\" digit\n",
    "digitSignal = 5\n",
    "\n",
    "dfA = dfAll.loc[dfAll['digit'] == digitSignal].copy()\n",
    "dfB = dfAll.loc[dfAll['digit'] != digitSignal].copy()\n",
    "\n",
    "dfA['signal'] = 1     # dfA has the digit we will look for = the signal\n",
    "dfB['signal'] = 0     # dfB has all of the other digits = the background\n",
    "\n",
    "print(\"Length of signal sample:     \",len(dfA))\n",
    "print(\"Length of background sample: \",len(dfB))\n"
   ]
  },
  {
   "cell_type": "markdown",
   "metadata": {
    "colab_type": "text",
    "id": "l7XCcD7Zxzzp"
   },
   "source": [
    "# Task1: Shuffle background\n",
    "You will need to **shuffle** or randomize the rows of the **background** dataframe.  We already read the digits in, but they were in batches of the the same digit.   So we need to shuffle them to mix the digits up.  To figure out how to do this, google **sklearn shuffle pandas**.   Note that the \"shuffle\" method from sklearn creates copies of the original dataframe (which is fine).\n",
    "\n",
    "Put the shuffled dataframe in dfBShuffle."
   ]
  },
  {
   "cell_type": "code",
   "execution_count": 25,
   "metadata": {
    "colab": {},
    "colab_type": "code",
    "id": "TydTfq902ypY"
   },
   "outputs": [
    {
     "name": "stdout",
     "output_type": "stream",
     "text": [
      "      0  1  2  3  4  5  6  7  8  9  ...  776  777  778  779  780  781  782  \\\n",
      "7372  0  0  0  0  0  0  0  0  0  0  ...    0    0    0    0    0    0    0   \n",
      "6968  0  0  0  0  0  0  0  0  0  0  ...    0    0    0    0    0    0    0   \n",
      "2666  0  0  0  0  0  0  0  0  0  0  ...    0    0    0    0    0    0    0   \n",
      "5168  0  0  0  0  0  0  0  0  0  0  ...    0    0    0    0    0    0    0   \n",
      "2880  0  0  0  0  0  0  0  0  0  0  ...    0    0    0    0    0    0    0   \n",
      "...  .. .. .. .. .. .. .. .. .. ..  ...  ...  ...  ...  ...  ...  ...  ...   \n",
      "3280  0  0  0  0  0  0  0  0  0  0  ...    0    0    0    0    0    0    0   \n",
      "2512  0  0  0  0  0  0  0  0  0  0  ...    0    0    0    0    0    0    0   \n",
      "2     0  0  0  0  0  0  0  0  0  0  ...    0    0    0    0    0    0    0   \n",
      "956   0  0  0  0  0  0  0  0  0  0  ...    0    0    0    0    0    0    0   \n",
      "2732  0  0  0  0  0  0  0  0  0  0  ...    0    0    0    0    0    0    0   \n",
      "\n",
      "      783  digit  signal  \n",
      "7372    0      1       0  \n",
      "6968    0      3       0  \n",
      "2666    0      2       0  \n",
      "5168    0      3       0  \n",
      "2880    0      7       0  \n",
      "...   ...    ...     ...  \n",
      "3280    0      7       0  \n",
      "2512    0      8       0  \n",
      "2       0      7       0  \n",
      "956     0      7       0  \n",
      "2732    0      0       0  \n",
      "\n",
      "[63687 rows x 786 columns]\n"
     ]
    }
   ],
   "source": [
    "from sklearn.utils import shuffle\n",
    "dfBShuffle = shuffle(dfB, random_state=0)\n",
    "print(dfBShuffle)"
   ]
  },
  {
   "cell_type": "markdown",
   "metadata": {
    "colab_type": "text",
    "id": "kpeG7BJ92sGE"
   },
   "source": [
    "# Tasks 2: Limit background\n",
    "Come up with a method to limit the rows of the background data that you use, so that it is the **same length** (in rows) as the signal dataframe.   You will want some easy way to turn this on and off.   Run first with the background limited to the **same** length as the signal.   Later you can come back and use all of the background data.\n",
    "\n",
    "Call the limited dataframe dfB_use.\n"
   ]
  },
  {
   "cell_type": "code",
   "execution_count": 26,
   "metadata": {
    "colab": {},
    "colab_type": "code",
    "id": "E5r19e7UKZ1I"
   },
   "outputs": [],
   "source": [
    "# Your code goes here\n",
    "\n",
    "dfB_use = dfBShuffle.head(6313)"
   ]
  },
  {
   "cell_type": "markdown",
   "metadata": {
    "colab_type": "text",
    "id": "jY8MMt_YKeP3"
   },
   "source": [
    "# Task 3: Combining data\n",
    "After steps 1 and 2 , you will have a signal dataframe, and a randomized background dataframe.   You will need to combine these two into a single dataframe.  We have done this before, but you can look at **pandas concat** function.   Use the name **dfCombined** for the combined dataframe.\n"
   ]
  },
  {
   "cell_type": "code",
   "execution_count": 27,
   "metadata": {
    "colab": {},
    "colab_type": "code",
    "id": "rQToio4HysmK"
   },
   "outputs": [
    {
     "name": "stdout",
     "output_type": "stream",
     "text": [
      "Size of signal sample  6313\n",
      "Size of background sample  6313\n",
      "Size of combined sample  12626\n"
     ]
    }
   ],
   "source": [
    "# Your code goes here\n",
    "\n",
    "dfCombined = pd.concat([dfA, dfB_use], ignore_index=True)\n",
    "\n",
    "print(\"Size of signal sample \",len(dfA))\n",
    "print(\"Size of background sample \",len(dfB_use))\n",
    "print(\"Size of combined sample \",len(dfCombined))\n",
    "\n"
   ]
  },
  {
   "cell_type": "markdown",
   "metadata": {
    "colab_type": "text",
    "id": "eIhQBrAXz3V8"
   },
   "source": [
    "#  Task 4: runFitter Method\n",
    "Next you will want to apply an estimator to this dataset. I want you to make a function that does both the test/train split, and then calls the estimator, just like we did at the end of the in-class workbook. The function should look like the following \"skeleton\".   I show the expected inputs and the expected return values.   Note we did all of this in the example workbook."
   ]
  },
  {
   "cell_type": "code",
   "execution_count": 28,
   "metadata": {
    "colab": {},
    "colab_type": "code",
    "id": "PrB1nvOxz5gq"
   },
   "outputs": [],
   "source": [
    "#\n",
    "# Here is the skeleton of the method\n",
    "from sklearn.model_selection import train_test_split\n",
    "#\n",
    "# The inputs are:\n",
    "#     dfCombined: the input dataframe\n",
    "#     estimator:  this should be an sklearn classifier (only LinearSVC or SGDClassifier are expected to be used)\n",
    "def runFitter(dfCombined,estimator):\n",
    "    #\n",
    "    # First do a test/train split\n",
    "    train_digits,test_digits = train_test_split(dfCombined, test_size=0.2, random_state=42)\n",
    "\n",
    "    X_train = train_digits.iloc[:,:784].to_numpy()\n",
    "    y_train = train_digits['signal'].to_numpy()\n",
    "    y_train_digit = train_digits['digit'].to_numpy()\n",
    "\n",
    "    X_test = test_digits.iloc[:,:784].to_numpy()\n",
    "    y_test = test_digits['signal'].to_numpy()\n",
    "    y_test_digit = test_digits['digit'].to_numpy()\n",
    "\n",
    "    #\n",
    "    # Now fit to our training set\n",
    "    estimator.fit(X_train,y_train)\n",
    "    #\n",
    "    # Now predict the classes and get the score for our traing set\n",
    "    y_train_pred = estimator.predict(X_train)\n",
    "    y_train_score = estimator.decision_function(X_train)\n",
    "    #\n",
    "    # Now predict the classes and get the score for our test set\n",
    "    y_test_pred = estimator.predict(X_test)\n",
    "    y_test_score = estimator.decision_function(X_test)  \n",
    "    #\n",
    "    return y_train,y_train_pred,y_train_score,y_train_digit,y_test,y_test_pred,y_test_score,y_test_digit\n",
    "\n"
   ]
  },
  {
   "cell_type": "markdown",
   "metadata": {
    "colab_type": "text",
    "id": "nFBJwh-X0L0J"
   },
   "source": [
    "# Task 5: Run the fitter\n",
    "Now we can use the function we defined above.   We have to define our estimate (which we get from sklearn) outside of the method, and pass it as an argument to our defined function.   We do it this way because later on we will want to call the method with a different estimator"
   ]
  },
  {
   "cell_type": "code",
   "execution_count": 29,
   "metadata": {
    "colab": {},
    "colab_type": "code",
    "id": "L-zEJBYF0NW_"
   },
   "outputs": [],
   "source": [
    "# Your code goes here\n",
    "from sklearn.svm import LinearSVC\n",
    "\n",
    "estimator = LinearSVC(random_state=42,dual=False,max_iter=5000)    # use dual=False when  n_samples > n_features which is what we have\n",
    "\n",
    "# call runFitter\n",
    "y_train,y_train_pred,y_train_score,y_train_digit,y_test,y_test_pred,y_test_score,y_test_digit = runFitter(dfCombined,estimator)"
   ]
  },
  {
   "cell_type": "markdown",
   "metadata": {
    "colab_type": "text",
    "id": "a-j8Wd0b0akR"
   },
   "source": [
    "# Task 5: Implement Performance Method\n",
    "Next, you need to get the performance of the estimator on **both** the training and testing data.   To do this, I want you to make a function to calulate various performance metrics, and return the result.   "
   ]
  },
  {
   "cell_type": "code",
   "execution_count": 30,
   "metadata": {
    "colab": {},
    "colab_type": "code",
    "id": "7ALFWAtg0csD"
   },
   "outputs": [],
   "source": [
    "#\n",
    "# Determine the performance\n",
    "#\n",
    "# The inputs:\n",
    "#    y = array of true labels\n",
    "#    y_pred = array of predicted labels from the **predict** method of the LinearSVC estimator\n",
    "#    y_score = array of scores from the **decision_function** method of the LinearSVC estimator\n",
    "#\n",
    "# The return values:\n",
    "#    precision,recall,auc are the calculated values of these metrics\n",
    "#    fpr, tpr, thresholds are lists containing the  \"false positive rate\", \"true positve rate\", and \"threshold\"\n",
    "#\n",
    "def binaryPerformance(y,y_pred,y_score,debug):\n",
    "#\n",
    "# Assuming a binary classifier with 1=signal, 0=background\n",
    "    confusionMatrix = nested_defaultdict(int,2)\n",
    "    for i in range(len(y_pred)):\n",
    "        trueClass = y[i]      # this is either 0 or 1\n",
    "        predClass = y_pred[i]\n",
    "        confusionMatrix[trueClass][predClass] += 1\n",
    "    \n",
    "    data = [ [ confusionMatrix[1][1],confusionMatrix[1][0] ],\n",
    "             [ confusionMatrix[0][1],confusionMatrix[0][0] ] ]\n",
    "    df = pd.DataFrame(data)\n",
    "    df.rename(columns={0:\"Pred=DigitA\", 1:\"Pred=DigitB\"},index={0:'True=DigitA',1:'True=DigitB'},inplace=True)\n",
    "    \n",
    "    TP = confusionMatrix[1][1]\n",
    "    FP = confusionMatrix[0][1]\n",
    "    FN = confusionMatrix[1][0]\n",
    "    TN = confusionMatrix[0][0]\n",
    "    \n",
    "    precision = TP / (TP + FP)\n",
    "    recall = TP / (TP + FN)\n",
    "\n",
    "    result = []\n",
    "    data_type = []\n",
    "    for i in range(len(y_pred)):\n",
    "        result.append(y_score[i])\n",
    "        if y[i]==1:\n",
    "            data_type.append(\"Signal\")\n",
    "        else:\n",
    "            data_type.append(\"Background\")\n",
    "\n",
    "    \n",
    "    totalSignal = 0\n",
    "    totalBackground = 0\n",
    "\n",
    "    for dtype in data_type:\n",
    "        if dtype=='Signal':\n",
    "            totalSignal += 1\n",
    "        else:\n",
    "            totalBackground += 1\n",
    "\n",
    "    #\n",
    "    # Start the loop over thresholds\n",
    "    maxScore = max(result)\n",
    "    minScore = min(result)\n",
    "    stepSize = (maxScore - minScore) / 100.0\n",
    "    threshold = minScore\n",
    "    fpr = []\n",
    "    tpr = []\n",
    "    thresholds = []\n",
    "\n",
    "    for steps in range(100):\n",
    "    #\n",
    "    # At each step, count the number of TP and FP\n",
    "        tn = 0.0\n",
    "        tp = 0.0\n",
    "        for score,dtype in zip(result,data_type):\n",
    "            if dtype=='Signal' and score > threshold:\n",
    "                tp += 1.0\n",
    "            elif dtype=='Background' and score <= threshold:\n",
    "                tn += 1.0\n",
    "\n",
    "        #\n",
    "        # Remember that \"false negatives\" or fn is the number of positives that were NOT tp\n",
    "        fn = totalSignal - tp\n",
    "        fp = totalBackground - tn\n",
    "        #\n",
    "        # Now get the rates for the curve\n",
    "        tpRate = tp / totalSignal\n",
    "        fpRate = fp / totalBackground\n",
    "\n",
    "        fpr.append(fpRate)\n",
    "        tpr.append(tpRate)\n",
    "        thresholds.append(\"Threshold=\"+str(threshold))\n",
    "\n",
    "        threshold += stepSize\n",
    "\n",
    "    from sklearn.metrics import auc\n",
    "    auc = auc(fpr,tpr)\n",
    "    \n",
    "    return precision,recall,auc,fpr, tpr, thresholds"
   ]
  },
  {
   "cell_type": "markdown",
   "metadata": {
    "colab_type": "text",
    "id": "M4lHvlzF4RsT"
   },
   "source": [
    "# Task 6: Call performance method\n",
    "Call the \"binaryPerformance\" method for both the training and testing results for your estimator. How do they compare? Print out the precision, recall, and AUC of the test and train samples.  The plot the ROC for both test and train.   You can do these plots in separate figures."
   ]
  },
  {
   "cell_type": "code",
   "execution_count": 31,
   "metadata": {
    "colab": {},
    "colab_type": "code",
    "id": "2Jt3lSPr7ZrV"
   },
   "outputs": [
    {
     "name": "stdout",
     "output_type": "stream",
     "text": [
      "AUC training data:  0.9845044592893302\n",
      "AUC testing data:   0.9636037077042879\n"
     ]
    }
   ],
   "source": [
    "#\n",
    "# Now get the performaance\n",
    "precision_test,recall_test,auc_test,fpr_test, tpr_test, thresholds_test = binaryPerformance(y_test,y_test_pred,y_test_score,debug=False)\n",
    "precision_train,recall_train,auc_train,fpr_train, tpr_train, thresholds_train = binaryPerformance(y_train,y_train_pred,y_train_score,debug=False)\n",
    "\n",
    "print(\"AUC training data: \",auc_train)\n",
    "print(\"AUC testing data:  \",auc_test)\n"
   ]
  },
  {
   "cell_type": "markdown",
   "metadata": {
    "colab_type": "text",
    "id": "QbSIhu_94xNw"
   },
   "source": [
    "# Plot the ROC!"
   ]
  },
  {
   "cell_type": "code",
   "execution_count": 33,
   "metadata": {
    "colab": {},
    "colab_type": "code",
    "id": "DGId2jgZ8trd"
   },
   "outputs": [
    {
     "data": {
      "text/html": [
       "<div>\n",
       "        \n",
       "        \n",
       "            <div id=\"0d61cef9-0070-455f-bb82-a8d498f862a0\" class=\"plotly-graph-div\" style=\"height:525px; width:100%;\"></div>\n",
       "            <script type=\"text/javascript\">\n",
       "                require([\"plotly\"], function(Plotly) {\n",
       "                    window.PLOTLYENV=window.PLOTLYENV || {};\n",
       "                    \n",
       "                if (document.getElementById(\"0d61cef9-0070-455f-bb82-a8d498f862a0\")) {\n",
       "                    Plotly.newPlot(\n",
       "                        '0d61cef9-0070-455f-bb82-a8d498f862a0',\n",
       "                        [{\"customdata\": [[\"Threshold=-42.53945999593899\"], [\"Threshold=-42.05692482934834\"], [\"Threshold=-41.57438966275769\"], [\"Threshold=-41.09185449616704\"], [\"Threshold=-40.60931932957639\"], [\"Threshold=-40.126784162985736\"], [\"Threshold=-39.644248996395085\"], [\"Threshold=-39.161713829804434\"], [\"Threshold=-38.67917866321378\"], [\"Threshold=-38.19664349662313\"], [\"Threshold=-37.71410833003248\"], [\"Threshold=-37.23157316344183\"], [\"Threshold=-36.74903799685118\"], [\"Threshold=-36.26650283026053\"], [\"Threshold=-35.78396766366988\"], [\"Threshold=-35.301432497079226\"], [\"Threshold=-34.818897330488575\"], [\"Threshold=-34.336362163897924\"], [\"Threshold=-33.85382699730727\"], [\"Threshold=-33.37129183071662\"], [\"Threshold=-32.88875666412597\"], [\"Threshold=-32.40622149753532\"], [\"Threshold=-31.92368633094467\"], [\"Threshold=-31.441151164354018\"], [\"Threshold=-30.958615997763367\"], [\"Threshold=-30.476080831172716\"], [\"Threshold=-29.993545664582065\"], [\"Threshold=-29.511010497991414\"], [\"Threshold=-29.028475331400763\"], [\"Threshold=-28.545940164810112\"], [\"Threshold=-28.06340499821946\"], [\"Threshold=-27.58086983162881\"], [\"Threshold=-27.09833466503816\"], [\"Threshold=-26.615799498447508\"], [\"Threshold=-26.133264331856857\"], [\"Threshold=-25.650729165266206\"], [\"Threshold=-25.168193998675555\"], [\"Threshold=-24.685658832084904\"], [\"Threshold=-24.203123665494253\"], [\"Threshold=-23.720588498903602\"], [\"Threshold=-23.23805333231295\"], [\"Threshold=-22.7555181657223\"], [\"Threshold=-22.27298299913165\"], [\"Threshold=-21.790447832541\"], [\"Threshold=-21.307912665950347\"], [\"Threshold=-20.825377499359696\"], [\"Threshold=-20.342842332769045\"], [\"Threshold=-19.860307166178394\"], [\"Threshold=-19.377771999587743\"], [\"Threshold=-18.895236832997092\"], [\"Threshold=-18.41270166640644\"], [\"Threshold=-17.93016649981579\"], [\"Threshold=-17.44763133322514\"], [\"Threshold=-16.96509616663449\"], [\"Threshold=-16.482561000043837\"], [\"Threshold=-16.000025833453186\"], [\"Threshold=-15.517490666862535\"], [\"Threshold=-15.034955500271884\"], [\"Threshold=-14.552420333681233\"], [\"Threshold=-14.069885167090582\"], [\"Threshold=-13.587350000499931\"], [\"Threshold=-13.10481483390928\"], [\"Threshold=-12.62227966731863\"], [\"Threshold=-12.139744500727979\"], [\"Threshold=-11.657209334137328\"], [\"Threshold=-11.174674167546677\"], [\"Threshold=-10.692139000956026\"], [\"Threshold=-10.209603834365375\"], [\"Threshold=-9.727068667774724\"], [\"Threshold=-9.244533501184073\"], [\"Threshold=-8.761998334593422\"], [\"Threshold=-8.27946316800277\"], [\"Threshold=-7.796928001412119\"], [\"Threshold=-7.314392834821467\"], [\"Threshold=-6.831857668230815\"], [\"Threshold=-6.349322501640163\"], [\"Threshold=-5.866787335049511\"], [\"Threshold=-5.384252168458859\"], [\"Threshold=-4.9017170018682075\"], [\"Threshold=-4.419181835277556\"], [\"Threshold=-3.9366466686869037\"], [\"Threshold=-3.454111502096252\"], [\"Threshold=-2.9715763355056\"], [\"Threshold=-2.489041168914948\"], [\"Threshold=-2.006506002324296\"], [\"Threshold=-1.5239708357336446\"], [\"Threshold=-1.041435669142993\"], [\"Threshold=-0.5589005025523412\"], [\"Threshold=-0.07636533596168954\"], [\"Threshold=0.40616983062896217\"], [\"Threshold=0.8887049972196139\"], [\"Threshold=1.3712401638102656\"], [\"Threshold=1.8537753304009172\"], [\"Threshold=2.336310496991569\"], [\"Threshold=2.8188456635822208\"], [\"Threshold=3.3013808301728726\"], [\"Threshold=3.7839159967635245\"], [\"Threshold=4.266451163354176\"], [\"Threshold=4.748986329944828\"], [\"Threshold=5.23152149653548\"]], \"hovertemplate\": \"FPR=%{x}<br>TPR=%{y}<br>Score=%{customdata[0]}<extra></extra>\", \"legendgroup\": \"\", \"line\": {\"color\": \"#636efa\"}, \"mode\": \"lines\", \"name\": \"\", \"orientation\": \"v\", \"showlegend\": false, \"stackgroup\": \"1\", \"type\": \"scatter\", \"x\": [0.9991735537190083, 0.9991735537190083, 0.9991735537190083, 0.9991735537190083, 0.9991735537190083, 0.9991735537190083, 0.9991735537190083, 0.9983471074380166, 0.9983471074380166, 0.9983471074380166, 0.9975206611570248, 0.9975206611570248, 0.9975206611570248, 0.9975206611570248, 0.9975206611570248, 0.9975206611570248, 0.9975206611570248, 0.9975206611570248, 0.9975206611570248, 0.996694214876033, 0.9958677685950413, 0.9958677685950413, 0.9958677685950413, 0.9958677685950413, 0.9958677685950413, 0.9958677685950413, 0.9958677685950413, 0.9958677685950413, 0.9958677685950413, 0.9958677685950413, 0.9958677685950413, 0.9958677685950413, 0.9958677685950413, 0.9958677685950413, 0.9958677685950413, 0.9958677685950413, 0.9958677685950413, 0.9958677685950413, 0.9958677685950413, 0.9958677685950413, 0.9958677685950413, 0.9950413223140496, 0.9950413223140496, 0.9950413223140496, 0.9950413223140496, 0.9950413223140496, 0.9942148760330578, 0.9925619834710744, 0.9925619834710744, 0.9925619834710744, 0.9925619834710744, 0.9925619834710744, 0.9925619834710744, 0.9925619834710744, 0.9925619834710744, 0.9925619834710744, 0.990909090909091, 0.990909090909091, 0.990909090909091, 0.990909090909091, 0.990909090909091, 0.9900826446280991, 0.9884297520661157, 0.9884297520661157, 0.9859504132231405, 0.9859504132231405, 0.9859504132231405, 0.9818181818181818, 0.9793388429752066, 0.9776859504132231, 0.9752066115702479, 0.9710743801652892, 0.9702479338842975, 0.9677685950413223, 0.9652892561983472, 0.9611570247933884, 0.952892561983471, 0.9479338842975207, 0.9388429752066115, 0.9272727272727272, 0.9082644628099174, 0.8818181818181818, 0.8314049586776859, 0.7603305785123967, 0.6495867768595042, 0.5198347107438016, 0.33140495867768593, 0.1859504132231405, 0.08264462809917356, 0.03140495867768595, 0.015702479338842976, 0.010743801652892562, 0.005785123966942148, 0.003305785123966942, 0.0024793388429752068, 0.0024793388429752068, 0.001652892561983471, 0.001652892561983471, 0.001652892561983471, 0.0008264462809917355], \"xaxis\": \"x\", \"y\": [1.0, 1.0, 1.0, 0.9992401215805471, 0.9992401215805471, 0.9992401215805471, 0.9992401215805471, 0.9992401215805471, 0.9992401215805471, 0.9992401215805471, 0.9992401215805471, 0.9992401215805471, 0.9992401215805471, 0.9992401215805471, 0.9992401215805471, 0.9992401215805471, 0.9992401215805471, 0.9992401215805471, 0.9992401215805471, 0.9992401215805471, 0.9992401215805471, 0.9992401215805471, 0.9992401215805471, 0.9992401215805471, 0.9992401215805471, 0.9992401215805471, 0.9992401215805471, 0.9992401215805471, 0.9992401215805471, 0.9992401215805471, 0.9992401215805471, 0.9992401215805471, 0.9992401215805471, 0.9992401215805471, 0.9992401215805471, 0.9992401215805471, 0.9992401215805471, 0.9992401215805471, 0.9992401215805471, 0.9992401215805471, 0.9992401215805471, 0.9992401215805471, 0.9992401215805471, 0.9992401215805471, 0.9992401215805471, 0.9992401215805471, 0.9992401215805471, 0.9992401215805471, 0.9992401215805471, 0.9992401215805471, 0.9992401215805471, 0.9992401215805471, 0.9992401215805471, 0.9992401215805471, 0.9992401215805471, 0.9992401215805471, 0.9992401215805471, 0.9984802431610942, 0.9984802431610942, 0.9984802431610942, 0.9984802431610942, 0.9984802431610942, 0.9984802431610942, 0.9984802431610942, 0.9984802431610942, 0.9984802431610942, 0.9984802431610942, 0.9984802431610942, 0.9984802431610942, 0.9984802431610942, 0.9984802431610942, 0.9984802431610942, 0.9984802431610942, 0.9984802431610942, 0.9984802431610942, 0.9984802431610942, 0.9984802431610942, 0.9984802431610942, 0.9984802431610942, 0.9984802431610942, 0.9962006079027356, 0.9946808510638298, 0.993161094224924, 0.9916413373860182, 0.9893617021276596, 0.9848024316109423, 0.9772036474164134, 0.9665653495440729, 0.9354103343465046, 0.8541033434650456, 0.7104863221884499, 0.4848024316109423, 0.2887537993920973, 0.1474164133738602, 0.06382978723404255, 0.02735562310030395, 0.00911854103343465, 0.0022796352583586625, 0.0007598784194528875, 0.0], \"yaxis\": \"y\"}],\n",
       "                        {\"legend\": {\"tracegroupgap\": 0}, \"template\": {\"data\": {\"bar\": [{\"error_x\": {\"color\": \"#2a3f5f\"}, \"error_y\": {\"color\": \"#2a3f5f\"}, \"marker\": {\"line\": {\"color\": \"#E5ECF6\", \"width\": 0.5}}, \"type\": \"bar\"}], \"barpolar\": [{\"marker\": {\"line\": {\"color\": \"#E5ECF6\", \"width\": 0.5}}, \"type\": \"barpolar\"}], \"carpet\": [{\"aaxis\": {\"endlinecolor\": \"#2a3f5f\", \"gridcolor\": \"white\", \"linecolor\": \"white\", \"minorgridcolor\": \"white\", \"startlinecolor\": \"#2a3f5f\"}, \"baxis\": {\"endlinecolor\": \"#2a3f5f\", \"gridcolor\": \"white\", \"linecolor\": \"white\", \"minorgridcolor\": \"white\", \"startlinecolor\": \"#2a3f5f\"}, \"type\": \"carpet\"}], \"choropleth\": [{\"colorbar\": {\"outlinewidth\": 0, \"ticks\": \"\"}, \"type\": \"choropleth\"}], \"contour\": [{\"colorbar\": {\"outlinewidth\": 0, \"ticks\": \"\"}, \"colorscale\": [[0.0, \"#0d0887\"], [0.1111111111111111, \"#46039f\"], [0.2222222222222222, \"#7201a8\"], [0.3333333333333333, \"#9c179e\"], [0.4444444444444444, \"#bd3786\"], [0.5555555555555556, \"#d8576b\"], [0.6666666666666666, \"#ed7953\"], [0.7777777777777778, \"#fb9f3a\"], [0.8888888888888888, \"#fdca26\"], [1.0, \"#f0f921\"]], \"type\": \"contour\"}], \"contourcarpet\": [{\"colorbar\": {\"outlinewidth\": 0, \"ticks\": \"\"}, \"type\": \"contourcarpet\"}], \"heatmap\": [{\"colorbar\": {\"outlinewidth\": 0, \"ticks\": \"\"}, \"colorscale\": [[0.0, \"#0d0887\"], [0.1111111111111111, \"#46039f\"], [0.2222222222222222, \"#7201a8\"], [0.3333333333333333, \"#9c179e\"], [0.4444444444444444, \"#bd3786\"], [0.5555555555555556, \"#d8576b\"], [0.6666666666666666, \"#ed7953\"], [0.7777777777777778, \"#fb9f3a\"], [0.8888888888888888, \"#fdca26\"], [1.0, \"#f0f921\"]], \"type\": \"heatmap\"}], \"heatmapgl\": [{\"colorbar\": {\"outlinewidth\": 0, \"ticks\": \"\"}, \"colorscale\": [[0.0, \"#0d0887\"], [0.1111111111111111, \"#46039f\"], [0.2222222222222222, \"#7201a8\"], [0.3333333333333333, \"#9c179e\"], [0.4444444444444444, \"#bd3786\"], [0.5555555555555556, \"#d8576b\"], [0.6666666666666666, \"#ed7953\"], [0.7777777777777778, \"#fb9f3a\"], [0.8888888888888888, \"#fdca26\"], [1.0, \"#f0f921\"]], \"type\": \"heatmapgl\"}], \"histogram\": [{\"marker\": {\"colorbar\": {\"outlinewidth\": 0, \"ticks\": \"\"}}, \"type\": \"histogram\"}], \"histogram2d\": [{\"colorbar\": {\"outlinewidth\": 0, \"ticks\": \"\"}, \"colorscale\": [[0.0, \"#0d0887\"], [0.1111111111111111, \"#46039f\"], [0.2222222222222222, \"#7201a8\"], [0.3333333333333333, \"#9c179e\"], [0.4444444444444444, \"#bd3786\"], [0.5555555555555556, \"#d8576b\"], [0.6666666666666666, \"#ed7953\"], [0.7777777777777778, \"#fb9f3a\"], [0.8888888888888888, \"#fdca26\"], [1.0, \"#f0f921\"]], \"type\": \"histogram2d\"}], \"histogram2dcontour\": [{\"colorbar\": {\"outlinewidth\": 0, \"ticks\": \"\"}, \"colorscale\": [[0.0, \"#0d0887\"], [0.1111111111111111, \"#46039f\"], [0.2222222222222222, \"#7201a8\"], [0.3333333333333333, \"#9c179e\"], [0.4444444444444444, \"#bd3786\"], [0.5555555555555556, \"#d8576b\"], [0.6666666666666666, \"#ed7953\"], [0.7777777777777778, \"#fb9f3a\"], [0.8888888888888888, \"#fdca26\"], [1.0, \"#f0f921\"]], \"type\": \"histogram2dcontour\"}], \"mesh3d\": [{\"colorbar\": {\"outlinewidth\": 0, \"ticks\": \"\"}, \"type\": \"mesh3d\"}], \"parcoords\": [{\"line\": {\"colorbar\": {\"outlinewidth\": 0, \"ticks\": \"\"}}, \"type\": \"parcoords\"}], \"pie\": [{\"automargin\": true, \"type\": \"pie\"}], \"scatter\": [{\"marker\": {\"colorbar\": {\"outlinewidth\": 0, \"ticks\": \"\"}}, \"type\": \"scatter\"}], \"scatter3d\": [{\"line\": {\"colorbar\": {\"outlinewidth\": 0, \"ticks\": \"\"}}, \"marker\": {\"colorbar\": {\"outlinewidth\": 0, \"ticks\": \"\"}}, \"type\": \"scatter3d\"}], \"scattercarpet\": [{\"marker\": {\"colorbar\": {\"outlinewidth\": 0, \"ticks\": \"\"}}, \"type\": \"scattercarpet\"}], \"scattergeo\": [{\"marker\": {\"colorbar\": {\"outlinewidth\": 0, \"ticks\": \"\"}}, \"type\": \"scattergeo\"}], \"scattergl\": [{\"marker\": {\"colorbar\": {\"outlinewidth\": 0, \"ticks\": \"\"}}, \"type\": \"scattergl\"}], \"scattermapbox\": [{\"marker\": {\"colorbar\": {\"outlinewidth\": 0, \"ticks\": \"\"}}, \"type\": \"scattermapbox\"}], \"scatterpolar\": [{\"marker\": {\"colorbar\": {\"outlinewidth\": 0, \"ticks\": \"\"}}, \"type\": \"scatterpolar\"}], \"scatterpolargl\": [{\"marker\": {\"colorbar\": {\"outlinewidth\": 0, \"ticks\": \"\"}}, \"type\": \"scatterpolargl\"}], \"scatterternary\": [{\"marker\": {\"colorbar\": {\"outlinewidth\": 0, \"ticks\": \"\"}}, \"type\": \"scatterternary\"}], \"surface\": [{\"colorbar\": {\"outlinewidth\": 0, \"ticks\": \"\"}, \"colorscale\": [[0.0, \"#0d0887\"], [0.1111111111111111, \"#46039f\"], [0.2222222222222222, \"#7201a8\"], [0.3333333333333333, \"#9c179e\"], [0.4444444444444444, \"#bd3786\"], [0.5555555555555556, \"#d8576b\"], [0.6666666666666666, \"#ed7953\"], [0.7777777777777778, \"#fb9f3a\"], [0.8888888888888888, \"#fdca26\"], [1.0, \"#f0f921\"]], \"type\": \"surface\"}], \"table\": [{\"cells\": {\"fill\": {\"color\": \"#EBF0F8\"}, \"line\": {\"color\": \"white\"}}, \"header\": {\"fill\": {\"color\": \"#C8D4E3\"}, \"line\": {\"color\": \"white\"}}, \"type\": \"table\"}]}, \"layout\": {\"annotationdefaults\": {\"arrowcolor\": \"#2a3f5f\", \"arrowhead\": 0, \"arrowwidth\": 1}, \"coloraxis\": {\"colorbar\": {\"outlinewidth\": 0, \"ticks\": \"\"}}, \"colorscale\": {\"diverging\": [[0, \"#8e0152\"], [0.1, \"#c51b7d\"], [0.2, \"#de77ae\"], [0.3, \"#f1b6da\"], [0.4, \"#fde0ef\"], [0.5, \"#f7f7f7\"], [0.6, \"#e6f5d0\"], [0.7, \"#b8e186\"], [0.8, \"#7fbc41\"], [0.9, \"#4d9221\"], [1, \"#276419\"]], \"sequential\": [[0.0, \"#0d0887\"], [0.1111111111111111, \"#46039f\"], [0.2222222222222222, \"#7201a8\"], [0.3333333333333333, \"#9c179e\"], [0.4444444444444444, \"#bd3786\"], [0.5555555555555556, \"#d8576b\"], [0.6666666666666666, \"#ed7953\"], [0.7777777777777778, \"#fb9f3a\"], [0.8888888888888888, \"#fdca26\"], [1.0, \"#f0f921\"]], \"sequentialminus\": [[0.0, \"#0d0887\"], [0.1111111111111111, \"#46039f\"], [0.2222222222222222, \"#7201a8\"], [0.3333333333333333, \"#9c179e\"], [0.4444444444444444, \"#bd3786\"], [0.5555555555555556, \"#d8576b\"], [0.6666666666666666, \"#ed7953\"], [0.7777777777777778, \"#fb9f3a\"], [0.8888888888888888, \"#fdca26\"], [1.0, \"#f0f921\"]]}, \"colorway\": [\"#636efa\", \"#EF553B\", \"#00cc96\", \"#ab63fa\", \"#FFA15A\", \"#19d3f3\", \"#FF6692\", \"#B6E880\", \"#FF97FF\", \"#FECB52\"], \"font\": {\"color\": \"#2a3f5f\"}, \"geo\": {\"bgcolor\": \"white\", \"lakecolor\": \"white\", \"landcolor\": \"#E5ECF6\", \"showlakes\": true, \"showland\": true, \"subunitcolor\": \"white\"}, \"hoverlabel\": {\"align\": \"left\"}, \"hovermode\": \"closest\", \"mapbox\": {\"style\": \"light\"}, \"paper_bgcolor\": \"white\", \"plot_bgcolor\": \"#E5ECF6\", \"polar\": {\"angularaxis\": {\"gridcolor\": \"white\", \"linecolor\": \"white\", \"ticks\": \"\"}, \"bgcolor\": \"#E5ECF6\", \"radialaxis\": {\"gridcolor\": \"white\", \"linecolor\": \"white\", \"ticks\": \"\"}}, \"scene\": {\"xaxis\": {\"backgroundcolor\": \"#E5ECF6\", \"gridcolor\": \"white\", \"gridwidth\": 2, \"linecolor\": \"white\", \"showbackground\": true, \"ticks\": \"\", \"zerolinecolor\": \"white\"}, \"yaxis\": {\"backgroundcolor\": \"#E5ECF6\", \"gridcolor\": \"white\", \"gridwidth\": 2, \"linecolor\": \"white\", \"showbackground\": true, \"ticks\": \"\", \"zerolinecolor\": \"white\"}, \"zaxis\": {\"backgroundcolor\": \"#E5ECF6\", \"gridcolor\": \"white\", \"gridwidth\": 2, \"linecolor\": \"white\", \"showbackground\": true, \"ticks\": \"\", \"zerolinecolor\": \"white\"}}, \"shapedefaults\": {\"line\": {\"color\": \"#2a3f5f\"}}, \"ternary\": {\"aaxis\": {\"gridcolor\": \"white\", \"linecolor\": \"white\", \"ticks\": \"\"}, \"baxis\": {\"gridcolor\": \"white\", \"linecolor\": \"white\", \"ticks\": \"\"}, \"bgcolor\": \"#E5ECF6\", \"caxis\": {\"gridcolor\": \"white\", \"linecolor\": \"white\", \"ticks\": \"\"}}, \"title\": {\"x\": 0.05}, \"xaxis\": {\"automargin\": true, \"gridcolor\": \"white\", \"linecolor\": \"white\", \"ticks\": \"\", \"title\": {\"standoff\": 15}, \"zerolinecolor\": \"white\", \"zerolinewidth\": 2}, \"yaxis\": {\"automargin\": true, \"gridcolor\": \"white\", \"linecolor\": \"white\", \"ticks\": \"\", \"title\": {\"standoff\": 15}, \"zerolinecolor\": \"white\", \"zerolinewidth\": 2}}}, \"title\": {\"text\": \"ROC test Curve\"}, \"xaxis\": {\"anchor\": \"y\", \"domain\": [0.0, 1.0], \"title\": {\"text\": \"FPR\"}}, \"yaxis\": {\"anchor\": \"x\", \"domain\": [0.0, 1.0], \"title\": {\"text\": \"TPR\"}}},\n",
       "                        {\"responsive\": true}\n",
       "                    ).then(function(){\n",
       "                            \n",
       "var gd = document.getElementById('0d61cef9-0070-455f-bb82-a8d498f862a0');\n",
       "var x = new MutationObserver(function (mutations, observer) {{\n",
       "        var display = window.getComputedStyle(gd).display;\n",
       "        if (!display || display === 'none') {{\n",
       "            console.log([gd, 'removed!']);\n",
       "            Plotly.purge(gd);\n",
       "            observer.disconnect();\n",
       "        }}\n",
       "}});\n",
       "\n",
       "// Listen for the removal of the full notebook cells\n",
       "var notebookContainer = gd.closest('#notebook-container');\n",
       "if (notebookContainer) {{\n",
       "    x.observe(notebookContainer, {childList: true});\n",
       "}}\n",
       "\n",
       "// Listen for the clearing of the current output cell\n",
       "var outputEl = gd.closest('.output');\n",
       "if (outputEl) {{\n",
       "    x.observe(outputEl, {childList: true});\n",
       "}}\n",
       "\n",
       "                        })\n",
       "                };\n",
       "                });\n",
       "            </script>\n",
       "        </div>"
      ]
     },
     "metadata": {},
     "output_type": "display_data"
    },
    {
     "data": {
      "text/html": [
       "<div>\n",
       "        \n",
       "        \n",
       "            <div id=\"3ac7bca5-5cc6-4b3c-9aef-05bbe1b736fd\" class=\"plotly-graph-div\" style=\"height:525px; width:100%;\"></div>\n",
       "            <script type=\"text/javascript\">\n",
       "                require([\"plotly\"], function(Plotly) {\n",
       "                    window.PLOTLYENV=window.PLOTLYENV || {};\n",
       "                    \n",
       "                if (document.getElementById(\"3ac7bca5-5cc6-4b3c-9aef-05bbe1b736fd\")) {\n",
       "                    Plotly.newPlot(\n",
       "                        '3ac7bca5-5cc6-4b3c-9aef-05bbe1b736fd',\n",
       "                        [{\"customdata\": [[\"Threshold=-47.56406654786099\"], [\"Threshold=-46.97967367989526\"], [\"Threshold=-46.395280811929524\"], [\"Threshold=-45.81088794396379\"], [\"Threshold=-45.22649507599806\"], [\"Threshold=-44.64210220803233\"], [\"Threshold=-44.057709340066594\"], [\"Threshold=-43.47331647210086\"], [\"Threshold=-42.88892360413513\"], [\"Threshold=-42.3045307361694\"], [\"Threshold=-41.720137868203665\"], [\"Threshold=-41.13574500023793\"], [\"Threshold=-40.5513521322722\"], [\"Threshold=-39.96695926430647\"], [\"Threshold=-39.382566396340735\"], [\"Threshold=-38.798173528375\"], [\"Threshold=-38.21378066040927\"], [\"Threshold=-37.62938779244354\"], [\"Threshold=-37.044994924477805\"], [\"Threshold=-36.46060205651207\"], [\"Threshold=-35.87620918854634\"], [\"Threshold=-35.29181632058061\"], [\"Threshold=-34.707423452614876\"], [\"Threshold=-34.12303058464914\"], [\"Threshold=-33.53863771668341\"], [\"Threshold=-32.95424484871768\"], [\"Threshold=-32.369851980751946\"], [\"Threshold=-31.785459112786214\"], [\"Threshold=-31.20106624482048\"], [\"Threshold=-30.61667337685475\"], [\"Threshold=-30.032280508889016\"], [\"Threshold=-29.447887640923284\"], [\"Threshold=-28.86349477295755\"], [\"Threshold=-28.27910190499182\"], [\"Threshold=-27.694709037026087\"], [\"Threshold=-27.110316169060354\"], [\"Threshold=-26.525923301094622\"], [\"Threshold=-25.94153043312889\"], [\"Threshold=-25.357137565163157\"], [\"Threshold=-24.772744697197425\"], [\"Threshold=-24.188351829231692\"], [\"Threshold=-23.60395896126596\"], [\"Threshold=-23.019566093300227\"], [\"Threshold=-22.435173225334495\"], [\"Threshold=-21.850780357368762\"], [\"Threshold=-21.26638748940303\"], [\"Threshold=-20.681994621437298\"], [\"Threshold=-20.097601753471565\"], [\"Threshold=-19.513208885505833\"], [\"Threshold=-18.9288160175401\"], [\"Threshold=-18.344423149574368\"], [\"Threshold=-17.760030281608636\"], [\"Threshold=-17.175637413642903\"], [\"Threshold=-16.59124454567717\"], [\"Threshold=-16.00685167771144\"], [\"Threshold=-15.422458809745708\"], [\"Threshold=-14.838065941779977\"], [\"Threshold=-14.253673073814246\"], [\"Threshold=-13.669280205848516\"], [\"Threshold=-13.084887337882785\"], [\"Threshold=-12.500494469917054\"], [\"Threshold=-11.916101601951324\"], [\"Threshold=-11.331708733985593\"], [\"Threshold=-10.747315866019862\"], [\"Threshold=-10.162922998054132\"], [\"Threshold=-9.578530130088401\"], [\"Threshold=-8.99413726212267\"], [\"Threshold=-8.40974439415694\"], [\"Threshold=-7.825351526191209\"], [\"Threshold=-7.240958658225479\"], [\"Threshold=-6.656565790259748\"], [\"Threshold=-6.072172922294017\"], [\"Threshold=-5.487780054328287\"], [\"Threshold=-4.903387186362556\"], [\"Threshold=-4.318994318396825\"], [\"Threshold=-3.7346014504310943\"], [\"Threshold=-3.150208582465363\"], [\"Threshold=-2.565815714499632\"], [\"Threshold=-1.981422846533901\"], [\"Threshold=-1.39702997856817\"], [\"Threshold=-0.8126371106024388\"], [\"Threshold=-0.22824424263670773\"], [\"Threshold=0.35614862532902336\"], [\"Threshold=0.9405414932947544\"], [\"Threshold=1.5249343612604855\"], [\"Threshold=2.1093272292262166\"], [\"Threshold=2.6937200971919477\"], [\"Threshold=3.278112965157679\"], [\"Threshold=3.86250583312341\"], [\"Threshold=4.446898701089141\"], [\"Threshold=5.031291569054872\"], [\"Threshold=5.615684437020603\"], [\"Threshold=6.200077304986333\"], [\"Threshold=6.784470172952064\"], [\"Threshold=7.368863040917795\"], [\"Threshold=7.953255908883525\"], [\"Threshold=8.537648776849256\"], [\"Threshold=9.122041644814987\"], [\"Threshold=9.706434512780717\"], [\"Threshold=10.290827380746448\"]], \"hovertemplate\": \"FPR=%{x}<br>TPR=%{y}<br>Score=%{customdata[0]}<extra></extra>\", \"legendgroup\": \"\", \"line\": {\"color\": \"#636efa\"}, \"mode\": \"lines\", \"name\": \"\", \"orientation\": \"v\", \"showlegend\": false, \"stackgroup\": \"1\", \"type\": \"scatter\", \"x\": [0.9998040368410739, 0.9998040368410739, 0.9998040368410739, 0.9998040368410739, 0.9998040368410739, 0.9998040368410739, 0.9998040368410739, 0.9998040368410739, 0.9996080736821478, 0.9994121105232217, 0.9992161473642955, 0.9992161473642955, 0.9992161473642955, 0.9988242210464433, 0.9988242210464433, 0.9988242210464433, 0.9982363315696648, 0.9978444052518126, 0.9974524789339604, 0.9972565157750343, 0.9972565157750343, 0.9972565157750343, 0.9972565157750343, 0.9972565157750343, 0.9966686262982559, 0.9964726631393298, 0.9962766999804037, 0.9958847736625515, 0.9956888105036253, 0.9954928473446992, 0.995100921026847, 0.995100921026847, 0.9943170683911424, 0.9941211052322163, 0.9939251420732902, 0.993533215755438, 0.993533215755438, 0.9933372525965118, 0.9933372525965118, 0.9931412894375857, 0.9925533999608074, 0.9923574368018813, 0.9923574368018813, 0.9921614736429551, 0.9921614736429551, 0.9921614736429551, 0.991965510484029, 0.991965510484029, 0.9915735841661768, 0.9911816578483245, 0.9909856946893983, 0.9909856946893983, 0.9909856946893983, 0.99039780521262, 0.9900058788947678, 0.9900058788947678, 0.9894179894179894, 0.988634136782285, 0.9878502841465805, 0.9868704683519498, 0.985498726239467, 0.9849108367626886, 0.9821673525377229, 0.9796198314716833, 0.9786400156770527, 0.9768763472467176, 0.9745247893396042, 0.9711934156378601, 0.967862041936116, 0.9647266313932981, 0.9600235155790712, 0.9557123260826964, 0.9474818734077993, 0.9361160101900843, 0.9208308837938468, 0.8951597099745248, 0.853811483441113, 0.7787575935724084, 0.6545169508132471, 0.47266313932980597, 0.24279835390946503, 0.08034489515970998, 0.019988242210464434, 0.005095042132079169, 0.0011757789535567313, 0.0003919263178522438, 0.0001959631589261219, 0.0, 0.0, 0.0, 0.0, 0.0, 0.0, 0.0, 0.0, 0.0, 0.0, 0.0, 0.0, 0.0], \"xaxis\": \"x\", \"y\": [1.0, 1.0, 1.0, 1.0, 1.0, 1.0, 1.0, 1.0, 1.0, 1.0, 1.0, 1.0, 1.0, 1.0, 1.0, 1.0, 1.0, 1.0, 1.0, 1.0, 1.0, 1.0, 1.0, 1.0, 1.0, 1.0, 1.0, 1.0, 1.0, 1.0, 1.0, 1.0, 1.0, 1.0, 1.0, 1.0, 1.0, 1.0, 1.0, 1.0, 1.0, 1.0, 1.0, 1.0, 1.0, 1.0, 1.0, 1.0, 1.0, 1.0, 1.0, 1.0, 1.0, 1.0, 1.0, 1.0, 1.0, 1.0, 1.0, 1.0, 1.0, 1.0, 1.0, 1.0, 1.0, 1.0, 1.0, 1.0, 1.0, 1.0, 1.0, 1.0, 1.0, 1.0, 0.9997998799279568, 0.9997998799279568, 0.9995997598559135, 0.9993996397838704, 0.9983990394236542, 0.995597358415049, 0.9897938763257955, 0.9713828296978186, 0.8983390034020412, 0.6844106463878327, 0.40424254552731637, 0.19731839103462076, 0.07684610766459876, 0.024414648789273564, 0.008004802881729037, 0.003602161296778067, 0.0022013207924754855, 0.0012007204322593557, 0.0010006003602161296, 0.0008004802881729037, 0.0006003602161296778, 0.00040024014408645187, 0.00040024014408645187, 0.00040024014408645187, 0.00020012007204322593, 0.00020012007204322593], \"yaxis\": \"y\"}],\n",
       "                        {\"legend\": {\"tracegroupgap\": 0}, \"template\": {\"data\": {\"bar\": [{\"error_x\": {\"color\": \"#2a3f5f\"}, \"error_y\": {\"color\": \"#2a3f5f\"}, \"marker\": {\"line\": {\"color\": \"#E5ECF6\", \"width\": 0.5}}, \"type\": \"bar\"}], \"barpolar\": [{\"marker\": {\"line\": {\"color\": \"#E5ECF6\", \"width\": 0.5}}, \"type\": \"barpolar\"}], \"carpet\": [{\"aaxis\": {\"endlinecolor\": \"#2a3f5f\", \"gridcolor\": \"white\", \"linecolor\": \"white\", \"minorgridcolor\": \"white\", \"startlinecolor\": \"#2a3f5f\"}, \"baxis\": {\"endlinecolor\": \"#2a3f5f\", \"gridcolor\": \"white\", \"linecolor\": \"white\", \"minorgridcolor\": \"white\", \"startlinecolor\": \"#2a3f5f\"}, \"type\": \"carpet\"}], \"choropleth\": [{\"colorbar\": {\"outlinewidth\": 0, \"ticks\": \"\"}, \"type\": \"choropleth\"}], \"contour\": [{\"colorbar\": {\"outlinewidth\": 0, \"ticks\": \"\"}, \"colorscale\": [[0.0, \"#0d0887\"], [0.1111111111111111, \"#46039f\"], [0.2222222222222222, \"#7201a8\"], [0.3333333333333333, \"#9c179e\"], [0.4444444444444444, \"#bd3786\"], [0.5555555555555556, \"#d8576b\"], [0.6666666666666666, \"#ed7953\"], [0.7777777777777778, \"#fb9f3a\"], [0.8888888888888888, \"#fdca26\"], [1.0, \"#f0f921\"]], \"type\": \"contour\"}], \"contourcarpet\": [{\"colorbar\": {\"outlinewidth\": 0, \"ticks\": \"\"}, \"type\": \"contourcarpet\"}], \"heatmap\": [{\"colorbar\": {\"outlinewidth\": 0, \"ticks\": \"\"}, \"colorscale\": [[0.0, \"#0d0887\"], [0.1111111111111111, \"#46039f\"], [0.2222222222222222, \"#7201a8\"], [0.3333333333333333, \"#9c179e\"], [0.4444444444444444, \"#bd3786\"], [0.5555555555555556, \"#d8576b\"], [0.6666666666666666, \"#ed7953\"], [0.7777777777777778, \"#fb9f3a\"], [0.8888888888888888, \"#fdca26\"], [1.0, \"#f0f921\"]], \"type\": \"heatmap\"}], \"heatmapgl\": [{\"colorbar\": {\"outlinewidth\": 0, \"ticks\": \"\"}, \"colorscale\": [[0.0, \"#0d0887\"], [0.1111111111111111, \"#46039f\"], [0.2222222222222222, \"#7201a8\"], [0.3333333333333333, \"#9c179e\"], [0.4444444444444444, \"#bd3786\"], [0.5555555555555556, \"#d8576b\"], [0.6666666666666666, \"#ed7953\"], [0.7777777777777778, \"#fb9f3a\"], [0.8888888888888888, \"#fdca26\"], [1.0, \"#f0f921\"]], \"type\": \"heatmapgl\"}], \"histogram\": [{\"marker\": {\"colorbar\": {\"outlinewidth\": 0, \"ticks\": \"\"}}, \"type\": \"histogram\"}], \"histogram2d\": [{\"colorbar\": {\"outlinewidth\": 0, \"ticks\": \"\"}, \"colorscale\": [[0.0, \"#0d0887\"], [0.1111111111111111, \"#46039f\"], [0.2222222222222222, \"#7201a8\"], [0.3333333333333333, \"#9c179e\"], [0.4444444444444444, \"#bd3786\"], [0.5555555555555556, \"#d8576b\"], [0.6666666666666666, \"#ed7953\"], [0.7777777777777778, \"#fb9f3a\"], [0.8888888888888888, \"#fdca26\"], [1.0, \"#f0f921\"]], \"type\": \"histogram2d\"}], \"histogram2dcontour\": [{\"colorbar\": {\"outlinewidth\": 0, \"ticks\": \"\"}, \"colorscale\": [[0.0, \"#0d0887\"], [0.1111111111111111, \"#46039f\"], [0.2222222222222222, \"#7201a8\"], [0.3333333333333333, \"#9c179e\"], [0.4444444444444444, \"#bd3786\"], [0.5555555555555556, \"#d8576b\"], [0.6666666666666666, \"#ed7953\"], [0.7777777777777778, \"#fb9f3a\"], [0.8888888888888888, \"#fdca26\"], [1.0, \"#f0f921\"]], \"type\": \"histogram2dcontour\"}], \"mesh3d\": [{\"colorbar\": {\"outlinewidth\": 0, \"ticks\": \"\"}, \"type\": \"mesh3d\"}], \"parcoords\": [{\"line\": {\"colorbar\": {\"outlinewidth\": 0, \"ticks\": \"\"}}, \"type\": \"parcoords\"}], \"pie\": [{\"automargin\": true, \"type\": \"pie\"}], \"scatter\": [{\"marker\": {\"colorbar\": {\"outlinewidth\": 0, \"ticks\": \"\"}}, \"type\": \"scatter\"}], \"scatter3d\": [{\"line\": {\"colorbar\": {\"outlinewidth\": 0, \"ticks\": \"\"}}, \"marker\": {\"colorbar\": {\"outlinewidth\": 0, \"ticks\": \"\"}}, \"type\": \"scatter3d\"}], \"scattercarpet\": [{\"marker\": {\"colorbar\": {\"outlinewidth\": 0, \"ticks\": \"\"}}, \"type\": \"scattercarpet\"}], \"scattergeo\": [{\"marker\": {\"colorbar\": {\"outlinewidth\": 0, \"ticks\": \"\"}}, \"type\": \"scattergeo\"}], \"scattergl\": [{\"marker\": {\"colorbar\": {\"outlinewidth\": 0, \"ticks\": \"\"}}, \"type\": \"scattergl\"}], \"scattermapbox\": [{\"marker\": {\"colorbar\": {\"outlinewidth\": 0, \"ticks\": \"\"}}, \"type\": \"scattermapbox\"}], \"scatterpolar\": [{\"marker\": {\"colorbar\": {\"outlinewidth\": 0, \"ticks\": \"\"}}, \"type\": \"scatterpolar\"}], \"scatterpolargl\": [{\"marker\": {\"colorbar\": {\"outlinewidth\": 0, \"ticks\": \"\"}}, \"type\": \"scatterpolargl\"}], \"scatterternary\": [{\"marker\": {\"colorbar\": {\"outlinewidth\": 0, \"ticks\": \"\"}}, \"type\": \"scatterternary\"}], \"surface\": [{\"colorbar\": {\"outlinewidth\": 0, \"ticks\": \"\"}, \"colorscale\": [[0.0, \"#0d0887\"], [0.1111111111111111, \"#46039f\"], [0.2222222222222222, \"#7201a8\"], [0.3333333333333333, \"#9c179e\"], [0.4444444444444444, \"#bd3786\"], [0.5555555555555556, \"#d8576b\"], [0.6666666666666666, \"#ed7953\"], [0.7777777777777778, \"#fb9f3a\"], [0.8888888888888888, \"#fdca26\"], [1.0, \"#f0f921\"]], \"type\": \"surface\"}], \"table\": [{\"cells\": {\"fill\": {\"color\": \"#EBF0F8\"}, \"line\": {\"color\": \"white\"}}, \"header\": {\"fill\": {\"color\": \"#C8D4E3\"}, \"line\": {\"color\": \"white\"}}, \"type\": \"table\"}]}, \"layout\": {\"annotationdefaults\": {\"arrowcolor\": \"#2a3f5f\", \"arrowhead\": 0, \"arrowwidth\": 1}, \"coloraxis\": {\"colorbar\": {\"outlinewidth\": 0, \"ticks\": \"\"}}, \"colorscale\": {\"diverging\": [[0, \"#8e0152\"], [0.1, \"#c51b7d\"], [0.2, \"#de77ae\"], [0.3, \"#f1b6da\"], [0.4, \"#fde0ef\"], [0.5, \"#f7f7f7\"], [0.6, \"#e6f5d0\"], [0.7, \"#b8e186\"], [0.8, \"#7fbc41\"], [0.9, \"#4d9221\"], [1, \"#276419\"]], \"sequential\": [[0.0, \"#0d0887\"], [0.1111111111111111, \"#46039f\"], [0.2222222222222222, \"#7201a8\"], [0.3333333333333333, \"#9c179e\"], [0.4444444444444444, \"#bd3786\"], [0.5555555555555556, \"#d8576b\"], [0.6666666666666666, \"#ed7953\"], [0.7777777777777778, \"#fb9f3a\"], [0.8888888888888888, \"#fdca26\"], [1.0, \"#f0f921\"]], \"sequentialminus\": [[0.0, \"#0d0887\"], [0.1111111111111111, \"#46039f\"], [0.2222222222222222, \"#7201a8\"], [0.3333333333333333, \"#9c179e\"], [0.4444444444444444, \"#bd3786\"], [0.5555555555555556, \"#d8576b\"], [0.6666666666666666, \"#ed7953\"], [0.7777777777777778, \"#fb9f3a\"], [0.8888888888888888, \"#fdca26\"], [1.0, \"#f0f921\"]]}, \"colorway\": [\"#636efa\", \"#EF553B\", \"#00cc96\", \"#ab63fa\", \"#FFA15A\", \"#19d3f3\", \"#FF6692\", \"#B6E880\", \"#FF97FF\", \"#FECB52\"], \"font\": {\"color\": \"#2a3f5f\"}, \"geo\": {\"bgcolor\": \"white\", \"lakecolor\": \"white\", \"landcolor\": \"#E5ECF6\", \"showlakes\": true, \"showland\": true, \"subunitcolor\": \"white\"}, \"hoverlabel\": {\"align\": \"left\"}, \"hovermode\": \"closest\", \"mapbox\": {\"style\": \"light\"}, \"paper_bgcolor\": \"white\", \"plot_bgcolor\": \"#E5ECF6\", \"polar\": {\"angularaxis\": {\"gridcolor\": \"white\", \"linecolor\": \"white\", \"ticks\": \"\"}, \"bgcolor\": \"#E5ECF6\", \"radialaxis\": {\"gridcolor\": \"white\", \"linecolor\": \"white\", \"ticks\": \"\"}}, \"scene\": {\"xaxis\": {\"backgroundcolor\": \"#E5ECF6\", \"gridcolor\": \"white\", \"gridwidth\": 2, \"linecolor\": \"white\", \"showbackground\": true, \"ticks\": \"\", \"zerolinecolor\": \"white\"}, \"yaxis\": {\"backgroundcolor\": \"#E5ECF6\", \"gridcolor\": \"white\", \"gridwidth\": 2, \"linecolor\": \"white\", \"showbackground\": true, \"ticks\": \"\", \"zerolinecolor\": \"white\"}, \"zaxis\": {\"backgroundcolor\": \"#E5ECF6\", \"gridcolor\": \"white\", \"gridwidth\": 2, \"linecolor\": \"white\", \"showbackground\": true, \"ticks\": \"\", \"zerolinecolor\": \"white\"}}, \"shapedefaults\": {\"line\": {\"color\": \"#2a3f5f\"}}, \"ternary\": {\"aaxis\": {\"gridcolor\": \"white\", \"linecolor\": \"white\", \"ticks\": \"\"}, \"baxis\": {\"gridcolor\": \"white\", \"linecolor\": \"white\", \"ticks\": \"\"}, \"bgcolor\": \"#E5ECF6\", \"caxis\": {\"gridcolor\": \"white\", \"linecolor\": \"white\", \"ticks\": \"\"}}, \"title\": {\"x\": 0.05}, \"xaxis\": {\"automargin\": true, \"gridcolor\": \"white\", \"linecolor\": \"white\", \"ticks\": \"\", \"title\": {\"standoff\": 15}, \"zerolinecolor\": \"white\", \"zerolinewidth\": 2}, \"yaxis\": {\"automargin\": true, \"gridcolor\": \"white\", \"linecolor\": \"white\", \"ticks\": \"\", \"title\": {\"standoff\": 15}, \"zerolinecolor\": \"white\", \"zerolinewidth\": 2}}}, \"title\": {\"text\": \"ROC train Curve\"}, \"xaxis\": {\"anchor\": \"y\", \"domain\": [0.0, 1.0], \"title\": {\"text\": \"FPR\"}}, \"yaxis\": {\"anchor\": \"x\", \"domain\": [0.0, 1.0], \"title\": {\"text\": \"TPR\"}}},\n",
       "                        {\"responsive\": true}\n",
       "                    ).then(function(){\n",
       "                            \n",
       "var gd = document.getElementById('3ac7bca5-5cc6-4b3c-9aef-05bbe1b736fd');\n",
       "var x = new MutationObserver(function (mutations, observer) {{\n",
       "        var display = window.getComputedStyle(gd).display;\n",
       "        if (!display || display === 'none') {{\n",
       "            console.log([gd, 'removed!']);\n",
       "            Plotly.purge(gd);\n",
       "            observer.disconnect();\n",
       "        }}\n",
       "}});\n",
       "\n",
       "// Listen for the removal of the full notebook cells\n",
       "var notebookContainer = gd.closest('#notebook-container');\n",
       "if (notebookContainer) {{\n",
       "    x.observe(notebookContainer, {childList: true});\n",
       "}}\n",
       "\n",
       "// Listen for the clearing of the current output cell\n",
       "var outputEl = gd.closest('.output');\n",
       "if (outputEl) {{\n",
       "    x.observe(outputEl, {childList: true});\n",
       "}}\n",
       "\n",
       "                        })\n",
       "                };\n",
       "                });\n",
       "            </script>\n",
       "        </div>"
      ]
     },
     "metadata": {},
     "output_type": "display_data"
    }
   ],
   "source": [
    "fig = px.area(x=fpr_test,y=tpr_test,labels={'x':'FPR', 'y':'TPR'},\n",
    "                          hover_data={'Score':thresholds_test},title='ROC test Curve')\n",
    "fig.show()\n",
    "\n",
    "fig2 = px.area(x=fpr_train,y=tpr_train,labels={'x':'FPR', 'y':'TPR'},\n",
    "                          hover_data={'Score':thresholds_train},title='ROC train Curve')\n",
    "fig2.show()"
   ]
  },
  {
   "cell_type": "markdown",
   "metadata": {
    "colab_type": "text",
    "id": "M7UeI_rEMEV4"
   },
   "source": [
    "# Task 7: A different Classifier\n",
    "Run with a different classifier (and the large background statistics): the SGDClassifier. \n",
    "\n",
    "Using the \"runFitter method and the binaryPerformance method should make this very easy.\n",
    "\n",
    "As before, print out the precision, recall, and AUC of the test and train samples. The plot the ROC for both test and train. \n",
    "\n",
    "Compare your results to the LinearSVC classifier."
   ]
  },
  {
   "cell_type": "code",
   "execution_count": 34,
   "metadata": {
    "colab": {},
    "colab_type": "code",
    "id": "9k3g50UJMOdc"
   },
   "outputs": [
    {
     "name": "stdout",
     "output_type": "stream",
     "text": [
      "AUC training data:  0.9845044592893302\n",
      "AUC testing data:   0.9636037077042879\n",
      "AUC SGD training data:  0.9800924842579466\n",
      "AUC SGD testing data:   0.9658447210429801\n"
     ]
    }
   ],
   "source": [
    "# Your code goes here\n",
    "# run the fitter\n",
    "from sklearn.linear_model import SGDClassifier\n",
    "\n",
    "estimatorSGD = SGDClassifier(random_state=42) ##\n",
    "# Test the fitter\n",
    "y_train,y_train_pred,y_train_score,y_train_digit,y_test,y_test_pred,y_test_score,y_test_digit = runFitter(dfCombined,estimatorSGD)\n",
    "# Now get the performaance\n",
    "precision_test,recall_test,auc_sgd_test,fpr_test, tpr_test, thresholds_test = binaryPerformance(y_test,y_test_pred,y_test_score,debug=False)\n",
    "precision_train,recall_train,auc_sgd_train,fpr_train, tpr_train, thresholds_train = binaryPerformance(y_train,y_train_pred,y_train_score,debug=False)\n",
    "\n",
    "print(\"AUC training data: \",auc_train)\n",
    "print(\"AUC testing data:  \",auc_test)\n",
    "print(\"AUC SGD training data: \",auc_sgd_train)\n",
    "print(\"AUC SGD testing data:  \",auc_sgd_test)\n"
   ]
  },
  {
   "cell_type": "code",
   "execution_count": 35,
   "metadata": {
    "colab": {},
    "colab_type": "code",
    "id": "ka-IYMyxNN1U"
   },
   "outputs": [
    {
     "data": {
      "text/html": [
       "<div>\n",
       "        \n",
       "        \n",
       "            <div id=\"d5912c90-7f66-46ba-8df7-c59d2cbe6a3e\" class=\"plotly-graph-div\" style=\"height:525px; width:100%;\"></div>\n",
       "            <script type=\"text/javascript\">\n",
       "                require([\"plotly\"], function(Plotly) {\n",
       "                    window.PLOTLYENV=window.PLOTLYENV || {};\n",
       "                    \n",
       "                if (document.getElementById(\"d5912c90-7f66-46ba-8df7-c59d2cbe6a3e\")) {\n",
       "                    Plotly.newPlot(\n",
       "                        'd5912c90-7f66-46ba-8df7-c59d2cbe6a3e',\n",
       "                        [{\"customdata\": [[\"Threshold=-252353.2547349668\"], [\"Threshold=-248675.84355188676\"], [\"Threshold=-244998.43236880674\"], [\"Threshold=-241321.0211857267\"], [\"Threshold=-237643.6100026467\"], [\"Threshold=-233966.19881956666\"], [\"Threshold=-230288.78763648664\"], [\"Threshold=-226611.3764534066\"], [\"Threshold=-222933.9652703266\"], [\"Threshold=-219256.55408724656\"], [\"Threshold=-215579.14290416654\"], [\"Threshold=-211901.73172108651\"], [\"Threshold=-208224.3205380065\"], [\"Threshold=-204546.90935492647\"], [\"Threshold=-200869.49817184644\"], [\"Threshold=-197192.08698876642\"], [\"Threshold=-193514.6758056864\"], [\"Threshold=-189837.26462260637\"], [\"Threshold=-186159.85343952634\"], [\"Threshold=-182482.44225644632\"], [\"Threshold=-178805.0310733663\"], [\"Threshold=-175127.61989028627\"], [\"Threshold=-171450.20870720624\"], [\"Threshold=-167772.79752412622\"], [\"Threshold=-164095.3863410462\"], [\"Threshold=-160417.97515796617\"], [\"Threshold=-156740.56397488614\"], [\"Threshold=-153063.15279180612\"], [\"Threshold=-149385.7416087261\"], [\"Threshold=-145708.33042564607\"], [\"Threshold=-142030.91924256604\"], [\"Threshold=-138353.50805948602\"], [\"Threshold=-134676.096876406\"], [\"Threshold=-130998.68569332598\"], [\"Threshold=-127321.27451024597\"], [\"Threshold=-123643.86332716596\"], [\"Threshold=-119966.45214408595\"], [\"Threshold=-116289.04096100594\"], [\"Threshold=-112611.62977792593\"], [\"Threshold=-108934.21859484592\"], [\"Threshold=-105256.80741176591\"], [\"Threshold=-101579.3962286859\"], [\"Threshold=-97901.98504560589\"], [\"Threshold=-94224.57386252588\"], [\"Threshold=-90547.16267944587\"], [\"Threshold=-86869.75149636586\"], [\"Threshold=-83192.34031328585\"], [\"Threshold=-79514.92913020584\"], [\"Threshold=-75837.51794712583\"], [\"Threshold=-72160.10676404582\"], [\"Threshold=-68482.69558096581\"], [\"Threshold=-64805.28439788579\"], [\"Threshold=-61127.873214805775\"], [\"Threshold=-57450.46203172576\"], [\"Threshold=-53773.05084864574\"], [\"Threshold=-50095.63966556572\"], [\"Threshold=-46418.228482485705\"], [\"Threshold=-42740.81729940569\"], [\"Threshold=-39063.40611632567\"], [\"Threshold=-35385.99493324565\"], [\"Threshold=-31708.583750165635\"], [\"Threshold=-28031.172567085618\"], [\"Threshold=-24353.7613840056\"], [\"Threshold=-20676.350200925583\"], [\"Threshold=-16998.939017845565\"], [\"Threshold=-13321.527834765548\"], [\"Threshold=-9644.11665168553\"], [\"Threshold=-5966.7054686055135\"], [\"Threshold=-2289.294285525497\"], [\"Threshold=1388.1168975545197\"], [\"Threshold=5065.528080634536\"], [\"Threshold=8742.939263714554\"], [\"Threshold=12420.350446794571\"], [\"Threshold=16097.761629874589\"], [\"Threshold=19775.172812954606\"], [\"Threshold=23452.583996034624\"], [\"Threshold=27129.99517911464\"], [\"Threshold=30807.40636219466\"], [\"Threshold=34484.81754527467\"], [\"Threshold=38162.22872835469\"], [\"Threshold=41839.63991143471\"], [\"Threshold=45517.051094514725\"], [\"Threshold=49194.46227759474\"], [\"Threshold=52871.87346067476\"], [\"Threshold=56549.28464375478\"], [\"Threshold=60226.695826834795\"], [\"Threshold=63904.10700991481\"], [\"Threshold=67581.51819299483\"], [\"Threshold=71258.92937607484\"], [\"Threshold=74936.34055915485\"], [\"Threshold=78613.75174223486\"], [\"Threshold=82291.16292531487\"], [\"Threshold=85968.57410839488\"], [\"Threshold=89645.98529147489\"], [\"Threshold=93323.3964745549\"], [\"Threshold=97000.80765763491\"], [\"Threshold=100678.21884071492\"], [\"Threshold=104355.63002379493\"], [\"Threshold=108033.04120687494\"], [\"Threshold=111710.45238995495\"]], \"hovertemplate\": \"FPR=%{x}<br>TPR=%{y}<br>Score=%{customdata[0]}<extra></extra>\", \"legendgroup\": \"\", \"line\": {\"color\": \"#636efa\"}, \"mode\": \"lines\", \"name\": \"\", \"orientation\": \"v\", \"showlegend\": false, \"stackgroup\": \"1\", \"type\": \"scatter\", \"x\": [1.0, 1.0, 1.0, 1.0, 1.0, 0.9991735537190083, 0.9991735537190083, 0.9991735537190083, 0.9991735537190083, 0.9991735537190083, 0.9991735537190083, 0.9991735537190083, 0.9991735537190083, 0.9983471074380166, 0.9983471074380166, 0.9975206611570248, 0.9975206611570248, 0.9975206611570248, 0.9975206611570248, 0.9975206611570248, 0.9958677685950413, 0.9950413223140496, 0.9933884297520661, 0.9917355371900827, 0.9917355371900827, 0.9884297520661157, 0.9867768595041322, 0.9834710743801653, 0.9809917355371901, 0.9785123966942149, 0.9768595041322314, 0.9760330578512396, 0.9743801652892562, 0.971900826446281, 0.9677685950413223, 0.9644628099173553, 0.9570247933884297, 0.9487603305785124, 0.9454545454545454, 0.9380165289256198, 0.9264462809917355, 0.9148760330578513, 0.9024793388429752, 0.8818181818181818, 0.8628099173553719, 0.8471074380165289, 0.8322314049586776, 0.8165289256198347, 0.7975206611570248, 0.7727272727272727, 0.7429752066115702, 0.7206611570247934, 0.6884297520661157, 0.6446280991735537, 0.6214876033057851, 0.571900826446281, 0.5239669421487604, 0.47520661157024796, 0.4380165289256198, 0.3768595041322314, 0.3330578512396694, 0.2859504132231405, 0.24049586776859505, 0.20330578512396694, 0.16363636363636364, 0.13388429752066117, 0.10991735537190082, 0.08429752066115702, 0.06776859504132231, 0.05371900826446281, 0.04049586776859504, 0.03305785123966942, 0.023140495867768594, 0.01818181818181818, 0.012396694214876033, 0.00909090909090909, 0.006611570247933884, 0.0049586776859504135, 0.0049586776859504135, 0.0024793388429752068, 0.0024793388429752068, 0.0024793388429752068, 0.001652892561983471, 0.001652892561983471, 0.0008264462809917355, 0.0, 0.0, 0.0, 0.0, 0.0, 0.0, 0.0, 0.0, 0.0, 0.0, 0.0, 0.0, 0.0, 0.0, 0.0], \"xaxis\": \"x\", \"y\": [0.9992401215805471, 0.9992401215805471, 0.9992401215805471, 0.9992401215805471, 0.9992401215805471, 0.9992401215805471, 0.9992401215805471, 0.9992401215805471, 0.9992401215805471, 0.9992401215805471, 0.9992401215805471, 0.9992401215805471, 0.9992401215805471, 0.9992401215805471, 0.9992401215805471, 0.9992401215805471, 0.9992401215805471, 0.9992401215805471, 0.9992401215805471, 0.9992401215805471, 0.9992401215805471, 0.9992401215805471, 0.9992401215805471, 0.9992401215805471, 0.9992401215805471, 0.9992401215805471, 0.9992401215805471, 0.9992401215805471, 0.9992401215805471, 0.9992401215805471, 0.9992401215805471, 0.9992401215805471, 0.9992401215805471, 0.9992401215805471, 0.9992401215805471, 0.9984802431610942, 0.9984802431610942, 0.9984802431610942, 0.9977203647416414, 0.9977203647416414, 0.9969604863221885, 0.9969604863221885, 0.9962006079027356, 0.9954407294832827, 0.9954407294832827, 0.9954407294832827, 0.9946808510638298, 0.9946808510638298, 0.9946808510638298, 0.993920972644377, 0.9924012158054711, 0.9924012158054711, 0.9908814589665653, 0.9893617021276596, 0.9893617021276596, 0.9886018237082067, 0.9870820668693009, 0.9848024316109423, 0.9825227963525835, 0.9810030395136778, 0.9779635258358662, 0.9726443768996961, 0.9665653495440729, 0.9635258358662614, 0.9559270516717325, 0.9445288753799392, 0.9331306990881459, 0.9232522796352584, 0.9012158054711246, 0.8844984802431611, 0.8548632218844985, 0.8237082066869301, 0.7758358662613982, 0.723404255319149, 0.6793313069908815, 0.6268996960486323, 0.5615501519756839, 0.4946808510638298, 0.4278115501519757, 0.3662613981762918, 0.2986322188449848, 0.24164133738601823, 0.2006079027355623, 0.15881458966565348, 0.12689969604863222, 0.10258358662613981, 0.08358662613981763, 0.06306990881458967, 0.04939209726443769, 0.037993920972644375, 0.028875379939209727, 0.022796352583586626, 0.017477203647416412, 0.012917933130699088, 0.00911854103343465, 0.007598784194528876, 0.0060790273556231, 0.004559270516717325, 0.00303951367781155, 0.0007598784194528875], \"yaxis\": \"y\"}],\n",
       "                        {\"legend\": {\"tracegroupgap\": 0}, \"template\": {\"data\": {\"bar\": [{\"error_x\": {\"color\": \"#2a3f5f\"}, \"error_y\": {\"color\": \"#2a3f5f\"}, \"marker\": {\"line\": {\"color\": \"#E5ECF6\", \"width\": 0.5}}, \"type\": \"bar\"}], \"barpolar\": [{\"marker\": {\"line\": {\"color\": \"#E5ECF6\", \"width\": 0.5}}, \"type\": \"barpolar\"}], \"carpet\": [{\"aaxis\": {\"endlinecolor\": \"#2a3f5f\", \"gridcolor\": \"white\", \"linecolor\": \"white\", \"minorgridcolor\": \"white\", \"startlinecolor\": \"#2a3f5f\"}, \"baxis\": {\"endlinecolor\": \"#2a3f5f\", \"gridcolor\": \"white\", \"linecolor\": \"white\", \"minorgridcolor\": \"white\", \"startlinecolor\": \"#2a3f5f\"}, \"type\": \"carpet\"}], \"choropleth\": [{\"colorbar\": {\"outlinewidth\": 0, \"ticks\": \"\"}, \"type\": \"choropleth\"}], \"contour\": [{\"colorbar\": {\"outlinewidth\": 0, \"ticks\": \"\"}, \"colorscale\": [[0.0, \"#0d0887\"], [0.1111111111111111, \"#46039f\"], [0.2222222222222222, \"#7201a8\"], [0.3333333333333333, \"#9c179e\"], [0.4444444444444444, \"#bd3786\"], [0.5555555555555556, \"#d8576b\"], [0.6666666666666666, \"#ed7953\"], [0.7777777777777778, \"#fb9f3a\"], [0.8888888888888888, \"#fdca26\"], [1.0, \"#f0f921\"]], \"type\": \"contour\"}], \"contourcarpet\": [{\"colorbar\": {\"outlinewidth\": 0, \"ticks\": \"\"}, \"type\": \"contourcarpet\"}], \"heatmap\": [{\"colorbar\": {\"outlinewidth\": 0, \"ticks\": \"\"}, \"colorscale\": [[0.0, \"#0d0887\"], [0.1111111111111111, \"#46039f\"], [0.2222222222222222, \"#7201a8\"], [0.3333333333333333, \"#9c179e\"], [0.4444444444444444, \"#bd3786\"], [0.5555555555555556, \"#d8576b\"], [0.6666666666666666, \"#ed7953\"], [0.7777777777777778, \"#fb9f3a\"], [0.8888888888888888, \"#fdca26\"], [1.0, \"#f0f921\"]], \"type\": \"heatmap\"}], \"heatmapgl\": [{\"colorbar\": {\"outlinewidth\": 0, \"ticks\": \"\"}, \"colorscale\": [[0.0, \"#0d0887\"], [0.1111111111111111, \"#46039f\"], [0.2222222222222222, \"#7201a8\"], [0.3333333333333333, \"#9c179e\"], [0.4444444444444444, \"#bd3786\"], [0.5555555555555556, \"#d8576b\"], [0.6666666666666666, \"#ed7953\"], [0.7777777777777778, \"#fb9f3a\"], [0.8888888888888888, \"#fdca26\"], [1.0, \"#f0f921\"]], \"type\": \"heatmapgl\"}], \"histogram\": [{\"marker\": {\"colorbar\": {\"outlinewidth\": 0, \"ticks\": \"\"}}, \"type\": \"histogram\"}], \"histogram2d\": [{\"colorbar\": {\"outlinewidth\": 0, \"ticks\": \"\"}, \"colorscale\": [[0.0, \"#0d0887\"], [0.1111111111111111, \"#46039f\"], [0.2222222222222222, \"#7201a8\"], [0.3333333333333333, \"#9c179e\"], [0.4444444444444444, \"#bd3786\"], [0.5555555555555556, \"#d8576b\"], [0.6666666666666666, \"#ed7953\"], [0.7777777777777778, \"#fb9f3a\"], [0.8888888888888888, \"#fdca26\"], [1.0, \"#f0f921\"]], \"type\": \"histogram2d\"}], \"histogram2dcontour\": [{\"colorbar\": {\"outlinewidth\": 0, \"ticks\": \"\"}, \"colorscale\": [[0.0, \"#0d0887\"], [0.1111111111111111, \"#46039f\"], [0.2222222222222222, \"#7201a8\"], [0.3333333333333333, \"#9c179e\"], [0.4444444444444444, \"#bd3786\"], [0.5555555555555556, \"#d8576b\"], [0.6666666666666666, \"#ed7953\"], [0.7777777777777778, \"#fb9f3a\"], [0.8888888888888888, \"#fdca26\"], [1.0, \"#f0f921\"]], \"type\": \"histogram2dcontour\"}], \"mesh3d\": [{\"colorbar\": {\"outlinewidth\": 0, \"ticks\": \"\"}, \"type\": \"mesh3d\"}], \"parcoords\": [{\"line\": {\"colorbar\": {\"outlinewidth\": 0, \"ticks\": \"\"}}, \"type\": \"parcoords\"}], \"pie\": [{\"automargin\": true, \"type\": \"pie\"}], \"scatter\": [{\"marker\": {\"colorbar\": {\"outlinewidth\": 0, \"ticks\": \"\"}}, \"type\": \"scatter\"}], \"scatter3d\": [{\"line\": {\"colorbar\": {\"outlinewidth\": 0, \"ticks\": \"\"}}, \"marker\": {\"colorbar\": {\"outlinewidth\": 0, \"ticks\": \"\"}}, \"type\": \"scatter3d\"}], \"scattercarpet\": [{\"marker\": {\"colorbar\": {\"outlinewidth\": 0, \"ticks\": \"\"}}, \"type\": \"scattercarpet\"}], \"scattergeo\": [{\"marker\": {\"colorbar\": {\"outlinewidth\": 0, \"ticks\": \"\"}}, \"type\": \"scattergeo\"}], \"scattergl\": [{\"marker\": {\"colorbar\": {\"outlinewidth\": 0, \"ticks\": \"\"}}, \"type\": \"scattergl\"}], \"scattermapbox\": [{\"marker\": {\"colorbar\": {\"outlinewidth\": 0, \"ticks\": \"\"}}, \"type\": \"scattermapbox\"}], \"scatterpolar\": [{\"marker\": {\"colorbar\": {\"outlinewidth\": 0, \"ticks\": \"\"}}, \"type\": \"scatterpolar\"}], \"scatterpolargl\": [{\"marker\": {\"colorbar\": {\"outlinewidth\": 0, \"ticks\": \"\"}}, \"type\": \"scatterpolargl\"}], \"scatterternary\": [{\"marker\": {\"colorbar\": {\"outlinewidth\": 0, \"ticks\": \"\"}}, \"type\": \"scatterternary\"}], \"surface\": [{\"colorbar\": {\"outlinewidth\": 0, \"ticks\": \"\"}, \"colorscale\": [[0.0, \"#0d0887\"], [0.1111111111111111, \"#46039f\"], [0.2222222222222222, \"#7201a8\"], [0.3333333333333333, \"#9c179e\"], [0.4444444444444444, \"#bd3786\"], [0.5555555555555556, \"#d8576b\"], [0.6666666666666666, \"#ed7953\"], [0.7777777777777778, \"#fb9f3a\"], [0.8888888888888888, \"#fdca26\"], [1.0, \"#f0f921\"]], \"type\": \"surface\"}], \"table\": [{\"cells\": {\"fill\": {\"color\": \"#EBF0F8\"}, \"line\": {\"color\": \"white\"}}, \"header\": {\"fill\": {\"color\": \"#C8D4E3\"}, \"line\": {\"color\": \"white\"}}, \"type\": \"table\"}]}, \"layout\": {\"annotationdefaults\": {\"arrowcolor\": \"#2a3f5f\", \"arrowhead\": 0, \"arrowwidth\": 1}, \"coloraxis\": {\"colorbar\": {\"outlinewidth\": 0, \"ticks\": \"\"}}, \"colorscale\": {\"diverging\": [[0, \"#8e0152\"], [0.1, \"#c51b7d\"], [0.2, \"#de77ae\"], [0.3, \"#f1b6da\"], [0.4, \"#fde0ef\"], [0.5, \"#f7f7f7\"], [0.6, \"#e6f5d0\"], [0.7, \"#b8e186\"], [0.8, \"#7fbc41\"], [0.9, \"#4d9221\"], [1, \"#276419\"]], \"sequential\": [[0.0, \"#0d0887\"], [0.1111111111111111, \"#46039f\"], [0.2222222222222222, \"#7201a8\"], [0.3333333333333333, \"#9c179e\"], [0.4444444444444444, \"#bd3786\"], [0.5555555555555556, \"#d8576b\"], [0.6666666666666666, \"#ed7953\"], [0.7777777777777778, \"#fb9f3a\"], [0.8888888888888888, \"#fdca26\"], [1.0, \"#f0f921\"]], \"sequentialminus\": [[0.0, \"#0d0887\"], [0.1111111111111111, \"#46039f\"], [0.2222222222222222, \"#7201a8\"], [0.3333333333333333, \"#9c179e\"], [0.4444444444444444, \"#bd3786\"], [0.5555555555555556, \"#d8576b\"], [0.6666666666666666, \"#ed7953\"], [0.7777777777777778, \"#fb9f3a\"], [0.8888888888888888, \"#fdca26\"], [1.0, \"#f0f921\"]]}, \"colorway\": [\"#636efa\", \"#EF553B\", \"#00cc96\", \"#ab63fa\", \"#FFA15A\", \"#19d3f3\", \"#FF6692\", \"#B6E880\", \"#FF97FF\", \"#FECB52\"], \"font\": {\"color\": \"#2a3f5f\"}, \"geo\": {\"bgcolor\": \"white\", \"lakecolor\": \"white\", \"landcolor\": \"#E5ECF6\", \"showlakes\": true, \"showland\": true, \"subunitcolor\": \"white\"}, \"hoverlabel\": {\"align\": \"left\"}, \"hovermode\": \"closest\", \"mapbox\": {\"style\": \"light\"}, \"paper_bgcolor\": \"white\", \"plot_bgcolor\": \"#E5ECF6\", \"polar\": {\"angularaxis\": {\"gridcolor\": \"white\", \"linecolor\": \"white\", \"ticks\": \"\"}, \"bgcolor\": \"#E5ECF6\", \"radialaxis\": {\"gridcolor\": \"white\", \"linecolor\": \"white\", \"ticks\": \"\"}}, \"scene\": {\"xaxis\": {\"backgroundcolor\": \"#E5ECF6\", \"gridcolor\": \"white\", \"gridwidth\": 2, \"linecolor\": \"white\", \"showbackground\": true, \"ticks\": \"\", \"zerolinecolor\": \"white\"}, \"yaxis\": {\"backgroundcolor\": \"#E5ECF6\", \"gridcolor\": \"white\", \"gridwidth\": 2, \"linecolor\": \"white\", \"showbackground\": true, \"ticks\": \"\", \"zerolinecolor\": \"white\"}, \"zaxis\": {\"backgroundcolor\": \"#E5ECF6\", \"gridcolor\": \"white\", \"gridwidth\": 2, \"linecolor\": \"white\", \"showbackground\": true, \"ticks\": \"\", \"zerolinecolor\": \"white\"}}, \"shapedefaults\": {\"line\": {\"color\": \"#2a3f5f\"}}, \"ternary\": {\"aaxis\": {\"gridcolor\": \"white\", \"linecolor\": \"white\", \"ticks\": \"\"}, \"baxis\": {\"gridcolor\": \"white\", \"linecolor\": \"white\", \"ticks\": \"\"}, \"bgcolor\": \"#E5ECF6\", \"caxis\": {\"gridcolor\": \"white\", \"linecolor\": \"white\", \"ticks\": \"\"}}, \"title\": {\"x\": 0.05}, \"xaxis\": {\"automargin\": true, \"gridcolor\": \"white\", \"linecolor\": \"white\", \"ticks\": \"\", \"title\": {\"standoff\": 15}, \"zerolinecolor\": \"white\", \"zerolinewidth\": 2}, \"yaxis\": {\"automargin\": true, \"gridcolor\": \"white\", \"linecolor\": \"white\", \"ticks\": \"\", \"title\": {\"standoff\": 15}, \"zerolinecolor\": \"white\", \"zerolinewidth\": 2}}}, \"title\": {\"text\": \"ROC test Curve\"}, \"xaxis\": {\"anchor\": \"y\", \"domain\": [0.0, 1.0], \"title\": {\"text\": \"FPR\"}}, \"yaxis\": {\"anchor\": \"x\", \"domain\": [0.0, 1.0], \"title\": {\"text\": \"TPR\"}}},\n",
       "                        {\"responsive\": true}\n",
       "                    ).then(function(){\n",
       "                            \n",
       "var gd = document.getElementById('d5912c90-7f66-46ba-8df7-c59d2cbe6a3e');\n",
       "var x = new MutationObserver(function (mutations, observer) {{\n",
       "        var display = window.getComputedStyle(gd).display;\n",
       "        if (!display || display === 'none') {{\n",
       "            console.log([gd, 'removed!']);\n",
       "            Plotly.purge(gd);\n",
       "            observer.disconnect();\n",
       "        }}\n",
       "}});\n",
       "\n",
       "// Listen for the removal of the full notebook cells\n",
       "var notebookContainer = gd.closest('#notebook-container');\n",
       "if (notebookContainer) {{\n",
       "    x.observe(notebookContainer, {childList: true});\n",
       "}}\n",
       "\n",
       "// Listen for the clearing of the current output cell\n",
       "var outputEl = gd.closest('.output');\n",
       "if (outputEl) {{\n",
       "    x.observe(outputEl, {childList: true});\n",
       "}}\n",
       "\n",
       "                        })\n",
       "                };\n",
       "                });\n",
       "            </script>\n",
       "        </div>"
      ]
     },
     "metadata": {},
     "output_type": "display_data"
    },
    {
     "data": {
      "text/html": [
       "<div>\n",
       "        \n",
       "        \n",
       "            <div id=\"3ef2c83a-a83b-433f-945a-12d1f3bb219c\" class=\"plotly-graph-div\" style=\"height:525px; width:100%;\"></div>\n",
       "            <script type=\"text/javascript\">\n",
       "                require([\"plotly\"], function(Plotly) {\n",
       "                    window.PLOTLYENV=window.PLOTLYENV || {};\n",
       "                    \n",
       "                if (document.getElementById(\"3ef2c83a-a83b-433f-945a-12d1f3bb219c\")) {\n",
       "                    Plotly.newPlot(\n",
       "                        '3ef2c83a-a83b-433f-945a-12d1f3bb219c',\n",
       "                        [{\"customdata\": [[\"Threshold=-350095.35747804376\"], [\"Threshold=-345164.47049170843\"], [\"Threshold=-340233.5835053731\"], [\"Threshold=-335302.69651903777\"], [\"Threshold=-330371.80953270243\"], [\"Threshold=-325440.9225463671\"], [\"Threshold=-320510.03556003177\"], [\"Threshold=-315579.14857369644\"], [\"Threshold=-310648.2615873611\"], [\"Threshold=-305717.3746010258\"], [\"Threshold=-300786.48761469044\"], [\"Threshold=-295855.6006283551\"], [\"Threshold=-290924.7136420198\"], [\"Threshold=-285993.82665568445\"], [\"Threshold=-281062.9396693491\"], [\"Threshold=-276132.0526830138\"], [\"Threshold=-271201.16569667845\"], [\"Threshold=-266270.2787103431\"], [\"Threshold=-261339.39172400776\"], [\"Threshold=-256408.5047376724\"], [\"Threshold=-251477.61775133703\"], [\"Threshold=-246546.73076500167\"], [\"Threshold=-241615.8437786663\"], [\"Threshold=-236684.95679233095\"], [\"Threshold=-231754.0698059956\"], [\"Threshold=-226823.18281966023\"], [\"Threshold=-221892.29583332487\"], [\"Threshold=-216961.4088469895\"], [\"Threshold=-212030.52186065415\"], [\"Threshold=-207099.63487431878\"], [\"Threshold=-202168.74788798342\"], [\"Threshold=-197237.86090164806\"], [\"Threshold=-192306.9739153127\"], [\"Threshold=-187376.08692897734\"], [\"Threshold=-182445.19994264198\"], [\"Threshold=-177514.31295630662\"], [\"Threshold=-172583.42596997126\"], [\"Threshold=-167652.5389836359\"], [\"Threshold=-162721.65199730053\"], [\"Threshold=-157790.76501096517\"], [\"Threshold=-152859.8780246298\"], [\"Threshold=-147928.99103829445\"], [\"Threshold=-142998.1040519591\"], [\"Threshold=-138067.21706562373\"], [\"Threshold=-133136.33007928837\"], [\"Threshold=-128205.443092953\"], [\"Threshold=-123274.55610661765\"], [\"Threshold=-118343.66912028228\"], [\"Threshold=-113412.78213394692\"], [\"Threshold=-108481.89514761156\"], [\"Threshold=-103551.0081612762\"], [\"Threshold=-98620.12117494084\"], [\"Threshold=-93689.23418860548\"], [\"Threshold=-88758.34720227012\"], [\"Threshold=-83827.46021593476\"], [\"Threshold=-78896.5732295994\"], [\"Threshold=-73965.68624326403\"], [\"Threshold=-69034.79925692867\"], [\"Threshold=-64103.91227059331\"], [\"Threshold=-59173.02528425795\"], [\"Threshold=-54242.13829792259\"], [\"Threshold=-49311.25131158723\"], [\"Threshold=-44380.36432525187\"], [\"Threshold=-39449.477338916506\"], [\"Threshold=-34518.590352581145\"], [\"Threshold=-29587.703366245787\"], [\"Threshold=-24656.81637991043\"], [\"Threshold=-19725.929393575072\"], [\"Threshold=-14795.042407239715\"], [\"Threshold=-9864.155420904357\"], [\"Threshold=-4933.2684345689995\"], [\"Threshold=-2.381448233642004\"], [\"Threshold=4928.5055381017155\"], [\"Threshold=9859.392524437073\"], [\"Threshold=14790.27951077243\"], [\"Threshold=19721.166497107788\"], [\"Threshold=24652.053483443146\"], [\"Threshold=29582.940469778503\"], [\"Threshold=34513.82745611386\"], [\"Threshold=39444.714442449214\"], [\"Threshold=44375.601428784576\"], [\"Threshold=49306.48841511994\"], [\"Threshold=54237.3754014553\"], [\"Threshold=59168.26238779066\"], [\"Threshold=64099.14937412602\"], [\"Threshold=69030.03636046138\"], [\"Threshold=73960.92334679674\"], [\"Threshold=78891.8103331321\"], [\"Threshold=83822.69731946746\"], [\"Threshold=88753.58430580283\"], [\"Threshold=93684.47129213819\"], [\"Threshold=98615.35827847355\"], [\"Threshold=103546.24526480891\"], [\"Threshold=108477.13225114427\"], [\"Threshold=113408.01923747963\"], [\"Threshold=118338.90622381499\"], [\"Threshold=123269.79321015035\"], [\"Threshold=128200.68019648571\"], [\"Threshold=133131.56718282108\"], [\"Threshold=138062.45416915644\"]], \"hovertemplate\": \"FPR=%{x}<br>TPR=%{y}<br>Score=%{customdata[0]}<extra></extra>\", \"legendgroup\": \"\", \"line\": {\"color\": \"#636efa\"}, \"mode\": \"lines\", \"name\": \"\", \"orientation\": \"v\", \"showlegend\": false, \"stackgroup\": \"1\", \"type\": \"scatter\", \"x\": [0.9998040368410739, 0.9998040368410739, 0.9998040368410739, 0.9998040368410739, 0.9998040368410739, 0.9998040368410739, 0.9998040368410739, 0.9996080736821478, 0.9996080736821478, 0.9996080736821478, 0.9996080736821478, 0.9994121105232217, 0.9994121105232217, 0.9992161473642955, 0.9992161473642955, 0.9992161473642955, 0.9986282578875172, 0.9986282578875172, 0.9986282578875172, 0.9980403684107387, 0.9976484420928865, 0.9970605526161082, 0.9966686262982559, 0.9964726631393298, 0.9958847736625515, 0.9956888105036253, 0.9954928473446992, 0.9952968841857731, 0.9952968841857731, 0.9945130315500685, 0.9943170683911424, 0.9937291789143641, 0.9931412894375857, 0.9923574368018813, 0.9917695473251029, 0.9909856946893983, 0.9902018420536939, 0.9890260631001372, 0.9868704683519498, 0.9845189104448364, 0.9817754262198707, 0.9792279051538311, 0.9764844209288653, 0.9729570840681951, 0.9696257103664511, 0.9649225945522242, 0.9600235155790712, 0.9547325102880658, 0.9451303155006858, 0.9353321575543798, 0.9225945522241819, 0.9078973153047227, 0.8945718204977464, 0.8755633940819126, 0.8545953360768176, 0.8271604938271605, 0.7985498726239467, 0.7638643934940231, 0.7244757985498727, 0.6799921614736429, 0.6262982559278856, 0.570840681951793, 0.5077405447775818, 0.438957475994513, 0.37193807564177933, 0.3098177542621987, 0.2498530276308054, 0.18694885361552027, 0.13443072702331962, 0.09386635312561238, 0.06623554771702919, 0.042915931804820694, 0.03017832647462277, 0.020968058005095044, 0.013717421124828532, 0.00823045267489712, 0.004703115814226925, 0.002155594748187341, 0.0015677052714089751, 0.0013717421124828531, 0.0011757789535567313, 0.0007838526357044876, 0.0005878894767783657, 0.0005878894767783657, 0.0001959631589261219, 0.0001959631589261219, 0.0001959631589261219, 0.0, 0.0, 0.0, 0.0, 0.0, 0.0, 0.0, 0.0, 0.0, 0.0, 0.0, 0.0, 0.0], \"xaxis\": \"x\", \"y\": [1.0, 1.0, 1.0, 1.0, 1.0, 1.0, 1.0, 1.0, 1.0, 1.0, 1.0, 1.0, 1.0, 1.0, 1.0, 1.0, 1.0, 1.0, 1.0, 1.0, 1.0, 1.0, 1.0, 1.0, 1.0, 1.0, 1.0, 1.0, 1.0, 1.0, 1.0, 1.0, 1.0, 1.0, 1.0, 1.0, 1.0, 1.0, 1.0, 1.0, 1.0, 1.0, 1.0, 1.0, 1.0, 0.9997998799279568, 0.9995997598559135, 0.9995997598559135, 0.9995997598559135, 0.9995997598559135, 0.9993996397838704, 0.9993996397838704, 0.9993996397838704, 0.9989993996397839, 0.9989993996397839, 0.9987992795677406, 0.9985991594956974, 0.9983990394236542, 0.9973984390634381, 0.9967980788473084, 0.9957974784870922, 0.9951971182709626, 0.9933960376225736, 0.9923954372623575, 0.9909945967580548, 0.9893936361817091, 0.9857914748849309, 0.9817890734440664, 0.9731839103462078, 0.9603762257354412, 0.9411646988192915, 0.9117470482289374, 0.8737242345407245, 0.8324994996998198, 0.7762657594556734, 0.7002201320792476, 0.6129677806684011, 0.5121072643586152, 0.41945167100260156, 0.33540124074444666, 0.26756053632179305, 0.20352211326796077, 0.1550930558335001, 0.11286772063237943, 0.07784670802481489, 0.05203121873123874, 0.03662197318391035, 0.02501500900540324, 0.0162097258355013, 0.011606964178507104, 0.007404442665599359, 0.005003001801080648, 0.003201921152691615, 0.002601560936561937, 0.0016009605763458075, 0.0010006003602161296, 0.0006003602161296778, 0.0006003602161296778, 0.00040024014408645187, 0.00020012007204322593], \"yaxis\": \"y\"}],\n",
       "                        {\"legend\": {\"tracegroupgap\": 0}, \"template\": {\"data\": {\"bar\": [{\"error_x\": {\"color\": \"#2a3f5f\"}, \"error_y\": {\"color\": \"#2a3f5f\"}, \"marker\": {\"line\": {\"color\": \"#E5ECF6\", \"width\": 0.5}}, \"type\": \"bar\"}], \"barpolar\": [{\"marker\": {\"line\": {\"color\": \"#E5ECF6\", \"width\": 0.5}}, \"type\": \"barpolar\"}], \"carpet\": [{\"aaxis\": {\"endlinecolor\": \"#2a3f5f\", \"gridcolor\": \"white\", \"linecolor\": \"white\", \"minorgridcolor\": \"white\", \"startlinecolor\": \"#2a3f5f\"}, \"baxis\": {\"endlinecolor\": \"#2a3f5f\", \"gridcolor\": \"white\", \"linecolor\": \"white\", \"minorgridcolor\": \"white\", \"startlinecolor\": \"#2a3f5f\"}, \"type\": \"carpet\"}], \"choropleth\": [{\"colorbar\": {\"outlinewidth\": 0, \"ticks\": \"\"}, \"type\": \"choropleth\"}], \"contour\": [{\"colorbar\": {\"outlinewidth\": 0, \"ticks\": \"\"}, \"colorscale\": [[0.0, \"#0d0887\"], [0.1111111111111111, \"#46039f\"], [0.2222222222222222, \"#7201a8\"], [0.3333333333333333, \"#9c179e\"], [0.4444444444444444, \"#bd3786\"], [0.5555555555555556, \"#d8576b\"], [0.6666666666666666, \"#ed7953\"], [0.7777777777777778, \"#fb9f3a\"], [0.8888888888888888, \"#fdca26\"], [1.0, \"#f0f921\"]], \"type\": \"contour\"}], \"contourcarpet\": [{\"colorbar\": {\"outlinewidth\": 0, \"ticks\": \"\"}, \"type\": \"contourcarpet\"}], \"heatmap\": [{\"colorbar\": {\"outlinewidth\": 0, \"ticks\": \"\"}, \"colorscale\": [[0.0, \"#0d0887\"], [0.1111111111111111, \"#46039f\"], [0.2222222222222222, \"#7201a8\"], [0.3333333333333333, \"#9c179e\"], [0.4444444444444444, \"#bd3786\"], [0.5555555555555556, \"#d8576b\"], [0.6666666666666666, \"#ed7953\"], [0.7777777777777778, \"#fb9f3a\"], [0.8888888888888888, \"#fdca26\"], [1.0, \"#f0f921\"]], \"type\": \"heatmap\"}], \"heatmapgl\": [{\"colorbar\": {\"outlinewidth\": 0, \"ticks\": \"\"}, \"colorscale\": [[0.0, \"#0d0887\"], [0.1111111111111111, \"#46039f\"], [0.2222222222222222, \"#7201a8\"], [0.3333333333333333, \"#9c179e\"], [0.4444444444444444, \"#bd3786\"], [0.5555555555555556, \"#d8576b\"], [0.6666666666666666, \"#ed7953\"], [0.7777777777777778, \"#fb9f3a\"], [0.8888888888888888, \"#fdca26\"], [1.0, \"#f0f921\"]], \"type\": \"heatmapgl\"}], \"histogram\": [{\"marker\": {\"colorbar\": {\"outlinewidth\": 0, \"ticks\": \"\"}}, \"type\": \"histogram\"}], \"histogram2d\": [{\"colorbar\": {\"outlinewidth\": 0, \"ticks\": \"\"}, \"colorscale\": [[0.0, \"#0d0887\"], [0.1111111111111111, \"#46039f\"], [0.2222222222222222, \"#7201a8\"], [0.3333333333333333, \"#9c179e\"], [0.4444444444444444, \"#bd3786\"], [0.5555555555555556, \"#d8576b\"], [0.6666666666666666, \"#ed7953\"], [0.7777777777777778, \"#fb9f3a\"], [0.8888888888888888, \"#fdca26\"], [1.0, \"#f0f921\"]], \"type\": \"histogram2d\"}], \"histogram2dcontour\": [{\"colorbar\": {\"outlinewidth\": 0, \"ticks\": \"\"}, \"colorscale\": [[0.0, \"#0d0887\"], [0.1111111111111111, \"#46039f\"], [0.2222222222222222, \"#7201a8\"], [0.3333333333333333, \"#9c179e\"], [0.4444444444444444, \"#bd3786\"], [0.5555555555555556, \"#d8576b\"], [0.6666666666666666, \"#ed7953\"], [0.7777777777777778, \"#fb9f3a\"], [0.8888888888888888, \"#fdca26\"], [1.0, \"#f0f921\"]], \"type\": \"histogram2dcontour\"}], \"mesh3d\": [{\"colorbar\": {\"outlinewidth\": 0, \"ticks\": \"\"}, \"type\": \"mesh3d\"}], \"parcoords\": [{\"line\": {\"colorbar\": {\"outlinewidth\": 0, \"ticks\": \"\"}}, \"type\": \"parcoords\"}], \"pie\": [{\"automargin\": true, \"type\": \"pie\"}], \"scatter\": [{\"marker\": {\"colorbar\": {\"outlinewidth\": 0, \"ticks\": \"\"}}, \"type\": \"scatter\"}], \"scatter3d\": [{\"line\": {\"colorbar\": {\"outlinewidth\": 0, \"ticks\": \"\"}}, \"marker\": {\"colorbar\": {\"outlinewidth\": 0, \"ticks\": \"\"}}, \"type\": \"scatter3d\"}], \"scattercarpet\": [{\"marker\": {\"colorbar\": {\"outlinewidth\": 0, \"ticks\": \"\"}}, \"type\": \"scattercarpet\"}], \"scattergeo\": [{\"marker\": {\"colorbar\": {\"outlinewidth\": 0, \"ticks\": \"\"}}, \"type\": \"scattergeo\"}], \"scattergl\": [{\"marker\": {\"colorbar\": {\"outlinewidth\": 0, \"ticks\": \"\"}}, \"type\": \"scattergl\"}], \"scattermapbox\": [{\"marker\": {\"colorbar\": {\"outlinewidth\": 0, \"ticks\": \"\"}}, \"type\": \"scattermapbox\"}], \"scatterpolar\": [{\"marker\": {\"colorbar\": {\"outlinewidth\": 0, \"ticks\": \"\"}}, \"type\": \"scatterpolar\"}], \"scatterpolargl\": [{\"marker\": {\"colorbar\": {\"outlinewidth\": 0, \"ticks\": \"\"}}, \"type\": \"scatterpolargl\"}], \"scatterternary\": [{\"marker\": {\"colorbar\": {\"outlinewidth\": 0, \"ticks\": \"\"}}, \"type\": \"scatterternary\"}], \"surface\": [{\"colorbar\": {\"outlinewidth\": 0, \"ticks\": \"\"}, \"colorscale\": [[0.0, \"#0d0887\"], [0.1111111111111111, \"#46039f\"], [0.2222222222222222, \"#7201a8\"], [0.3333333333333333, \"#9c179e\"], [0.4444444444444444, \"#bd3786\"], [0.5555555555555556, \"#d8576b\"], [0.6666666666666666, \"#ed7953\"], [0.7777777777777778, \"#fb9f3a\"], [0.8888888888888888, \"#fdca26\"], [1.0, \"#f0f921\"]], \"type\": \"surface\"}], \"table\": [{\"cells\": {\"fill\": {\"color\": \"#EBF0F8\"}, \"line\": {\"color\": \"white\"}}, \"header\": {\"fill\": {\"color\": \"#C8D4E3\"}, \"line\": {\"color\": \"white\"}}, \"type\": \"table\"}]}, \"layout\": {\"annotationdefaults\": {\"arrowcolor\": \"#2a3f5f\", \"arrowhead\": 0, \"arrowwidth\": 1}, \"coloraxis\": {\"colorbar\": {\"outlinewidth\": 0, \"ticks\": \"\"}}, \"colorscale\": {\"diverging\": [[0, \"#8e0152\"], [0.1, \"#c51b7d\"], [0.2, \"#de77ae\"], [0.3, \"#f1b6da\"], [0.4, \"#fde0ef\"], [0.5, \"#f7f7f7\"], [0.6, \"#e6f5d0\"], [0.7, \"#b8e186\"], [0.8, \"#7fbc41\"], [0.9, \"#4d9221\"], [1, \"#276419\"]], \"sequential\": [[0.0, \"#0d0887\"], [0.1111111111111111, \"#46039f\"], [0.2222222222222222, \"#7201a8\"], [0.3333333333333333, \"#9c179e\"], [0.4444444444444444, \"#bd3786\"], [0.5555555555555556, \"#d8576b\"], [0.6666666666666666, \"#ed7953\"], [0.7777777777777778, \"#fb9f3a\"], [0.8888888888888888, \"#fdca26\"], [1.0, \"#f0f921\"]], \"sequentialminus\": [[0.0, \"#0d0887\"], [0.1111111111111111, \"#46039f\"], [0.2222222222222222, \"#7201a8\"], [0.3333333333333333, \"#9c179e\"], [0.4444444444444444, \"#bd3786\"], [0.5555555555555556, \"#d8576b\"], [0.6666666666666666, \"#ed7953\"], [0.7777777777777778, \"#fb9f3a\"], [0.8888888888888888, \"#fdca26\"], [1.0, \"#f0f921\"]]}, \"colorway\": [\"#636efa\", \"#EF553B\", \"#00cc96\", \"#ab63fa\", \"#FFA15A\", \"#19d3f3\", \"#FF6692\", \"#B6E880\", \"#FF97FF\", \"#FECB52\"], \"font\": {\"color\": \"#2a3f5f\"}, \"geo\": {\"bgcolor\": \"white\", \"lakecolor\": \"white\", \"landcolor\": \"#E5ECF6\", \"showlakes\": true, \"showland\": true, \"subunitcolor\": \"white\"}, \"hoverlabel\": {\"align\": \"left\"}, \"hovermode\": \"closest\", \"mapbox\": {\"style\": \"light\"}, \"paper_bgcolor\": \"white\", \"plot_bgcolor\": \"#E5ECF6\", \"polar\": {\"angularaxis\": {\"gridcolor\": \"white\", \"linecolor\": \"white\", \"ticks\": \"\"}, \"bgcolor\": \"#E5ECF6\", \"radialaxis\": {\"gridcolor\": \"white\", \"linecolor\": \"white\", \"ticks\": \"\"}}, \"scene\": {\"xaxis\": {\"backgroundcolor\": \"#E5ECF6\", \"gridcolor\": \"white\", \"gridwidth\": 2, \"linecolor\": \"white\", \"showbackground\": true, \"ticks\": \"\", \"zerolinecolor\": \"white\"}, \"yaxis\": {\"backgroundcolor\": \"#E5ECF6\", \"gridcolor\": \"white\", \"gridwidth\": 2, \"linecolor\": \"white\", \"showbackground\": true, \"ticks\": \"\", \"zerolinecolor\": \"white\"}, \"zaxis\": {\"backgroundcolor\": \"#E5ECF6\", \"gridcolor\": \"white\", \"gridwidth\": 2, \"linecolor\": \"white\", \"showbackground\": true, \"ticks\": \"\", \"zerolinecolor\": \"white\"}}, \"shapedefaults\": {\"line\": {\"color\": \"#2a3f5f\"}}, \"ternary\": {\"aaxis\": {\"gridcolor\": \"white\", \"linecolor\": \"white\", \"ticks\": \"\"}, \"baxis\": {\"gridcolor\": \"white\", \"linecolor\": \"white\", \"ticks\": \"\"}, \"bgcolor\": \"#E5ECF6\", \"caxis\": {\"gridcolor\": \"white\", \"linecolor\": \"white\", \"ticks\": \"\"}}, \"title\": {\"x\": 0.05}, \"xaxis\": {\"automargin\": true, \"gridcolor\": \"white\", \"linecolor\": \"white\", \"ticks\": \"\", \"title\": {\"standoff\": 15}, \"zerolinecolor\": \"white\", \"zerolinewidth\": 2}, \"yaxis\": {\"automargin\": true, \"gridcolor\": \"white\", \"linecolor\": \"white\", \"ticks\": \"\", \"title\": {\"standoff\": 15}, \"zerolinecolor\": \"white\", \"zerolinewidth\": 2}}}, \"title\": {\"text\": \"ROC train Curve\"}, \"xaxis\": {\"anchor\": \"y\", \"domain\": [0.0, 1.0], \"title\": {\"text\": \"FPR\"}}, \"yaxis\": {\"anchor\": \"x\", \"domain\": [0.0, 1.0], \"title\": {\"text\": \"TPR\"}}},\n",
       "                        {\"responsive\": true}\n",
       "                    ).then(function(){\n",
       "                            \n",
       "var gd = document.getElementById('3ef2c83a-a83b-433f-945a-12d1f3bb219c');\n",
       "var x = new MutationObserver(function (mutations, observer) {{\n",
       "        var display = window.getComputedStyle(gd).display;\n",
       "        if (!display || display === 'none') {{\n",
       "            console.log([gd, 'removed!']);\n",
       "            Plotly.purge(gd);\n",
       "            observer.disconnect();\n",
       "        }}\n",
       "}});\n",
       "\n",
       "// Listen for the removal of the full notebook cells\n",
       "var notebookContainer = gd.closest('#notebook-container');\n",
       "if (notebookContainer) {{\n",
       "    x.observe(notebookContainer, {childList: true});\n",
       "}}\n",
       "\n",
       "// Listen for the clearing of the current output cell\n",
       "var outputEl = gd.closest('.output');\n",
       "if (outputEl) {{\n",
       "    x.observe(outputEl, {childList: true});\n",
       "}}\n",
       "\n",
       "                        })\n",
       "                };\n",
       "                });\n",
       "            </script>\n",
       "        </div>"
      ]
     },
     "metadata": {},
     "output_type": "display_data"
    }
   ],
   "source": [
    "fig = px.area(x=fpr_test,y=tpr_test,labels={'x':'FPR', 'y':'TPR'},\n",
    "                          hover_data={'Score':thresholds_test},title='ROC test Curve')\n",
    "fig.show()\n",
    "\n",
    "fig2 = px.area(x=fpr_train,y=tpr_train,labels={'x':'FPR', 'y':'TPR'},\n",
    "                          hover_data={'Score':thresholds_train},title='ROC train Curve')\n",
    "fig2.show()"
   ]
  },
  {
   "cell_type": "code",
   "execution_count": 38,
   "metadata": {},
   "outputs": [],
   "source": [
    "#The ROC figrues using SGD were much smoother. It looks like SGD performs better on the test data than SVC."
   ]
  },
  {
   "cell_type": "markdown",
   "metadata": {},
   "source": [
    "# Important!!! Did you remember to rerun using the FULL data?"
   ]
  },
  {
   "cell_type": "markdown",
   "metadata": {
    "colab_type": "text",
    "id": "WV9ykc2Vqci1"
   },
   "source": [
    "# Extra credit: Additional tasks:\n",
    "1.   For a given signal digit, is the accuracy with which background is rejected, dependent upon what the background digit is?   For example, imagine that our signal digit is 5.   Is the accuracy that a 1 is identifed as background the same as the accuracy that a 8 is identified as background?  Hint: 8 is much less likely to be identified as background than 1 is.   The reasdon should be clear if you compare the shape of a 1 and an 8 to a 5.\n",
    "2.   Limit the signal to 1/10 of its maximum (about 600), and the background to the same number (about 600).   What is the performance of the estimator?   Use LinearSVC for this."
   ]
  },
  {
   "cell_type": "markdown",
   "metadata": {},
   "source": [
    "## Background study"
   ]
  },
  {
   "cell_type": "code",
   "execution_count": 40,
   "metadata": {},
   "outputs": [
    {
     "name": "stdout",
     "output_type": "stream",
     "text": [
      "AUC training data:  0.9987484355444305\n",
      "AUC testing data:   0.9760869021725542\n"
     ]
    },
    {
     "data": {
      "text/html": [
       "<div>\n",
       "        \n",
       "        \n",
       "            <div id=\"607618dc-116e-4c5a-a92d-68c44975e58c\" class=\"plotly-graph-div\" style=\"height:525px; width:100%;\"></div>\n",
       "            <script type=\"text/javascript\">\n",
       "                require([\"plotly\"], function(Plotly) {\n",
       "                    window.PLOTLYENV=window.PLOTLYENV || {};\n",
       "                    \n",
       "                if (document.getElementById(\"607618dc-116e-4c5a-a92d-68c44975e58c\")) {\n",
       "                    Plotly.newPlot(\n",
       "                        '607618dc-116e-4c5a-a92d-68c44975e58c',\n",
       "                        [{\"customdata\": [[\"Threshold=-11.596516574653759\"], [\"Threshold=-11.377686666072067\"], [\"Threshold=-11.158856757490376\"], [\"Threshold=-10.940026848908685\"], [\"Threshold=-10.721196940326994\"], [\"Threshold=-10.502367031745303\"], [\"Threshold=-10.283537123163612\"], [\"Threshold=-10.06470721458192\"], [\"Threshold=-9.84587730600023\"], [\"Threshold=-9.627047397418538\"], [\"Threshold=-9.408217488836847\"], [\"Threshold=-9.189387580255156\"], [\"Threshold=-8.970557671673465\"], [\"Threshold=-8.751727763091774\"], [\"Threshold=-8.532897854510082\"], [\"Threshold=-8.314067945928391\"], [\"Threshold=-8.0952380373467\"], [\"Threshold=-7.876408128765009\"], [\"Threshold=-7.657578220183318\"], [\"Threshold=-7.438748311601627\"], [\"Threshold=-7.2199184030199355\"], [\"Threshold=-7.001088494438244\"], [\"Threshold=-6.782258585856553\"], [\"Threshold=-6.563428677274862\"], [\"Threshold=-6.344598768693171\"], [\"Threshold=-6.12576886011148\"], [\"Threshold=-5.9069389515297885\"], [\"Threshold=-5.688109042948097\"], [\"Threshold=-5.469279134366406\"], [\"Threshold=-5.250449225784715\"], [\"Threshold=-5.031619317203024\"], [\"Threshold=-4.812789408621333\"], [\"Threshold=-4.593959500039642\"], [\"Threshold=-4.37512959145795\"], [\"Threshold=-4.156299682876259\"], [\"Threshold=-3.937469774294568\"], [\"Threshold=-3.718639865712877\"], [\"Threshold=-3.499809957131186\"], [\"Threshold=-3.2809800485494947\"], [\"Threshold=-3.0621501399678035\"], [\"Threshold=-2.8433202313861123\"], [\"Threshold=-2.624490322804421\"], [\"Threshold=-2.40566041422273\"], [\"Threshold=-2.186830505641039\"], [\"Threshold=-1.9680005970593477\"], [\"Threshold=-1.7491706884776566\"], [\"Threshold=-1.5303407798959654\"], [\"Threshold=-1.3115108713142742\"], [\"Threshold=-1.092680962732583\"], [\"Threshold=-0.873851054150892\"], [\"Threshold=-0.655021145569201\"], [\"Threshold=-0.43619123698750994\"], [\"Threshold=-0.2173613284058189\"], [\"Threshold=0.0014685801758721473\"], [\"Threshold=0.2202984887575632\"], [\"Threshold=0.43912839733925424\"], [\"Threshold=0.6579583059209453\"], [\"Threshold=0.8767882145026363\"], [\"Threshold=1.0956181230843274\"], [\"Threshold=1.3144480316660183\"], [\"Threshold=1.5332779402477095\"], [\"Threshold=1.7521078488294006\"], [\"Threshold=1.9709377574110918\"], [\"Threshold=2.189767665992783\"], [\"Threshold=2.408597574574474\"], [\"Threshold=2.6274274831561653\"], [\"Threshold=2.8462573917378564\"], [\"Threshold=3.0650873003195476\"], [\"Threshold=3.2839172089012387\"], [\"Threshold=3.50274711748293\"], [\"Threshold=3.721577026064621\"], [\"Threshold=3.940406934646312\"], [\"Threshold=4.159236843228003\"], [\"Threshold=4.378066751809694\"], [\"Threshold=4.596896660391385\"], [\"Threshold=4.815726568973076\"], [\"Threshold=5.0345564775547675\"], [\"Threshold=5.253386386136459\"], [\"Threshold=5.47221629471815\"], [\"Threshold=5.691046203299841\"], [\"Threshold=5.909876111881532\"], [\"Threshold=6.128706020463223\"], [\"Threshold=6.3475359290449145\"], [\"Threshold=6.566365837626606\"], [\"Threshold=6.785195746208297\"], [\"Threshold=7.004025654789988\"], [\"Threshold=7.222855563371679\"], [\"Threshold=7.44168547195337\"], [\"Threshold=7.660515380535061\"], [\"Threshold=7.879345289116753\"], [\"Threshold=8.098175197698444\"], [\"Threshold=8.317005106280135\"], [\"Threshold=8.535835014861826\"], [\"Threshold=8.754664923443517\"], [\"Threshold=8.973494832025208\"], [\"Threshold=9.1923247406069\"], [\"Threshold=9.41115464918859\"], [\"Threshold=9.629984557770282\"], [\"Threshold=9.848814466351973\"], [\"Threshold=10.067644374933664\"]], \"hovertemplate\": \"FPR=%{x}<br>TPR=%{y}<br>Score=%{customdata[0]}<extra></extra>\", \"legendgroup\": \"\", \"line\": {\"color\": \"#636efa\"}, \"mode\": \"lines\", \"name\": \"\", \"orientation\": \"v\", \"showlegend\": false, \"stackgroup\": \"1\", \"type\": \"scatter\", \"x\": [0.9950248756218906, 0.9950248756218906, 0.9950248756218906, 0.9950248756218906, 0.9950248756218906, 0.9950248756218906, 0.9950248756218906, 0.9950248756218906, 0.9950248756218906, 0.9950248756218906, 0.9900497512437811, 0.9900497512437811, 0.9850746268656716, 0.9800995024875622, 0.9751243781094527, 0.9651741293532339, 0.9502487562189055, 0.9303482587064676, 0.9154228855721394, 0.9104477611940298, 0.9054726368159204, 0.900497512437811, 0.8905472636815921, 0.8756218905472637, 0.845771144278607, 0.8258706467661692, 0.7661691542288557, 0.7512437810945274, 0.736318407960199, 0.7014925373134329, 0.6766169154228856, 0.6616915422885572, 0.6218905472636815, 0.6019900497512438, 0.5522388059701493, 0.527363184079602, 0.4527363184079602, 0.39800995024875624, 0.3582089552238806, 0.31343283582089554, 0.2835820895522388, 0.2537313432835821, 0.23383084577114427, 0.20398009950248755, 0.1890547263681592, 0.15920398009950248, 0.12437810945273632, 0.10945273631840796, 0.09950248756218906, 0.07960199004975124, 0.05970149253731343, 0.05472636815920398, 0.04975124378109453, 0.04477611940298507, 0.03482587064676617, 0.029850746268656716, 0.014925373134328358, 0.014925373134328358, 0.014925373134328358, 0.014925373134328358, 0.014925373134328358, 0.014925373134328358, 0.009950248756218905, 0.004975124378109453, 0.004975124378109453, 0.004975124378109453, 0.004975124378109453, 0.004975124378109453, 0.004975124378109453, 0.004975124378109453, 0.004975124378109453, 0.004975124378109453, 0.004975124378109453, 0.004975124378109453, 0.004975124378109453, 0.004975124378109453, 0.004975124378109453, 0.004975124378109453, 0.004975124378109453, 0.004975124378109453, 0.004975124378109453, 0.004975124378109453, 0.004975124378109453, 0.004975124378109453, 0.004975124378109453, 0.004975124378109453, 0.004975124378109453, 0.004975124378109453, 0.004975124378109453, 0.004975124378109453, 0.004975124378109453, 0.004975124378109453, 0.004975124378109453, 0.004975124378109453, 0.004975124378109453, 0.004975124378109453, 0.004975124378109453, 0.0, 0.0, 0.0], \"xaxis\": \"x\", \"y\": [1.0, 1.0, 1.0, 1.0, 1.0, 1.0, 1.0, 1.0, 1.0, 1.0, 1.0, 1.0, 1.0, 1.0, 1.0, 1.0, 1.0, 1.0, 1.0, 1.0, 1.0, 1.0, 1.0, 1.0, 1.0, 1.0, 1.0, 1.0, 1.0, 1.0, 1.0, 0.9949748743718593, 0.9949748743718593, 0.9949748743718593, 0.9949748743718593, 0.9949748743718593, 0.9949748743718593, 0.9949748743718593, 0.9899497487437185, 0.9849246231155779, 0.9849246231155779, 0.9849246231155779, 0.9849246231155779, 0.9849246231155779, 0.9748743718592965, 0.9698492462311558, 0.9698492462311558, 0.9698492462311558, 0.9698492462311558, 0.964824120603015, 0.9547738693467337, 0.9396984924623115, 0.9396984924623115, 0.9346733668341709, 0.9296482412060302, 0.9045226130653267, 0.8994974874371859, 0.8844221105527639, 0.8693467336683417, 0.8442211055276382, 0.8341708542713567, 0.8040201005025126, 0.7587939698492462, 0.7085427135678392, 0.6834170854271356, 0.6633165829145728, 0.6231155778894473, 0.6130653266331658, 0.5829145728643216, 0.5125628140703518, 0.4723618090452261, 0.4371859296482412, 0.41708542713567837, 0.3969849246231156, 0.35175879396984927, 0.34673366834170855, 0.32663316582914576, 0.2914572864321608, 0.2814070351758794, 0.2562814070351759, 0.24120603015075376, 0.21105527638190955, 0.18592964824120603, 0.17587939698492464, 0.16080402010050251, 0.135678391959799, 0.1306532663316583, 0.12060301507537688, 0.11055276381909548, 0.09547738693467336, 0.07035175879396985, 0.06532663316582915, 0.05527638190954774, 0.04522613065326633, 0.035175879396984924, 0.03015075376884422, 0.02512562814070352, 0.02512562814070352, 0.01507537688442211, 0.010050251256281407], \"yaxis\": \"y\"}],\n",
       "                        {\"legend\": {\"tracegroupgap\": 0}, \"template\": {\"data\": {\"bar\": [{\"error_x\": {\"color\": \"#2a3f5f\"}, \"error_y\": {\"color\": \"#2a3f5f\"}, \"marker\": {\"line\": {\"color\": \"#E5ECF6\", \"width\": 0.5}}, \"type\": \"bar\"}], \"barpolar\": [{\"marker\": {\"line\": {\"color\": \"#E5ECF6\", \"width\": 0.5}}, \"type\": \"barpolar\"}], \"carpet\": [{\"aaxis\": {\"endlinecolor\": \"#2a3f5f\", \"gridcolor\": \"white\", \"linecolor\": \"white\", \"minorgridcolor\": \"white\", \"startlinecolor\": \"#2a3f5f\"}, \"baxis\": {\"endlinecolor\": \"#2a3f5f\", \"gridcolor\": \"white\", \"linecolor\": \"white\", \"minorgridcolor\": \"white\", \"startlinecolor\": \"#2a3f5f\"}, \"type\": \"carpet\"}], \"choropleth\": [{\"colorbar\": {\"outlinewidth\": 0, \"ticks\": \"\"}, \"type\": \"choropleth\"}], \"contour\": [{\"colorbar\": {\"outlinewidth\": 0, \"ticks\": \"\"}, \"colorscale\": [[0.0, \"#0d0887\"], [0.1111111111111111, \"#46039f\"], [0.2222222222222222, \"#7201a8\"], [0.3333333333333333, \"#9c179e\"], [0.4444444444444444, \"#bd3786\"], [0.5555555555555556, \"#d8576b\"], [0.6666666666666666, \"#ed7953\"], [0.7777777777777778, \"#fb9f3a\"], [0.8888888888888888, \"#fdca26\"], [1.0, \"#f0f921\"]], \"type\": \"contour\"}], \"contourcarpet\": [{\"colorbar\": {\"outlinewidth\": 0, \"ticks\": \"\"}, \"type\": \"contourcarpet\"}], \"heatmap\": [{\"colorbar\": {\"outlinewidth\": 0, \"ticks\": \"\"}, \"colorscale\": [[0.0, \"#0d0887\"], [0.1111111111111111, \"#46039f\"], [0.2222222222222222, \"#7201a8\"], [0.3333333333333333, \"#9c179e\"], [0.4444444444444444, \"#bd3786\"], [0.5555555555555556, \"#d8576b\"], [0.6666666666666666, \"#ed7953\"], [0.7777777777777778, \"#fb9f3a\"], [0.8888888888888888, \"#fdca26\"], [1.0, \"#f0f921\"]], \"type\": \"heatmap\"}], \"heatmapgl\": [{\"colorbar\": {\"outlinewidth\": 0, \"ticks\": \"\"}, \"colorscale\": [[0.0, \"#0d0887\"], [0.1111111111111111, \"#46039f\"], [0.2222222222222222, \"#7201a8\"], [0.3333333333333333, \"#9c179e\"], [0.4444444444444444, \"#bd3786\"], [0.5555555555555556, \"#d8576b\"], [0.6666666666666666, \"#ed7953\"], [0.7777777777777778, \"#fb9f3a\"], [0.8888888888888888, \"#fdca26\"], [1.0, \"#f0f921\"]], \"type\": \"heatmapgl\"}], \"histogram\": [{\"marker\": {\"colorbar\": {\"outlinewidth\": 0, \"ticks\": \"\"}}, \"type\": \"histogram\"}], \"histogram2d\": [{\"colorbar\": {\"outlinewidth\": 0, \"ticks\": \"\"}, \"colorscale\": [[0.0, \"#0d0887\"], [0.1111111111111111, \"#46039f\"], [0.2222222222222222, \"#7201a8\"], [0.3333333333333333, \"#9c179e\"], [0.4444444444444444, \"#bd3786\"], [0.5555555555555556, \"#d8576b\"], [0.6666666666666666, \"#ed7953\"], [0.7777777777777778, \"#fb9f3a\"], [0.8888888888888888, \"#fdca26\"], [1.0, \"#f0f921\"]], \"type\": \"histogram2d\"}], \"histogram2dcontour\": [{\"colorbar\": {\"outlinewidth\": 0, \"ticks\": \"\"}, \"colorscale\": [[0.0, \"#0d0887\"], [0.1111111111111111, \"#46039f\"], [0.2222222222222222, \"#7201a8\"], [0.3333333333333333, \"#9c179e\"], [0.4444444444444444, \"#bd3786\"], [0.5555555555555556, \"#d8576b\"], [0.6666666666666666, \"#ed7953\"], [0.7777777777777778, \"#fb9f3a\"], [0.8888888888888888, \"#fdca26\"], [1.0, \"#f0f921\"]], \"type\": \"histogram2dcontour\"}], \"mesh3d\": [{\"colorbar\": {\"outlinewidth\": 0, \"ticks\": \"\"}, \"type\": \"mesh3d\"}], \"parcoords\": [{\"line\": {\"colorbar\": {\"outlinewidth\": 0, \"ticks\": \"\"}}, \"type\": \"parcoords\"}], \"pie\": [{\"automargin\": true, \"type\": \"pie\"}], \"scatter\": [{\"marker\": {\"colorbar\": {\"outlinewidth\": 0, \"ticks\": \"\"}}, \"type\": \"scatter\"}], \"scatter3d\": [{\"line\": {\"colorbar\": {\"outlinewidth\": 0, \"ticks\": \"\"}}, \"marker\": {\"colorbar\": {\"outlinewidth\": 0, \"ticks\": \"\"}}, \"type\": \"scatter3d\"}], \"scattercarpet\": [{\"marker\": {\"colorbar\": {\"outlinewidth\": 0, \"ticks\": \"\"}}, \"type\": \"scattercarpet\"}], \"scattergeo\": [{\"marker\": {\"colorbar\": {\"outlinewidth\": 0, \"ticks\": \"\"}}, \"type\": \"scattergeo\"}], \"scattergl\": [{\"marker\": {\"colorbar\": {\"outlinewidth\": 0, \"ticks\": \"\"}}, \"type\": \"scattergl\"}], \"scattermapbox\": [{\"marker\": {\"colorbar\": {\"outlinewidth\": 0, \"ticks\": \"\"}}, \"type\": \"scattermapbox\"}], \"scatterpolar\": [{\"marker\": {\"colorbar\": {\"outlinewidth\": 0, \"ticks\": \"\"}}, \"type\": \"scatterpolar\"}], \"scatterpolargl\": [{\"marker\": {\"colorbar\": {\"outlinewidth\": 0, \"ticks\": \"\"}}, \"type\": \"scatterpolargl\"}], \"scatterternary\": [{\"marker\": {\"colorbar\": {\"outlinewidth\": 0, \"ticks\": \"\"}}, \"type\": \"scatterternary\"}], \"surface\": [{\"colorbar\": {\"outlinewidth\": 0, \"ticks\": \"\"}, \"colorscale\": [[0.0, \"#0d0887\"], [0.1111111111111111, \"#46039f\"], [0.2222222222222222, \"#7201a8\"], [0.3333333333333333, \"#9c179e\"], [0.4444444444444444, \"#bd3786\"], [0.5555555555555556, \"#d8576b\"], [0.6666666666666666, \"#ed7953\"], [0.7777777777777778, \"#fb9f3a\"], [0.8888888888888888, \"#fdca26\"], [1.0, \"#f0f921\"]], \"type\": \"surface\"}], \"table\": [{\"cells\": {\"fill\": {\"color\": \"#EBF0F8\"}, \"line\": {\"color\": \"white\"}}, \"header\": {\"fill\": {\"color\": \"#C8D4E3\"}, \"line\": {\"color\": \"white\"}}, \"type\": \"table\"}]}, \"layout\": {\"annotationdefaults\": {\"arrowcolor\": \"#2a3f5f\", \"arrowhead\": 0, \"arrowwidth\": 1}, \"coloraxis\": {\"colorbar\": {\"outlinewidth\": 0, \"ticks\": \"\"}}, \"colorscale\": {\"diverging\": [[0, \"#8e0152\"], [0.1, \"#c51b7d\"], [0.2, \"#de77ae\"], [0.3, \"#f1b6da\"], [0.4, \"#fde0ef\"], [0.5, \"#f7f7f7\"], [0.6, \"#e6f5d0\"], [0.7, \"#b8e186\"], [0.8, \"#7fbc41\"], [0.9, \"#4d9221\"], [1, \"#276419\"]], \"sequential\": [[0.0, \"#0d0887\"], [0.1111111111111111, \"#46039f\"], [0.2222222222222222, \"#7201a8\"], [0.3333333333333333, \"#9c179e\"], [0.4444444444444444, \"#bd3786\"], [0.5555555555555556, \"#d8576b\"], [0.6666666666666666, \"#ed7953\"], [0.7777777777777778, \"#fb9f3a\"], [0.8888888888888888, \"#fdca26\"], [1.0, \"#f0f921\"]], \"sequentialminus\": [[0.0, \"#0d0887\"], [0.1111111111111111, \"#46039f\"], [0.2222222222222222, \"#7201a8\"], [0.3333333333333333, \"#9c179e\"], [0.4444444444444444, \"#bd3786\"], [0.5555555555555556, \"#d8576b\"], [0.6666666666666666, \"#ed7953\"], [0.7777777777777778, \"#fb9f3a\"], [0.8888888888888888, \"#fdca26\"], [1.0, \"#f0f921\"]]}, \"colorway\": [\"#636efa\", \"#EF553B\", \"#00cc96\", \"#ab63fa\", \"#FFA15A\", \"#19d3f3\", \"#FF6692\", \"#B6E880\", \"#FF97FF\", \"#FECB52\"], \"font\": {\"color\": \"#2a3f5f\"}, \"geo\": {\"bgcolor\": \"white\", \"lakecolor\": \"white\", \"landcolor\": \"#E5ECF6\", \"showlakes\": true, \"showland\": true, \"subunitcolor\": \"white\"}, \"hoverlabel\": {\"align\": \"left\"}, \"hovermode\": \"closest\", \"mapbox\": {\"style\": \"light\"}, \"paper_bgcolor\": \"white\", \"plot_bgcolor\": \"#E5ECF6\", \"polar\": {\"angularaxis\": {\"gridcolor\": \"white\", \"linecolor\": \"white\", \"ticks\": \"\"}, \"bgcolor\": \"#E5ECF6\", \"radialaxis\": {\"gridcolor\": \"white\", \"linecolor\": \"white\", \"ticks\": \"\"}}, \"scene\": {\"xaxis\": {\"backgroundcolor\": \"#E5ECF6\", \"gridcolor\": \"white\", \"gridwidth\": 2, \"linecolor\": \"white\", \"showbackground\": true, \"ticks\": \"\", \"zerolinecolor\": \"white\"}, \"yaxis\": {\"backgroundcolor\": \"#E5ECF6\", \"gridcolor\": \"white\", \"gridwidth\": 2, \"linecolor\": \"white\", \"showbackground\": true, \"ticks\": \"\", \"zerolinecolor\": \"white\"}, \"zaxis\": {\"backgroundcolor\": \"#E5ECF6\", \"gridcolor\": \"white\", \"gridwidth\": 2, \"linecolor\": \"white\", \"showbackground\": true, \"ticks\": \"\", \"zerolinecolor\": \"white\"}}, \"shapedefaults\": {\"line\": {\"color\": \"#2a3f5f\"}}, \"ternary\": {\"aaxis\": {\"gridcolor\": \"white\", \"linecolor\": \"white\", \"ticks\": \"\"}, \"baxis\": {\"gridcolor\": \"white\", \"linecolor\": \"white\", \"ticks\": \"\"}, \"bgcolor\": \"#E5ECF6\", \"caxis\": {\"gridcolor\": \"white\", \"linecolor\": \"white\", \"ticks\": \"\"}}, \"title\": {\"x\": 0.05}, \"xaxis\": {\"automargin\": true, \"gridcolor\": \"white\", \"linecolor\": \"white\", \"ticks\": \"\", \"title\": {\"standoff\": 15}, \"zerolinecolor\": \"white\", \"zerolinewidth\": 2}, \"yaxis\": {\"automargin\": true, \"gridcolor\": \"white\", \"linecolor\": \"white\", \"ticks\": \"\", \"title\": {\"standoff\": 15}, \"zerolinecolor\": \"white\", \"zerolinewidth\": 2}}}, \"title\": {\"text\": \"ROC test Curve\"}, \"xaxis\": {\"anchor\": \"y\", \"domain\": [0.0, 1.0], \"title\": {\"text\": \"FPR\"}}, \"yaxis\": {\"anchor\": \"x\", \"domain\": [0.0, 1.0], \"title\": {\"text\": \"TPR\"}}},\n",
       "                        {\"responsive\": true}\n",
       "                    ).then(function(){\n",
       "                            \n",
       "var gd = document.getElementById('607618dc-116e-4c5a-a92d-68c44975e58c');\n",
       "var x = new MutationObserver(function (mutations, observer) {{\n",
       "        var display = window.getComputedStyle(gd).display;\n",
       "        if (!display || display === 'none') {{\n",
       "            console.log([gd, 'removed!']);\n",
       "            Plotly.purge(gd);\n",
       "            observer.disconnect();\n",
       "        }}\n",
       "}});\n",
       "\n",
       "// Listen for the removal of the full notebook cells\n",
       "var notebookContainer = gd.closest('#notebook-container');\n",
       "if (notebookContainer) {{\n",
       "    x.observe(notebookContainer, {childList: true});\n",
       "}}\n",
       "\n",
       "// Listen for the clearing of the current output cell\n",
       "var outputEl = gd.closest('.output');\n",
       "if (outputEl) {{\n",
       "    x.observe(outputEl, {childList: true});\n",
       "}}\n",
       "\n",
       "                        })\n",
       "                };\n",
       "                });\n",
       "            </script>\n",
       "        </div>"
      ]
     },
     "metadata": {},
     "output_type": "display_data"
    },
    {
     "data": {
      "text/html": [
       "<div>\n",
       "        \n",
       "        \n",
       "            <div id=\"c0f43e95-8458-4aed-b25d-4493f716abfe\" class=\"plotly-graph-div\" style=\"height:525px; width:100%;\"></div>\n",
       "            <script type=\"text/javascript\">\n",
       "                require([\"plotly\"], function(Plotly) {\n",
       "                    window.PLOTLYENV=window.PLOTLYENV || {};\n",
       "                    \n",
       "                if (document.getElementById(\"c0f43e95-8458-4aed-b25d-4493f716abfe\")) {\n",
       "                    Plotly.newPlot(\n",
       "                        'c0f43e95-8458-4aed-b25d-4493f716abfe',\n",
       "                        [{\"customdata\": [[\"Threshold=-12.790814368308553\"], [\"Threshold=-12.546319030224833\"], [\"Threshold=-12.301823692141113\"], [\"Threshold=-12.057328354057393\"], [\"Threshold=-11.812833015973673\"], [\"Threshold=-11.568337677889954\"], [\"Threshold=-11.323842339806234\"], [\"Threshold=-11.079347001722514\"], [\"Threshold=-10.834851663638794\"], [\"Threshold=-10.590356325555074\"], [\"Threshold=-10.345860987471355\"], [\"Threshold=-10.101365649387635\"], [\"Threshold=-9.856870311303915\"], [\"Threshold=-9.612374973220195\"], [\"Threshold=-9.367879635136475\"], [\"Threshold=-9.123384297052755\"], [\"Threshold=-8.878888958969036\"], [\"Threshold=-8.634393620885316\"], [\"Threshold=-8.389898282801596\"], [\"Threshold=-8.145402944717876\"], [\"Threshold=-7.900907606634156\"], [\"Threshold=-7.6564122685504366\"], [\"Threshold=-7.411916930466717\"], [\"Threshold=-7.167421592382997\"], [\"Threshold=-6.922926254299277\"], [\"Threshold=-6.678430916215557\"], [\"Threshold=-6.4339355781318375\"], [\"Threshold=-6.189440240048118\"], [\"Threshold=-5.944944901964398\"], [\"Threshold=-5.700449563880678\"], [\"Threshold=-5.455954225796958\"], [\"Threshold=-5.211458887713238\"], [\"Threshold=-4.966963549629519\"], [\"Threshold=-4.722468211545799\"], [\"Threshold=-4.477972873462079\"], [\"Threshold=-4.233477535378359\"], [\"Threshold=-3.988982197294639\"], [\"Threshold=-3.7444868592109186\"], [\"Threshold=-3.4999915211271984\"], [\"Threshold=-3.255496183043478\"], [\"Threshold=-3.011000844959758\"], [\"Threshold=-2.7665055068760376\"], [\"Threshold=-2.5220101687923173\"], [\"Threshold=-2.277514830708597\"], [\"Threshold=-2.033019492624877\"], [\"Threshold=-1.7885241545411565\"], [\"Threshold=-1.5440288164574363\"], [\"Threshold=-1.299533478373716\"], [\"Threshold=-1.0550381402899958\"], [\"Threshold=-0.8105428022062756\"], [\"Threshold=-0.5660474641225555\"], [\"Threshold=-0.3215521260388353\"], [\"Threshold=-0.07705678795511517\"], [\"Threshold=0.16743855012860498\"], [\"Threshold=0.4119338882123251\"], [\"Threshold=0.6564292262960453\"], [\"Threshold=0.9009245643797654\"], [\"Threshold=1.1454199024634857\"], [\"Threshold=1.389915240547206\"], [\"Threshold=1.6344105786309262\"], [\"Threshold=1.8789059167146465\"], [\"Threshold=2.1234012547983667\"], [\"Threshold=2.367896592882087\"], [\"Threshold=2.6123919309658072\"], [\"Threshold=2.8568872690495275\"], [\"Threshold=3.1013826071332478\"], [\"Threshold=3.345877945216968\"], [\"Threshold=3.5903732833006883\"], [\"Threshold=3.8348686213844085\"], [\"Threshold=4.079363959468129\"], [\"Threshold=4.323859297551849\"], [\"Threshold=4.568354635635568\"], [\"Threshold=4.812849973719288\"], [\"Threshold=5.057345311803008\"], [\"Threshold=5.301840649886728\"], [\"Threshold=5.546335987970448\"], [\"Threshold=5.7908313260541675\"], [\"Threshold=6.035326664137887\"], [\"Threshold=6.279822002221607\"], [\"Threshold=6.524317340305327\"], [\"Threshold=6.768812678389047\"], [\"Threshold=7.013308016472767\"], [\"Threshold=7.257803354556486\"], [\"Threshold=7.502298692640206\"], [\"Threshold=7.746794030723926\"], [\"Threshold=7.991289368807646\"], [\"Threshold=8.235784706891366\"], [\"Threshold=8.480280044975085\"], [\"Threshold=8.724775383058805\"], [\"Threshold=8.969270721142525\"], [\"Threshold=9.213766059226245\"], [\"Threshold=9.458261397309965\"], [\"Threshold=9.702756735393685\"], [\"Threshold=9.947252073477404\"], [\"Threshold=10.191747411561124\"], [\"Threshold=10.436242749644844\"], [\"Threshold=10.680738087728564\"], [\"Threshold=10.925233425812284\"], [\"Threshold=11.169728763896003\"], [\"Threshold=11.414224101979723\"]], \"hovertemplate\": \"FPR=%{x}<br>TPR=%{y}<br>Score=%{customdata[0]}<extra></extra>\", \"legendgroup\": \"\", \"line\": {\"color\": \"#636efa\"}, \"mode\": \"lines\", \"name\": \"\", \"orientation\": \"v\", \"showlegend\": false, \"stackgroup\": \"1\", \"type\": \"scatter\", \"x\": [0.9987484355444305, 0.9987484355444305, 0.9987484355444305, 0.9987484355444305, 0.9987484355444305, 0.9987484355444305, 0.9987484355444305, 0.9987484355444305, 0.9987484355444305, 0.9974968710888611, 0.9949937421777222, 0.9924906132665833, 0.9899874843554443, 0.9874843554443054, 0.986232790988736, 0.983729662077597, 0.9762202753441802, 0.9724655819774718, 0.9649561952440551, 0.9612015018773467, 0.9524405506883604, 0.9399249061326659, 0.934918648310388, 0.9211514392991239, 0.899874843554443, 0.8811013767209012, 0.8548185231539425, 0.8310387984981227, 0.7947434292866082, 0.7709637046307884, 0.7471839799749687, 0.7096370463078848, 0.6695869837296621, 0.6282853566958698, 0.5844806007509387, 0.5369211514392991, 0.4956195244055069, 0.4455569461827284, 0.392991239048811, 0.360450563204005, 0.33291614518147683, 0.3016270337922403, 0.2640801001251564, 0.2327909887359199, 0.2002503128911139, 0.16645807259073842, 0.15644555694618273, 0.1414267834793492, 0.0951188986232791, 0.0, 0.0, 0.0, 0.0, 0.0, 0.0, 0.0, 0.0, 0.0, 0.0, 0.0, 0.0, 0.0, 0.0, 0.0, 0.0, 0.0, 0.0, 0.0, 0.0, 0.0, 0.0, 0.0, 0.0, 0.0, 0.0, 0.0, 0.0, 0.0, 0.0, 0.0, 0.0, 0.0, 0.0, 0.0, 0.0, 0.0, 0.0, 0.0, 0.0, 0.0, 0.0, 0.0, 0.0, 0.0, 0.0, 0.0, 0.0, 0.0, 0.0, 0.0], \"xaxis\": \"x\", \"y\": [1.0, 1.0, 1.0, 1.0, 1.0, 1.0, 1.0, 1.0, 1.0, 1.0, 1.0, 1.0, 1.0, 1.0, 1.0, 1.0, 1.0, 1.0, 1.0, 1.0, 1.0, 1.0, 1.0, 1.0, 1.0, 1.0, 1.0, 1.0, 1.0, 1.0, 1.0, 1.0, 1.0, 1.0, 1.0, 1.0, 1.0, 1.0, 1.0, 1.0, 1.0, 1.0, 1.0, 1.0, 1.0, 1.0, 1.0, 1.0, 1.0, 1.0, 1.0, 1.0, 1.0, 1.0, 1.0, 1.0, 1.0, 0.8764044943820225, 0.8476903870162297, 0.8164794007490637, 0.7790262172284644, 0.7428214731585518, 0.714107365792759, 0.682896379525593, 0.651685393258427, 0.6279650436953808, 0.5942571785268415, 0.5568039950062422, 0.5156054931335831, 0.47440699126092384, 0.4369538077403246, 0.3945068664169788, 0.35081148564294634, 0.317103620474407, 0.2858926342072409, 0.2634207240948814, 0.22596754057428214, 0.20224719101123595, 0.17478152309612985, 0.14731585518102372, 0.12609238451935081, 0.1111111111111111, 0.09987515605493133, 0.08239700374531835, 0.07365792759051186, 0.062421972534332085, 0.04119850187265917, 0.03245942571785269, 0.024968789013732832, 0.02247191011235955, 0.0149812734082397, 0.009987515605493134, 0.009987515605493134, 0.009987515605493134, 0.008739076154806492, 0.00749063670411985, 0.006242197253433208, 0.0024968789013732834, 0.0024968789013732834, 0.0024968789013732834], \"yaxis\": \"y\"}],\n",
       "                        {\"legend\": {\"tracegroupgap\": 0}, \"template\": {\"data\": {\"bar\": [{\"error_x\": {\"color\": \"#2a3f5f\"}, \"error_y\": {\"color\": \"#2a3f5f\"}, \"marker\": {\"line\": {\"color\": \"#E5ECF6\", \"width\": 0.5}}, \"type\": \"bar\"}], \"barpolar\": [{\"marker\": {\"line\": {\"color\": \"#E5ECF6\", \"width\": 0.5}}, \"type\": \"barpolar\"}], \"carpet\": [{\"aaxis\": {\"endlinecolor\": \"#2a3f5f\", \"gridcolor\": \"white\", \"linecolor\": \"white\", \"minorgridcolor\": \"white\", \"startlinecolor\": \"#2a3f5f\"}, \"baxis\": {\"endlinecolor\": \"#2a3f5f\", \"gridcolor\": \"white\", \"linecolor\": \"white\", \"minorgridcolor\": \"white\", \"startlinecolor\": \"#2a3f5f\"}, \"type\": \"carpet\"}], \"choropleth\": [{\"colorbar\": {\"outlinewidth\": 0, \"ticks\": \"\"}, \"type\": \"choropleth\"}], \"contour\": [{\"colorbar\": {\"outlinewidth\": 0, \"ticks\": \"\"}, \"colorscale\": [[0.0, \"#0d0887\"], [0.1111111111111111, \"#46039f\"], [0.2222222222222222, \"#7201a8\"], [0.3333333333333333, \"#9c179e\"], [0.4444444444444444, \"#bd3786\"], [0.5555555555555556, \"#d8576b\"], [0.6666666666666666, \"#ed7953\"], [0.7777777777777778, \"#fb9f3a\"], [0.8888888888888888, \"#fdca26\"], [1.0, \"#f0f921\"]], \"type\": \"contour\"}], \"contourcarpet\": [{\"colorbar\": {\"outlinewidth\": 0, \"ticks\": \"\"}, \"type\": \"contourcarpet\"}], \"heatmap\": [{\"colorbar\": {\"outlinewidth\": 0, \"ticks\": \"\"}, \"colorscale\": [[0.0, \"#0d0887\"], [0.1111111111111111, \"#46039f\"], [0.2222222222222222, \"#7201a8\"], [0.3333333333333333, \"#9c179e\"], [0.4444444444444444, \"#bd3786\"], [0.5555555555555556, \"#d8576b\"], [0.6666666666666666, \"#ed7953\"], [0.7777777777777778, \"#fb9f3a\"], [0.8888888888888888, \"#fdca26\"], [1.0, \"#f0f921\"]], \"type\": \"heatmap\"}], \"heatmapgl\": [{\"colorbar\": {\"outlinewidth\": 0, \"ticks\": \"\"}, \"colorscale\": [[0.0, \"#0d0887\"], [0.1111111111111111, \"#46039f\"], [0.2222222222222222, \"#7201a8\"], [0.3333333333333333, \"#9c179e\"], [0.4444444444444444, \"#bd3786\"], [0.5555555555555556, \"#d8576b\"], [0.6666666666666666, \"#ed7953\"], [0.7777777777777778, \"#fb9f3a\"], [0.8888888888888888, \"#fdca26\"], [1.0, \"#f0f921\"]], \"type\": \"heatmapgl\"}], \"histogram\": [{\"marker\": {\"colorbar\": {\"outlinewidth\": 0, \"ticks\": \"\"}}, \"type\": \"histogram\"}], \"histogram2d\": [{\"colorbar\": {\"outlinewidth\": 0, \"ticks\": \"\"}, \"colorscale\": [[0.0, \"#0d0887\"], [0.1111111111111111, \"#46039f\"], [0.2222222222222222, \"#7201a8\"], [0.3333333333333333, \"#9c179e\"], [0.4444444444444444, \"#bd3786\"], [0.5555555555555556, \"#d8576b\"], [0.6666666666666666, \"#ed7953\"], [0.7777777777777778, \"#fb9f3a\"], [0.8888888888888888, \"#fdca26\"], [1.0, \"#f0f921\"]], \"type\": \"histogram2d\"}], \"histogram2dcontour\": [{\"colorbar\": {\"outlinewidth\": 0, \"ticks\": \"\"}, \"colorscale\": [[0.0, \"#0d0887\"], [0.1111111111111111, \"#46039f\"], [0.2222222222222222, \"#7201a8\"], [0.3333333333333333, \"#9c179e\"], [0.4444444444444444, \"#bd3786\"], [0.5555555555555556, \"#d8576b\"], [0.6666666666666666, \"#ed7953\"], [0.7777777777777778, \"#fb9f3a\"], [0.8888888888888888, \"#fdca26\"], [1.0, \"#f0f921\"]], \"type\": \"histogram2dcontour\"}], \"mesh3d\": [{\"colorbar\": {\"outlinewidth\": 0, \"ticks\": \"\"}, \"type\": \"mesh3d\"}], \"parcoords\": [{\"line\": {\"colorbar\": {\"outlinewidth\": 0, \"ticks\": \"\"}}, \"type\": \"parcoords\"}], \"pie\": [{\"automargin\": true, \"type\": \"pie\"}], \"scatter\": [{\"marker\": {\"colorbar\": {\"outlinewidth\": 0, \"ticks\": \"\"}}, \"type\": \"scatter\"}], \"scatter3d\": [{\"line\": {\"colorbar\": {\"outlinewidth\": 0, \"ticks\": \"\"}}, \"marker\": {\"colorbar\": {\"outlinewidth\": 0, \"ticks\": \"\"}}, \"type\": \"scatter3d\"}], \"scattercarpet\": [{\"marker\": {\"colorbar\": {\"outlinewidth\": 0, \"ticks\": \"\"}}, \"type\": \"scattercarpet\"}], \"scattergeo\": [{\"marker\": {\"colorbar\": {\"outlinewidth\": 0, \"ticks\": \"\"}}, \"type\": \"scattergeo\"}], \"scattergl\": [{\"marker\": {\"colorbar\": {\"outlinewidth\": 0, \"ticks\": \"\"}}, \"type\": \"scattergl\"}], \"scattermapbox\": [{\"marker\": {\"colorbar\": {\"outlinewidth\": 0, \"ticks\": \"\"}}, \"type\": \"scattermapbox\"}], \"scatterpolar\": [{\"marker\": {\"colorbar\": {\"outlinewidth\": 0, \"ticks\": \"\"}}, \"type\": \"scatterpolar\"}], \"scatterpolargl\": [{\"marker\": {\"colorbar\": {\"outlinewidth\": 0, \"ticks\": \"\"}}, \"type\": \"scatterpolargl\"}], \"scatterternary\": [{\"marker\": {\"colorbar\": {\"outlinewidth\": 0, \"ticks\": \"\"}}, \"type\": \"scatterternary\"}], \"surface\": [{\"colorbar\": {\"outlinewidth\": 0, \"ticks\": \"\"}, \"colorscale\": [[0.0, \"#0d0887\"], [0.1111111111111111, \"#46039f\"], [0.2222222222222222, \"#7201a8\"], [0.3333333333333333, \"#9c179e\"], [0.4444444444444444, \"#bd3786\"], [0.5555555555555556, \"#d8576b\"], [0.6666666666666666, \"#ed7953\"], [0.7777777777777778, \"#fb9f3a\"], [0.8888888888888888, \"#fdca26\"], [1.0, \"#f0f921\"]], \"type\": \"surface\"}], \"table\": [{\"cells\": {\"fill\": {\"color\": \"#EBF0F8\"}, \"line\": {\"color\": \"white\"}}, \"header\": {\"fill\": {\"color\": \"#C8D4E3\"}, \"line\": {\"color\": \"white\"}}, \"type\": \"table\"}]}, \"layout\": {\"annotationdefaults\": {\"arrowcolor\": \"#2a3f5f\", \"arrowhead\": 0, \"arrowwidth\": 1}, \"coloraxis\": {\"colorbar\": {\"outlinewidth\": 0, \"ticks\": \"\"}}, \"colorscale\": {\"diverging\": [[0, \"#8e0152\"], [0.1, \"#c51b7d\"], [0.2, \"#de77ae\"], [0.3, \"#f1b6da\"], [0.4, \"#fde0ef\"], [0.5, \"#f7f7f7\"], [0.6, \"#e6f5d0\"], [0.7, \"#b8e186\"], [0.8, \"#7fbc41\"], [0.9, \"#4d9221\"], [1, \"#276419\"]], \"sequential\": [[0.0, \"#0d0887\"], [0.1111111111111111, \"#46039f\"], [0.2222222222222222, \"#7201a8\"], [0.3333333333333333, \"#9c179e\"], [0.4444444444444444, \"#bd3786\"], [0.5555555555555556, \"#d8576b\"], [0.6666666666666666, \"#ed7953\"], [0.7777777777777778, \"#fb9f3a\"], [0.8888888888888888, \"#fdca26\"], [1.0, \"#f0f921\"]], \"sequentialminus\": [[0.0, \"#0d0887\"], [0.1111111111111111, \"#46039f\"], [0.2222222222222222, \"#7201a8\"], [0.3333333333333333, \"#9c179e\"], [0.4444444444444444, \"#bd3786\"], [0.5555555555555556, \"#d8576b\"], [0.6666666666666666, \"#ed7953\"], [0.7777777777777778, \"#fb9f3a\"], [0.8888888888888888, \"#fdca26\"], [1.0, \"#f0f921\"]]}, \"colorway\": [\"#636efa\", \"#EF553B\", \"#00cc96\", \"#ab63fa\", \"#FFA15A\", \"#19d3f3\", \"#FF6692\", \"#B6E880\", \"#FF97FF\", \"#FECB52\"], \"font\": {\"color\": \"#2a3f5f\"}, \"geo\": {\"bgcolor\": \"white\", \"lakecolor\": \"white\", \"landcolor\": \"#E5ECF6\", \"showlakes\": true, \"showland\": true, \"subunitcolor\": \"white\"}, \"hoverlabel\": {\"align\": \"left\"}, \"hovermode\": \"closest\", \"mapbox\": {\"style\": \"light\"}, \"paper_bgcolor\": \"white\", \"plot_bgcolor\": \"#E5ECF6\", \"polar\": {\"angularaxis\": {\"gridcolor\": \"white\", \"linecolor\": \"white\", \"ticks\": \"\"}, \"bgcolor\": \"#E5ECF6\", \"radialaxis\": {\"gridcolor\": \"white\", \"linecolor\": \"white\", \"ticks\": \"\"}}, \"scene\": {\"xaxis\": {\"backgroundcolor\": \"#E5ECF6\", \"gridcolor\": \"white\", \"gridwidth\": 2, \"linecolor\": \"white\", \"showbackground\": true, \"ticks\": \"\", \"zerolinecolor\": \"white\"}, \"yaxis\": {\"backgroundcolor\": \"#E5ECF6\", \"gridcolor\": \"white\", \"gridwidth\": 2, \"linecolor\": \"white\", \"showbackground\": true, \"ticks\": \"\", \"zerolinecolor\": \"white\"}, \"zaxis\": {\"backgroundcolor\": \"#E5ECF6\", \"gridcolor\": \"white\", \"gridwidth\": 2, \"linecolor\": \"white\", \"showbackground\": true, \"ticks\": \"\", \"zerolinecolor\": \"white\"}}, \"shapedefaults\": {\"line\": {\"color\": \"#2a3f5f\"}}, \"ternary\": {\"aaxis\": {\"gridcolor\": \"white\", \"linecolor\": \"white\", \"ticks\": \"\"}, \"baxis\": {\"gridcolor\": \"white\", \"linecolor\": \"white\", \"ticks\": \"\"}, \"bgcolor\": \"#E5ECF6\", \"caxis\": {\"gridcolor\": \"white\", \"linecolor\": \"white\", \"ticks\": \"\"}}, \"title\": {\"x\": 0.05}, \"xaxis\": {\"automargin\": true, \"gridcolor\": \"white\", \"linecolor\": \"white\", \"ticks\": \"\", \"title\": {\"standoff\": 15}, \"zerolinecolor\": \"white\", \"zerolinewidth\": 2}, \"yaxis\": {\"automargin\": true, \"gridcolor\": \"white\", \"linecolor\": \"white\", \"ticks\": \"\", \"title\": {\"standoff\": 15}, \"zerolinecolor\": \"white\", \"zerolinewidth\": 2}}}, \"title\": {\"text\": \"ROC train Curve\"}, \"xaxis\": {\"anchor\": \"y\", \"domain\": [0.0, 1.0], \"title\": {\"text\": \"FPR\"}}, \"yaxis\": {\"anchor\": \"x\", \"domain\": [0.0, 1.0], \"title\": {\"text\": \"TPR\"}}},\n",
       "                        {\"responsive\": true}\n",
       "                    ).then(function(){\n",
       "                            \n",
       "var gd = document.getElementById('c0f43e95-8458-4aed-b25d-4493f716abfe');\n",
       "var x = new MutationObserver(function (mutations, observer) {{\n",
       "        var display = window.getComputedStyle(gd).display;\n",
       "        if (!display || display === 'none') {{\n",
       "            console.log([gd, 'removed!']);\n",
       "            Plotly.purge(gd);\n",
       "            observer.disconnect();\n",
       "        }}\n",
       "}});\n",
       "\n",
       "// Listen for the removal of the full notebook cells\n",
       "var notebookContainer = gd.closest('#notebook-container');\n",
       "if (notebookContainer) {{\n",
       "    x.observe(notebookContainer, {childList: true});\n",
       "}}\n",
       "\n",
       "// Listen for the clearing of the current output cell\n",
       "var outputEl = gd.closest('.output');\n",
       "if (outputEl) {{\n",
       "    x.observe(outputEl, {childList: true});\n",
       "}}\n",
       "\n",
       "                        })\n",
       "                };\n",
       "                });\n",
       "            </script>\n",
       "        </div>"
      ]
     },
     "metadata": {},
     "output_type": "display_data"
    }
   ],
   "source": [
    "#\n",
    "# short = \"\"\n",
    "short = \"short_\"\n",
    "\n",
    "#\n",
    "# Read in all of the other digits\n",
    "dfAll = pd.DataFrame()\n",
    "for digit in range(10):\n",
    "    fname = '/fs/ess/PAS1759/data/ch3/digit_' + short + str(digit) + '.csv'\n",
    "    df = pd.read_csv(fname,header=None)\n",
    "    df['digit'] = digit\n",
    "    dfAll = pd.concat([dfAll, df])\n",
    "\n",
    "#\n",
    "# Define our \"signal\" digit\n",
    "# and the background digit\n",
    "digitSignal = 5\n",
    "digitBackground = 8\n",
    "\n",
    "dfA = dfAll.loc[dfAll['digit'] == digitSignal].copy()\n",
    "dfB = dfAll.loc[dfAll['digit'] == digitBackground].copy()\n",
    "\n",
    "dfA['signal'] = 1     # dfA has the digit we will look for = the signal\n",
    "dfB['signal'] = 0     # dfB has all of the other digits = the background\n",
    "\n",
    "dfCombined = pd.concat([dfA, dfB], ignore_index=True)\n",
    "\n",
    "# Your code goes here\n",
    "estimator = LinearSVC(random_state=42,dual=False,max_iter=5000)    # use dual=False when  n_samples > n_features which is what we have\n",
    "\n",
    "# call runFitter\n",
    "y_train,y_train_pred,y_train_score,y_train_digit,y_test,y_test_pred,y_test_score,y_test_digit = runFitter(dfCombined,estimator)\n",
    "\n",
    "precision_test,recall_test,auc_test,fpr_test, tpr_test, thresholds_test = binaryPerformance(y_test,y_test_pred,y_test_score,debug=False)\n",
    "precision_train,recall_train,auc_train,fpr_train, tpr_train, thresholds_train = binaryPerformance(y_train,y_train_pred,y_train_score,debug=False)\n",
    "\n",
    "print(\"AUC training data: \",auc_train)\n",
    "print(\"AUC testing data:  \",auc_test)\n",
    "\n",
    "fig = px.area(x=fpr_test,y=tpr_test,labels={'x':'FPR', 'y':'TPR'},\n",
    "                          hover_data={'Score':thresholds_test},title='ROC test Curve')\n",
    "fig.show()\n",
    "\n",
    "fig2 = px.area(x=fpr_train,y=tpr_train,labels={'x':'FPR', 'y':'TPR'},\n",
    "                          hover_data={'Score':thresholds_train},title='ROC train Curve')\n",
    "fig2.show()\n",
    "\n",
    "##################################################################################################################"
   ]
  },
  {
   "cell_type": "code",
   "execution_count": 41,
   "metadata": {},
   "outputs": [
    {
     "name": "stdout",
     "output_type": "stream",
     "text": [
      "AUC training data:  0.9987484355444305\n",
      "AUC testing data:   0.9947623690592264\n"
     ]
    },
    {
     "data": {
      "text/html": [
       "<div>\n",
       "        \n",
       "        \n",
       "            <div id=\"bc12d663-c60a-4c1f-b038-fb5004276982\" class=\"plotly-graph-div\" style=\"height:525px; width:100%;\"></div>\n",
       "            <script type=\"text/javascript\">\n",
       "                require([\"plotly\"], function(Plotly) {\n",
       "                    window.PLOTLYENV=window.PLOTLYENV || {};\n",
       "                    \n",
       "                if (document.getElementById(\"bc12d663-c60a-4c1f-b038-fb5004276982\")) {\n",
       "                    Plotly.newPlot(\n",
       "                        'bc12d663-c60a-4c1f-b038-fb5004276982',\n",
       "                        [{\"customdata\": [[\"Threshold=-3.355635776398083\"], [\"Threshold=-3.264505852803304\"], [\"Threshold=-3.1733759292085253\"], [\"Threshold=-3.0822460056137464\"], [\"Threshold=-2.9911160820189675\"], [\"Threshold=-2.8999861584241886\"], [\"Threshold=-2.8088562348294097\"], [\"Threshold=-2.717726311234631\"], [\"Threshold=-2.626596387639852\"], [\"Threshold=-2.535466464045073\"], [\"Threshold=-2.444336540450294\"], [\"Threshold=-2.3532066168555152\"], [\"Threshold=-2.2620766932607363\"], [\"Threshold=-2.1709467696659575\"], [\"Threshold=-2.0798168460711786\"], [\"Threshold=-1.9886869224763997\"], [\"Threshold=-1.8975569988816208\"], [\"Threshold=-1.8064270752868419\"], [\"Threshold=-1.715297151692063\"], [\"Threshold=-1.624167228097284\"], [\"Threshold=-1.5330373045025052\"], [\"Threshold=-1.4419073809077263\"], [\"Threshold=-1.3507774573129474\"], [\"Threshold=-1.2596475337181685\"], [\"Threshold=-1.1685176101233896\"], [\"Threshold=-1.0773876865286107\"], [\"Threshold=-0.9862577629338318\"], [\"Threshold=-0.8951278393390529\"], [\"Threshold=-0.803997915744274\"], [\"Threshold=-0.7128679921494951\"], [\"Threshold=-0.6217380685547162\"], [\"Threshold=-0.5306081449599374\"], [\"Threshold=-0.4394782213651585\"], [\"Threshold=-0.3483482977703797\"], [\"Threshold=-0.25721837417560084\"], [\"Threshold=-0.166088450580822\"], [\"Threshold=-0.07495852698604316\"], [\"Threshold=0.016171396608735678\"], [\"Threshold=0.10730132020351452\"], [\"Threshold=0.19843124379829336\"], [\"Threshold=0.2895611673930722\"], [\"Threshold=0.38069109098785103\"], [\"Threshold=0.47182101458262987\"], [\"Threshold=0.5629509381774087\"], [\"Threshold=0.6540808617721876\"], [\"Threshold=0.7452107853669665\"], [\"Threshold=0.8363407089617454\"], [\"Threshold=0.9274706325565243\"], [\"Threshold=1.0186005561513032\"], [\"Threshold=1.109730479746082\"], [\"Threshold=1.200860403340861\"], [\"Threshold=1.2919903269356399\"], [\"Threshold=1.3831202505304188\"], [\"Threshold=1.4742501741251977\"], [\"Threshold=1.5653800977199765\"], [\"Threshold=1.6565100213147554\"], [\"Threshold=1.7476399449095343\"], [\"Threshold=1.8387698685043132\"], [\"Threshold=1.9298997920990921\"], [\"Threshold=2.021029715693871\"], [\"Threshold=2.1121596392886497\"], [\"Threshold=2.2032895628834286\"], [\"Threshold=2.2944194864782075\"], [\"Threshold=2.3855494100729864\"], [\"Threshold=2.4766793336677653\"], [\"Threshold=2.567809257262544\"], [\"Threshold=2.658939180857323\"], [\"Threshold=2.750069104452102\"], [\"Threshold=2.841199028046881\"], [\"Threshold=2.9323289516416597\"], [\"Threshold=3.0234588752364386\"], [\"Threshold=3.1145887988312175\"], [\"Threshold=3.2057187224259964\"], [\"Threshold=3.2968486460207753\"], [\"Threshold=3.387978569615554\"], [\"Threshold=3.479108493210333\"], [\"Threshold=3.570238416805112\"], [\"Threshold=3.661368340399891\"], [\"Threshold=3.75249826399467\"], [\"Threshold=3.8436281875894487\"], [\"Threshold=3.9347581111842276\"], [\"Threshold=4.0258880347790065\"], [\"Threshold=4.117017958373785\"], [\"Threshold=4.208147881968564\"], [\"Threshold=4.299277805563343\"], [\"Threshold=4.390407729158122\"], [\"Threshold=4.481537652752901\"], [\"Threshold=4.57266757634768\"], [\"Threshold=4.663797499942459\"], [\"Threshold=4.754927423537238\"], [\"Threshold=4.8460573471320165\"], [\"Threshold=4.937187270726795\"], [\"Threshold=5.028317194321574\"], [\"Threshold=5.119447117916353\"], [\"Threshold=5.210577041511132\"], [\"Threshold=5.301706965105911\"], [\"Threshold=5.39283688870069\"], [\"Threshold=5.483966812295469\"], [\"Threshold=5.575096735890248\"], [\"Threshold=5.666226659485027\"]], \"hovertemplate\": \"FPR=%{x}<br>TPR=%{y}<br>Score=%{customdata[0]}<extra></extra>\", \"legendgroup\": \"\", \"line\": {\"color\": \"#636efa\"}, \"mode\": \"lines\", \"name\": \"\", \"orientation\": \"v\", \"showlegend\": false, \"stackgroup\": \"1\", \"type\": \"scatter\", \"x\": [0.9950248756218906, 0.9900497512437811, 0.9800995024875622, 0.9751243781094527, 0.9701492537313433, 0.9402985074626866, 0.9154228855721394, 0.9054726368159204, 0.8756218905472637, 0.8208955223880597, 0.7910447761194029, 0.7562189054726368, 0.6915422885572139, 0.6218905472636815, 0.5920398009950248, 0.5373134328358209, 0.4577114427860697, 0.39303482587064675, 0.3383084577114428, 0.263681592039801, 0.22388059701492538, 0.19402985074626866, 0.12935323383084577, 0.0945273631840796, 0.06467661691542288, 0.04477611940298507, 0.03980099502487562, 0.03482587064676617, 0.01990049751243781, 0.01990049751243781, 0.01990049751243781, 0.01990049751243781, 0.01990049751243781, 0.01990049751243781, 0.014925373134328358, 0.009950248756218905, 0.004975124378109453, 0.004975124378109453, 0.004975124378109453, 0.004975124378109453, 0.004975124378109453, 0.004975124378109453, 0.0, 0.0, 0.0, 0.0, 0.0, 0.0, 0.0, 0.0, 0.0, 0.0, 0.0, 0.0, 0.0, 0.0, 0.0, 0.0, 0.0, 0.0, 0.0, 0.0, 0.0, 0.0, 0.0, 0.0, 0.0, 0.0, 0.0, 0.0, 0.0, 0.0, 0.0, 0.0, 0.0, 0.0, 0.0, 0.0, 0.0, 0.0, 0.0, 0.0, 0.0, 0.0, 0.0, 0.0, 0.0, 0.0, 0.0, 0.0, 0.0, 0.0, 0.0, 0.0, 0.0, 0.0, 0.0, 0.0, 0.0, 0.0], \"xaxis\": \"x\", \"y\": [1.0, 1.0, 1.0, 1.0, 1.0, 1.0, 1.0, 1.0, 1.0, 1.0, 1.0, 1.0, 1.0, 1.0, 1.0, 1.0, 1.0, 1.0, 1.0, 1.0, 1.0, 1.0, 1.0, 1.0, 1.0, 1.0, 1.0, 1.0, 0.9949748743718593, 0.9949748743718593, 0.9949748743718593, 0.9949748743718593, 0.9949748743718593, 0.9949748743718593, 0.9899497487437185, 0.9899497487437185, 0.9899497487437185, 0.9899497487437185, 0.9899497487437185, 0.9899497487437185, 0.9899497487437185, 0.9899497487437185, 0.9748743718592965, 0.9698492462311558, 0.964824120603015, 0.9547738693467337, 0.9547738693467337, 0.9447236180904522, 0.9296482412060302, 0.9095477386934674, 0.8743718592964824, 0.8592964824120602, 0.8341708542713567, 0.8090452261306532, 0.7688442211055276, 0.7437185929648241, 0.7085427135678392, 0.6934673366834171, 0.6532663316582915, 0.6130653266331658, 0.5778894472361809, 0.5527638190954773, 0.5477386934673367, 0.507537688442211, 0.44221105527638194, 0.4020100502512563, 0.38190954773869346, 0.36180904522613067, 0.31155778894472363, 0.2914572864321608, 0.27638190954773867, 0.2562814070351759, 0.23115577889447236, 0.19095477386934673, 0.17587939698492464, 0.1658291457286432, 0.1407035175879397, 0.12562814070351758, 0.11557788944723618, 0.09045226130653267, 0.08542713567839195, 0.07537688442211055, 0.07035175879396985, 0.06030150753768844, 0.05527638190954774, 0.05527638190954774, 0.03015075376884422, 0.02512562814070352, 0.010050251256281407, 0.005025125628140704, 0.005025125628140704, 0.005025125628140704, 0.005025125628140704, 0.005025125628140704, 0.005025125628140704, 0.005025125628140704, 0.005025125628140704, 0.005025125628140704, 0.005025125628140704, 0.005025125628140704], \"yaxis\": \"y\"}],\n",
       "                        {\"legend\": {\"tracegroupgap\": 0}, \"template\": {\"data\": {\"bar\": [{\"error_x\": {\"color\": \"#2a3f5f\"}, \"error_y\": {\"color\": \"#2a3f5f\"}, \"marker\": {\"line\": {\"color\": \"#E5ECF6\", \"width\": 0.5}}, \"type\": \"bar\"}], \"barpolar\": [{\"marker\": {\"line\": {\"color\": \"#E5ECF6\", \"width\": 0.5}}, \"type\": \"barpolar\"}], \"carpet\": [{\"aaxis\": {\"endlinecolor\": \"#2a3f5f\", \"gridcolor\": \"white\", \"linecolor\": \"white\", \"minorgridcolor\": \"white\", \"startlinecolor\": \"#2a3f5f\"}, \"baxis\": {\"endlinecolor\": \"#2a3f5f\", \"gridcolor\": \"white\", \"linecolor\": \"white\", \"minorgridcolor\": \"white\", \"startlinecolor\": \"#2a3f5f\"}, \"type\": \"carpet\"}], \"choropleth\": [{\"colorbar\": {\"outlinewidth\": 0, \"ticks\": \"\"}, \"type\": \"choropleth\"}], \"contour\": [{\"colorbar\": {\"outlinewidth\": 0, \"ticks\": \"\"}, \"colorscale\": [[0.0, \"#0d0887\"], [0.1111111111111111, \"#46039f\"], [0.2222222222222222, \"#7201a8\"], [0.3333333333333333, \"#9c179e\"], [0.4444444444444444, \"#bd3786\"], [0.5555555555555556, \"#d8576b\"], [0.6666666666666666, \"#ed7953\"], [0.7777777777777778, \"#fb9f3a\"], [0.8888888888888888, \"#fdca26\"], [1.0, \"#f0f921\"]], \"type\": \"contour\"}], \"contourcarpet\": [{\"colorbar\": {\"outlinewidth\": 0, \"ticks\": \"\"}, \"type\": \"contourcarpet\"}], \"heatmap\": [{\"colorbar\": {\"outlinewidth\": 0, \"ticks\": \"\"}, \"colorscale\": [[0.0, \"#0d0887\"], [0.1111111111111111, \"#46039f\"], [0.2222222222222222, \"#7201a8\"], [0.3333333333333333, \"#9c179e\"], [0.4444444444444444, \"#bd3786\"], [0.5555555555555556, \"#d8576b\"], [0.6666666666666666, \"#ed7953\"], [0.7777777777777778, \"#fb9f3a\"], [0.8888888888888888, \"#fdca26\"], [1.0, \"#f0f921\"]], \"type\": \"heatmap\"}], \"heatmapgl\": [{\"colorbar\": {\"outlinewidth\": 0, \"ticks\": \"\"}, \"colorscale\": [[0.0, \"#0d0887\"], [0.1111111111111111, \"#46039f\"], [0.2222222222222222, \"#7201a8\"], [0.3333333333333333, \"#9c179e\"], [0.4444444444444444, \"#bd3786\"], [0.5555555555555556, \"#d8576b\"], [0.6666666666666666, \"#ed7953\"], [0.7777777777777778, \"#fb9f3a\"], [0.8888888888888888, \"#fdca26\"], [1.0, \"#f0f921\"]], \"type\": \"heatmapgl\"}], \"histogram\": [{\"marker\": {\"colorbar\": {\"outlinewidth\": 0, \"ticks\": \"\"}}, \"type\": \"histogram\"}], \"histogram2d\": [{\"colorbar\": {\"outlinewidth\": 0, \"ticks\": \"\"}, \"colorscale\": [[0.0, \"#0d0887\"], [0.1111111111111111, \"#46039f\"], [0.2222222222222222, \"#7201a8\"], [0.3333333333333333, \"#9c179e\"], [0.4444444444444444, \"#bd3786\"], [0.5555555555555556, \"#d8576b\"], [0.6666666666666666, \"#ed7953\"], [0.7777777777777778, \"#fb9f3a\"], [0.8888888888888888, \"#fdca26\"], [1.0, \"#f0f921\"]], \"type\": \"histogram2d\"}], \"histogram2dcontour\": [{\"colorbar\": {\"outlinewidth\": 0, \"ticks\": \"\"}, \"colorscale\": [[0.0, \"#0d0887\"], [0.1111111111111111, \"#46039f\"], [0.2222222222222222, \"#7201a8\"], [0.3333333333333333, \"#9c179e\"], [0.4444444444444444, \"#bd3786\"], [0.5555555555555556, \"#d8576b\"], [0.6666666666666666, \"#ed7953\"], [0.7777777777777778, \"#fb9f3a\"], [0.8888888888888888, \"#fdca26\"], [1.0, \"#f0f921\"]], \"type\": \"histogram2dcontour\"}], \"mesh3d\": [{\"colorbar\": {\"outlinewidth\": 0, \"ticks\": \"\"}, \"type\": \"mesh3d\"}], \"parcoords\": [{\"line\": {\"colorbar\": {\"outlinewidth\": 0, \"ticks\": \"\"}}, \"type\": \"parcoords\"}], \"pie\": [{\"automargin\": true, \"type\": \"pie\"}], \"scatter\": [{\"marker\": {\"colorbar\": {\"outlinewidth\": 0, \"ticks\": \"\"}}, \"type\": \"scatter\"}], \"scatter3d\": [{\"line\": {\"colorbar\": {\"outlinewidth\": 0, \"ticks\": \"\"}}, \"marker\": {\"colorbar\": {\"outlinewidth\": 0, \"ticks\": \"\"}}, \"type\": \"scatter3d\"}], \"scattercarpet\": [{\"marker\": {\"colorbar\": {\"outlinewidth\": 0, \"ticks\": \"\"}}, \"type\": \"scattercarpet\"}], \"scattergeo\": [{\"marker\": {\"colorbar\": {\"outlinewidth\": 0, \"ticks\": \"\"}}, \"type\": \"scattergeo\"}], \"scattergl\": [{\"marker\": {\"colorbar\": {\"outlinewidth\": 0, \"ticks\": \"\"}}, \"type\": \"scattergl\"}], \"scattermapbox\": [{\"marker\": {\"colorbar\": {\"outlinewidth\": 0, \"ticks\": \"\"}}, \"type\": \"scattermapbox\"}], \"scatterpolar\": [{\"marker\": {\"colorbar\": {\"outlinewidth\": 0, \"ticks\": \"\"}}, \"type\": \"scatterpolar\"}], \"scatterpolargl\": [{\"marker\": {\"colorbar\": {\"outlinewidth\": 0, \"ticks\": \"\"}}, \"type\": \"scatterpolargl\"}], \"scatterternary\": [{\"marker\": {\"colorbar\": {\"outlinewidth\": 0, \"ticks\": \"\"}}, \"type\": \"scatterternary\"}], \"surface\": [{\"colorbar\": {\"outlinewidth\": 0, \"ticks\": \"\"}, \"colorscale\": [[0.0, \"#0d0887\"], [0.1111111111111111, \"#46039f\"], [0.2222222222222222, \"#7201a8\"], [0.3333333333333333, \"#9c179e\"], [0.4444444444444444, \"#bd3786\"], [0.5555555555555556, \"#d8576b\"], [0.6666666666666666, \"#ed7953\"], [0.7777777777777778, \"#fb9f3a\"], [0.8888888888888888, \"#fdca26\"], [1.0, \"#f0f921\"]], \"type\": \"surface\"}], \"table\": [{\"cells\": {\"fill\": {\"color\": \"#EBF0F8\"}, \"line\": {\"color\": \"white\"}}, \"header\": {\"fill\": {\"color\": \"#C8D4E3\"}, \"line\": {\"color\": \"white\"}}, \"type\": \"table\"}]}, \"layout\": {\"annotationdefaults\": {\"arrowcolor\": \"#2a3f5f\", \"arrowhead\": 0, \"arrowwidth\": 1}, \"coloraxis\": {\"colorbar\": {\"outlinewidth\": 0, \"ticks\": \"\"}}, \"colorscale\": {\"diverging\": [[0, \"#8e0152\"], [0.1, \"#c51b7d\"], [0.2, \"#de77ae\"], [0.3, \"#f1b6da\"], [0.4, \"#fde0ef\"], [0.5, \"#f7f7f7\"], [0.6, \"#e6f5d0\"], [0.7, \"#b8e186\"], [0.8, \"#7fbc41\"], [0.9, \"#4d9221\"], [1, \"#276419\"]], \"sequential\": [[0.0, \"#0d0887\"], [0.1111111111111111, \"#46039f\"], [0.2222222222222222, \"#7201a8\"], [0.3333333333333333, \"#9c179e\"], [0.4444444444444444, \"#bd3786\"], [0.5555555555555556, \"#d8576b\"], [0.6666666666666666, \"#ed7953\"], [0.7777777777777778, \"#fb9f3a\"], [0.8888888888888888, \"#fdca26\"], [1.0, \"#f0f921\"]], \"sequentialminus\": [[0.0, \"#0d0887\"], [0.1111111111111111, \"#46039f\"], [0.2222222222222222, \"#7201a8\"], [0.3333333333333333, \"#9c179e\"], [0.4444444444444444, \"#bd3786\"], [0.5555555555555556, \"#d8576b\"], [0.6666666666666666, \"#ed7953\"], [0.7777777777777778, \"#fb9f3a\"], [0.8888888888888888, \"#fdca26\"], [1.0, \"#f0f921\"]]}, \"colorway\": [\"#636efa\", \"#EF553B\", \"#00cc96\", \"#ab63fa\", \"#FFA15A\", \"#19d3f3\", \"#FF6692\", \"#B6E880\", \"#FF97FF\", \"#FECB52\"], \"font\": {\"color\": \"#2a3f5f\"}, \"geo\": {\"bgcolor\": \"white\", \"lakecolor\": \"white\", \"landcolor\": \"#E5ECF6\", \"showlakes\": true, \"showland\": true, \"subunitcolor\": \"white\"}, \"hoverlabel\": {\"align\": \"left\"}, \"hovermode\": \"closest\", \"mapbox\": {\"style\": \"light\"}, \"paper_bgcolor\": \"white\", \"plot_bgcolor\": \"#E5ECF6\", \"polar\": {\"angularaxis\": {\"gridcolor\": \"white\", \"linecolor\": \"white\", \"ticks\": \"\"}, \"bgcolor\": \"#E5ECF6\", \"radialaxis\": {\"gridcolor\": \"white\", \"linecolor\": \"white\", \"ticks\": \"\"}}, \"scene\": {\"xaxis\": {\"backgroundcolor\": \"#E5ECF6\", \"gridcolor\": \"white\", \"gridwidth\": 2, \"linecolor\": \"white\", \"showbackground\": true, \"ticks\": \"\", \"zerolinecolor\": \"white\"}, \"yaxis\": {\"backgroundcolor\": \"#E5ECF6\", \"gridcolor\": \"white\", \"gridwidth\": 2, \"linecolor\": \"white\", \"showbackground\": true, \"ticks\": \"\", \"zerolinecolor\": \"white\"}, \"zaxis\": {\"backgroundcolor\": \"#E5ECF6\", \"gridcolor\": \"white\", \"gridwidth\": 2, \"linecolor\": \"white\", \"showbackground\": true, \"ticks\": \"\", \"zerolinecolor\": \"white\"}}, \"shapedefaults\": {\"line\": {\"color\": \"#2a3f5f\"}}, \"ternary\": {\"aaxis\": {\"gridcolor\": \"white\", \"linecolor\": \"white\", \"ticks\": \"\"}, \"baxis\": {\"gridcolor\": \"white\", \"linecolor\": \"white\", \"ticks\": \"\"}, \"bgcolor\": \"#E5ECF6\", \"caxis\": {\"gridcolor\": \"white\", \"linecolor\": \"white\", \"ticks\": \"\"}}, \"title\": {\"x\": 0.05}, \"xaxis\": {\"automargin\": true, \"gridcolor\": \"white\", \"linecolor\": \"white\", \"ticks\": \"\", \"title\": {\"standoff\": 15}, \"zerolinecolor\": \"white\", \"zerolinewidth\": 2}, \"yaxis\": {\"automargin\": true, \"gridcolor\": \"white\", \"linecolor\": \"white\", \"ticks\": \"\", \"title\": {\"standoff\": 15}, \"zerolinecolor\": \"white\", \"zerolinewidth\": 2}}}, \"title\": {\"text\": \"ROC test Curve\"}, \"xaxis\": {\"anchor\": \"y\", \"domain\": [0.0, 1.0], \"title\": {\"text\": \"FPR\"}}, \"yaxis\": {\"anchor\": \"x\", \"domain\": [0.0, 1.0], \"title\": {\"text\": \"TPR\"}}},\n",
       "                        {\"responsive\": true}\n",
       "                    ).then(function(){\n",
       "                            \n",
       "var gd = document.getElementById('bc12d663-c60a-4c1f-b038-fb5004276982');\n",
       "var x = new MutationObserver(function (mutations, observer) {{\n",
       "        var display = window.getComputedStyle(gd).display;\n",
       "        if (!display || display === 'none') {{\n",
       "            console.log([gd, 'removed!']);\n",
       "            Plotly.purge(gd);\n",
       "            observer.disconnect();\n",
       "        }}\n",
       "}});\n",
       "\n",
       "// Listen for the removal of the full notebook cells\n",
       "var notebookContainer = gd.closest('#notebook-container');\n",
       "if (notebookContainer) {{\n",
       "    x.observe(notebookContainer, {childList: true});\n",
       "}}\n",
       "\n",
       "// Listen for the clearing of the current output cell\n",
       "var outputEl = gd.closest('.output');\n",
       "if (outputEl) {{\n",
       "    x.observe(outputEl, {childList: true});\n",
       "}}\n",
       "\n",
       "                        })\n",
       "                };\n",
       "                });\n",
       "            </script>\n",
       "        </div>"
      ]
     },
     "metadata": {},
     "output_type": "display_data"
    },
    {
     "data": {
      "text/html": [
       "<div>\n",
       "        \n",
       "        \n",
       "            <div id=\"6775c059-2827-4db2-ae3a-18669f6cf00f\" class=\"plotly-graph-div\" style=\"height:525px; width:100%;\"></div>\n",
       "            <script type=\"text/javascript\">\n",
       "                require([\"plotly\"], function(Plotly) {\n",
       "                    window.PLOTLYENV=window.PLOTLYENV || {};\n",
       "                    \n",
       "                if (document.getElementById(\"6775c059-2827-4db2-ae3a-18669f6cf00f\")) {\n",
       "                    Plotly.newPlot(\n",
       "                        '6775c059-2827-4db2-ae3a-18669f6cf00f',\n",
       "                        [{\"customdata\": [[\"Threshold=-3.543463834241193\"], [\"Threshold=-3.4530351833215494\"], [\"Threshold=-3.3626065324019057\"], [\"Threshold=-3.272177881482262\"], [\"Threshold=-3.1817492305626183\"], [\"Threshold=-3.0913205796429746\"], [\"Threshold=-3.000891928723331\"], [\"Threshold=-2.910463277803687\"], [\"Threshold=-2.8200346268840435\"], [\"Threshold=-2.7296059759644\"], [\"Threshold=-2.639177325044756\"], [\"Threshold=-2.5487486741251124\"], [\"Threshold=-2.4583200232054687\"], [\"Threshold=-2.367891372285825\"], [\"Threshold=-2.2774627213661813\"], [\"Threshold=-2.1870340704465376\"], [\"Threshold=-2.096605419526894\"], [\"Threshold=-2.0061767686072502\"], [\"Threshold=-1.9157481176876066\"], [\"Threshold=-1.8253194667679629\"], [\"Threshold=-1.7348908158483192\"], [\"Threshold=-1.6444621649286755\"], [\"Threshold=-1.5540335140090318\"], [\"Threshold=-1.463604863089388\"], [\"Threshold=-1.3731762121697444\"], [\"Threshold=-1.2827475612501007\"], [\"Threshold=-1.192318910330457\"], [\"Threshold=-1.1018902594108133\"], [\"Threshold=-1.0114616084911696\"], [\"Threshold=-0.9210329575715259\"], [\"Threshold=-0.8306043066518822\"], [\"Threshold=-0.7401756557322385\"], [\"Threshold=-0.6497470048125948\"], [\"Threshold=-0.5593183538929511\"], [\"Threshold=-0.46888970297330745\"], [\"Threshold=-0.37846105205366376\"], [\"Threshold=-0.28803240113402007\"], [\"Threshold=-0.19760375021437637\"], [\"Threshold=-0.10717509929473266\"], [\"Threshold=-0.016746448375088957\"], [\"Threshold=0.07368220254455475\"], [\"Threshold=0.16411085346419846\"], [\"Threshold=0.25453950438384215\"], [\"Threshold=0.34496815530348585\"], [\"Threshold=0.43539680622312954\"], [\"Threshold=0.5258254571427733\"], [\"Threshold=0.616254108062417\"], [\"Threshold=0.7066827589820607\"], [\"Threshold=0.7971114099017044\"], [\"Threshold=0.8875400608213481\"], [\"Threshold=0.9779687117409918\"], [\"Threshold=1.0683973626606356\"], [\"Threshold=1.1588260135802793\"], [\"Threshold=1.249254664499923\"], [\"Threshold=1.3396833154195666\"], [\"Threshold=1.4301119663392103\"], [\"Threshold=1.520540617258854\"], [\"Threshold=1.6109692681784977\"], [\"Threshold=1.7013979190981414\"], [\"Threshold=1.7918265700177851\"], [\"Threshold=1.8822552209374288\"], [\"Threshold=1.9726838718570725\"], [\"Threshold=2.0631125227767164\"], [\"Threshold=2.15354117369636\"], [\"Threshold=2.243969824616004\"], [\"Threshold=2.3343984755356475\"], [\"Threshold=2.424827126455291\"], [\"Threshold=2.515255777374935\"], [\"Threshold=2.6056844282945786\"], [\"Threshold=2.6961130792142223\"], [\"Threshold=2.786541730133866\"], [\"Threshold=2.8769703810535097\"], [\"Threshold=2.9673990319731534\"], [\"Threshold=3.057827682892797\"], [\"Threshold=3.1482563338124407\"], [\"Threshold=3.2386849847320844\"], [\"Threshold=3.329113635651728\"], [\"Threshold=3.419542286571372\"], [\"Threshold=3.5099709374910155\"], [\"Threshold=3.600399588410659\"], [\"Threshold=3.690828239330303\"], [\"Threshold=3.7812568902499466\"], [\"Threshold=3.8716855411695903\"], [\"Threshold=3.962114192089234\"], [\"Threshold=4.052542843008878\"], [\"Threshold=4.142971493928521\"], [\"Threshold=4.233400144848165\"], [\"Threshold=4.323828795767809\"], [\"Threshold=4.4142574466874525\"], [\"Threshold=4.504686097607096\"], [\"Threshold=4.59511474852674\"], [\"Threshold=4.6855433994463835\"], [\"Threshold=4.775972050366027\"], [\"Threshold=4.866400701285671\"], [\"Threshold=4.956829352205315\"], [\"Threshold=5.047258003124958\"], [\"Threshold=5.137686654044602\"], [\"Threshold=5.228115304964246\"], [\"Threshold=5.318543955883889\"], [\"Threshold=5.408972606803533\"]], \"hovertemplate\": \"FPR=%{x}<br>TPR=%{y}<br>Score=%{customdata[0]}<extra></extra>\", \"legendgroup\": \"\", \"line\": {\"color\": \"#636efa\"}, \"mode\": \"lines\", \"name\": \"\", \"orientation\": \"v\", \"showlegend\": false, \"stackgroup\": \"1\", \"type\": \"scatter\", \"x\": [0.9987484355444305, 0.9987484355444305, 0.9949937421777222, 0.9912390488110138, 0.9887359198998749, 0.9737171464330413, 0.967459324155194, 0.9561952440550688, 0.9411764705882353, 0.9224030037546934, 0.886107634543179, 0.8498122653316645, 0.8110137672090113, 0.7684605757196495, 0.72090112640801, 0.6633291614518148, 0.5944931163954944, 0.5319148936170213, 0.47434292866082606, 0.4230287859824781, 0.35544430538172717, 0.28410513141426785, 0.23654568210262827, 0.1964956195244055, 0.15143929912390489, 0.11013767209011265, 0.08135168961201501, 0.05006257822277847, 0.026282853566958697, 0.0, 0.0, 0.0, 0.0, 0.0, 0.0, 0.0, 0.0, 0.0, 0.0, 0.0, 0.0, 0.0, 0.0, 0.0, 0.0, 0.0, 0.0, 0.0, 0.0, 0.0, 0.0, 0.0, 0.0, 0.0, 0.0, 0.0, 0.0, 0.0, 0.0, 0.0, 0.0, 0.0, 0.0, 0.0, 0.0, 0.0, 0.0, 0.0, 0.0, 0.0, 0.0, 0.0, 0.0, 0.0, 0.0, 0.0, 0.0, 0.0, 0.0, 0.0, 0.0, 0.0, 0.0, 0.0, 0.0, 0.0, 0.0, 0.0, 0.0, 0.0, 0.0, 0.0, 0.0, 0.0, 0.0, 0.0, 0.0, 0.0, 0.0, 0.0], \"xaxis\": \"x\", \"y\": [1.0, 1.0, 1.0, 1.0, 1.0, 1.0, 1.0, 1.0, 1.0, 1.0, 1.0, 1.0, 1.0, 1.0, 1.0, 1.0, 1.0, 1.0, 1.0, 1.0, 1.0, 1.0, 1.0, 1.0, 1.0, 1.0, 1.0, 1.0, 1.0, 1.0, 1.0, 1.0, 1.0, 1.0, 1.0, 1.0, 1.0, 1.0, 1.0, 1.0, 1.0, 1.0, 1.0, 1.0, 1.0, 1.0, 1.0, 1.0, 1.0, 1.0, 1.0, 0.9288389513108615, 0.9038701622971286, 0.8714107365792759, 0.8476903870162297, 0.8339575530586767, 0.815230961298377, 0.7927590511860175, 0.7677902621722846, 0.7415730337078652, 0.7078651685393258, 0.6716604244694132, 0.6429463171036205, 0.6217228464419475, 0.581772784019975, 0.5455680399500624, 0.5131086142322098, 0.4781523096129838, 0.44069912609238454, 0.41697877652933835, 0.38202247191011235, 0.35580524344569286, 0.30711610486891383, 0.2833957553058677, 0.250936329588015, 0.23220973782771537, 0.19975031210986266, 0.18726591760299627, 0.1585518102372035, 0.13857677902621723, 0.12359550561797752, 0.10986267166042447, 0.09737827715355805, 0.08239700374531835, 0.07615480649188515, 0.06991260923845194, 0.0599250936329588, 0.04868913857677903, 0.03870162297128589, 0.031210986267166042, 0.02372034956304619, 0.018726591760299626, 0.0149812734082397, 0.009987515605493134, 0.00749063670411985, 0.006242197253433208, 0.006242197253433208, 0.006242197253433208, 0.003745318352059925, 0.003745318352059925], \"yaxis\": \"y\"}],\n",
       "                        {\"legend\": {\"tracegroupgap\": 0}, \"template\": {\"data\": {\"bar\": [{\"error_x\": {\"color\": \"#2a3f5f\"}, \"error_y\": {\"color\": \"#2a3f5f\"}, \"marker\": {\"line\": {\"color\": \"#E5ECF6\", \"width\": 0.5}}, \"type\": \"bar\"}], \"barpolar\": [{\"marker\": {\"line\": {\"color\": \"#E5ECF6\", \"width\": 0.5}}, \"type\": \"barpolar\"}], \"carpet\": [{\"aaxis\": {\"endlinecolor\": \"#2a3f5f\", \"gridcolor\": \"white\", \"linecolor\": \"white\", \"minorgridcolor\": \"white\", \"startlinecolor\": \"#2a3f5f\"}, \"baxis\": {\"endlinecolor\": \"#2a3f5f\", \"gridcolor\": \"white\", \"linecolor\": \"white\", \"minorgridcolor\": \"white\", \"startlinecolor\": \"#2a3f5f\"}, \"type\": \"carpet\"}], \"choropleth\": [{\"colorbar\": {\"outlinewidth\": 0, \"ticks\": \"\"}, \"type\": \"choropleth\"}], \"contour\": [{\"colorbar\": {\"outlinewidth\": 0, \"ticks\": \"\"}, \"colorscale\": [[0.0, \"#0d0887\"], [0.1111111111111111, \"#46039f\"], [0.2222222222222222, \"#7201a8\"], [0.3333333333333333, \"#9c179e\"], [0.4444444444444444, \"#bd3786\"], [0.5555555555555556, \"#d8576b\"], [0.6666666666666666, \"#ed7953\"], [0.7777777777777778, \"#fb9f3a\"], [0.8888888888888888, \"#fdca26\"], [1.0, \"#f0f921\"]], \"type\": \"contour\"}], \"contourcarpet\": [{\"colorbar\": {\"outlinewidth\": 0, \"ticks\": \"\"}, \"type\": \"contourcarpet\"}], \"heatmap\": [{\"colorbar\": {\"outlinewidth\": 0, \"ticks\": \"\"}, \"colorscale\": [[0.0, \"#0d0887\"], [0.1111111111111111, \"#46039f\"], [0.2222222222222222, \"#7201a8\"], [0.3333333333333333, \"#9c179e\"], [0.4444444444444444, \"#bd3786\"], [0.5555555555555556, \"#d8576b\"], [0.6666666666666666, \"#ed7953\"], [0.7777777777777778, \"#fb9f3a\"], [0.8888888888888888, \"#fdca26\"], [1.0, \"#f0f921\"]], \"type\": \"heatmap\"}], \"heatmapgl\": [{\"colorbar\": {\"outlinewidth\": 0, \"ticks\": \"\"}, \"colorscale\": [[0.0, \"#0d0887\"], [0.1111111111111111, \"#46039f\"], [0.2222222222222222, \"#7201a8\"], [0.3333333333333333, \"#9c179e\"], [0.4444444444444444, \"#bd3786\"], [0.5555555555555556, \"#d8576b\"], [0.6666666666666666, \"#ed7953\"], [0.7777777777777778, \"#fb9f3a\"], [0.8888888888888888, \"#fdca26\"], [1.0, \"#f0f921\"]], \"type\": \"heatmapgl\"}], \"histogram\": [{\"marker\": {\"colorbar\": {\"outlinewidth\": 0, \"ticks\": \"\"}}, \"type\": \"histogram\"}], \"histogram2d\": [{\"colorbar\": {\"outlinewidth\": 0, \"ticks\": \"\"}, \"colorscale\": [[0.0, \"#0d0887\"], [0.1111111111111111, \"#46039f\"], [0.2222222222222222, \"#7201a8\"], [0.3333333333333333, \"#9c179e\"], [0.4444444444444444, \"#bd3786\"], [0.5555555555555556, \"#d8576b\"], [0.6666666666666666, \"#ed7953\"], [0.7777777777777778, \"#fb9f3a\"], [0.8888888888888888, \"#fdca26\"], [1.0, \"#f0f921\"]], \"type\": \"histogram2d\"}], \"histogram2dcontour\": [{\"colorbar\": {\"outlinewidth\": 0, \"ticks\": \"\"}, \"colorscale\": [[0.0, \"#0d0887\"], [0.1111111111111111, \"#46039f\"], [0.2222222222222222, \"#7201a8\"], [0.3333333333333333, \"#9c179e\"], [0.4444444444444444, \"#bd3786\"], [0.5555555555555556, \"#d8576b\"], [0.6666666666666666, \"#ed7953\"], [0.7777777777777778, \"#fb9f3a\"], [0.8888888888888888, \"#fdca26\"], [1.0, \"#f0f921\"]], \"type\": \"histogram2dcontour\"}], \"mesh3d\": [{\"colorbar\": {\"outlinewidth\": 0, \"ticks\": \"\"}, \"type\": \"mesh3d\"}], \"parcoords\": [{\"line\": {\"colorbar\": {\"outlinewidth\": 0, \"ticks\": \"\"}}, \"type\": \"parcoords\"}], \"pie\": [{\"automargin\": true, \"type\": \"pie\"}], \"scatter\": [{\"marker\": {\"colorbar\": {\"outlinewidth\": 0, \"ticks\": \"\"}}, \"type\": \"scatter\"}], \"scatter3d\": [{\"line\": {\"colorbar\": {\"outlinewidth\": 0, \"ticks\": \"\"}}, \"marker\": {\"colorbar\": {\"outlinewidth\": 0, \"ticks\": \"\"}}, \"type\": \"scatter3d\"}], \"scattercarpet\": [{\"marker\": {\"colorbar\": {\"outlinewidth\": 0, \"ticks\": \"\"}}, \"type\": \"scattercarpet\"}], \"scattergeo\": [{\"marker\": {\"colorbar\": {\"outlinewidth\": 0, \"ticks\": \"\"}}, \"type\": \"scattergeo\"}], \"scattergl\": [{\"marker\": {\"colorbar\": {\"outlinewidth\": 0, \"ticks\": \"\"}}, \"type\": \"scattergl\"}], \"scattermapbox\": [{\"marker\": {\"colorbar\": {\"outlinewidth\": 0, \"ticks\": \"\"}}, \"type\": \"scattermapbox\"}], \"scatterpolar\": [{\"marker\": {\"colorbar\": {\"outlinewidth\": 0, \"ticks\": \"\"}}, \"type\": \"scatterpolar\"}], \"scatterpolargl\": [{\"marker\": {\"colorbar\": {\"outlinewidth\": 0, \"ticks\": \"\"}}, \"type\": \"scatterpolargl\"}], \"scatterternary\": [{\"marker\": {\"colorbar\": {\"outlinewidth\": 0, \"ticks\": \"\"}}, \"type\": \"scatterternary\"}], \"surface\": [{\"colorbar\": {\"outlinewidth\": 0, \"ticks\": \"\"}, \"colorscale\": [[0.0, \"#0d0887\"], [0.1111111111111111, \"#46039f\"], [0.2222222222222222, \"#7201a8\"], [0.3333333333333333, \"#9c179e\"], [0.4444444444444444, \"#bd3786\"], [0.5555555555555556, \"#d8576b\"], [0.6666666666666666, \"#ed7953\"], [0.7777777777777778, \"#fb9f3a\"], [0.8888888888888888, \"#fdca26\"], [1.0, \"#f0f921\"]], \"type\": \"surface\"}], \"table\": [{\"cells\": {\"fill\": {\"color\": \"#EBF0F8\"}, \"line\": {\"color\": \"white\"}}, \"header\": {\"fill\": {\"color\": \"#C8D4E3\"}, \"line\": {\"color\": \"white\"}}, \"type\": \"table\"}]}, \"layout\": {\"annotationdefaults\": {\"arrowcolor\": \"#2a3f5f\", \"arrowhead\": 0, \"arrowwidth\": 1}, \"coloraxis\": {\"colorbar\": {\"outlinewidth\": 0, \"ticks\": \"\"}}, \"colorscale\": {\"diverging\": [[0, \"#8e0152\"], [0.1, \"#c51b7d\"], [0.2, \"#de77ae\"], [0.3, \"#f1b6da\"], [0.4, \"#fde0ef\"], [0.5, \"#f7f7f7\"], [0.6, \"#e6f5d0\"], [0.7, \"#b8e186\"], [0.8, \"#7fbc41\"], [0.9, \"#4d9221\"], [1, \"#276419\"]], \"sequential\": [[0.0, \"#0d0887\"], [0.1111111111111111, \"#46039f\"], [0.2222222222222222, \"#7201a8\"], [0.3333333333333333, \"#9c179e\"], [0.4444444444444444, \"#bd3786\"], [0.5555555555555556, \"#d8576b\"], [0.6666666666666666, \"#ed7953\"], [0.7777777777777778, \"#fb9f3a\"], [0.8888888888888888, \"#fdca26\"], [1.0, \"#f0f921\"]], \"sequentialminus\": [[0.0, \"#0d0887\"], [0.1111111111111111, \"#46039f\"], [0.2222222222222222, \"#7201a8\"], [0.3333333333333333, \"#9c179e\"], [0.4444444444444444, \"#bd3786\"], [0.5555555555555556, \"#d8576b\"], [0.6666666666666666, \"#ed7953\"], [0.7777777777777778, \"#fb9f3a\"], [0.8888888888888888, \"#fdca26\"], [1.0, \"#f0f921\"]]}, \"colorway\": [\"#636efa\", \"#EF553B\", \"#00cc96\", \"#ab63fa\", \"#FFA15A\", \"#19d3f3\", \"#FF6692\", \"#B6E880\", \"#FF97FF\", \"#FECB52\"], \"font\": {\"color\": \"#2a3f5f\"}, \"geo\": {\"bgcolor\": \"white\", \"lakecolor\": \"white\", \"landcolor\": \"#E5ECF6\", \"showlakes\": true, \"showland\": true, \"subunitcolor\": \"white\"}, \"hoverlabel\": {\"align\": \"left\"}, \"hovermode\": \"closest\", \"mapbox\": {\"style\": \"light\"}, \"paper_bgcolor\": \"white\", \"plot_bgcolor\": \"#E5ECF6\", \"polar\": {\"angularaxis\": {\"gridcolor\": \"white\", \"linecolor\": \"white\", \"ticks\": \"\"}, \"bgcolor\": \"#E5ECF6\", \"radialaxis\": {\"gridcolor\": \"white\", \"linecolor\": \"white\", \"ticks\": \"\"}}, \"scene\": {\"xaxis\": {\"backgroundcolor\": \"#E5ECF6\", \"gridcolor\": \"white\", \"gridwidth\": 2, \"linecolor\": \"white\", \"showbackground\": true, \"ticks\": \"\", \"zerolinecolor\": \"white\"}, \"yaxis\": {\"backgroundcolor\": \"#E5ECF6\", \"gridcolor\": \"white\", \"gridwidth\": 2, \"linecolor\": \"white\", \"showbackground\": true, \"ticks\": \"\", \"zerolinecolor\": \"white\"}, \"zaxis\": {\"backgroundcolor\": \"#E5ECF6\", \"gridcolor\": \"white\", \"gridwidth\": 2, \"linecolor\": \"white\", \"showbackground\": true, \"ticks\": \"\", \"zerolinecolor\": \"white\"}}, \"shapedefaults\": {\"line\": {\"color\": \"#2a3f5f\"}}, \"ternary\": {\"aaxis\": {\"gridcolor\": \"white\", \"linecolor\": \"white\", \"ticks\": \"\"}, \"baxis\": {\"gridcolor\": \"white\", \"linecolor\": \"white\", \"ticks\": \"\"}, \"bgcolor\": \"#E5ECF6\", \"caxis\": {\"gridcolor\": \"white\", \"linecolor\": \"white\", \"ticks\": \"\"}}, \"title\": {\"x\": 0.05}, \"xaxis\": {\"automargin\": true, \"gridcolor\": \"white\", \"linecolor\": \"white\", \"ticks\": \"\", \"title\": {\"standoff\": 15}, \"zerolinecolor\": \"white\", \"zerolinewidth\": 2}, \"yaxis\": {\"automargin\": true, \"gridcolor\": \"white\", \"linecolor\": \"white\", \"ticks\": \"\", \"title\": {\"standoff\": 15}, \"zerolinecolor\": \"white\", \"zerolinewidth\": 2}}}, \"title\": {\"text\": \"ROC train Curve\"}, \"xaxis\": {\"anchor\": \"y\", \"domain\": [0.0, 1.0], \"title\": {\"text\": \"FPR\"}}, \"yaxis\": {\"anchor\": \"x\", \"domain\": [0.0, 1.0], \"title\": {\"text\": \"TPR\"}}},\n",
       "                        {\"responsive\": true}\n",
       "                    ).then(function(){\n",
       "                            \n",
       "var gd = document.getElementById('6775c059-2827-4db2-ae3a-18669f6cf00f');\n",
       "var x = new MutationObserver(function (mutations, observer) {{\n",
       "        var display = window.getComputedStyle(gd).display;\n",
       "        if (!display || display === 'none') {{\n",
       "            console.log([gd, 'removed!']);\n",
       "            Plotly.purge(gd);\n",
       "            observer.disconnect();\n",
       "        }}\n",
       "}});\n",
       "\n",
       "// Listen for the removal of the full notebook cells\n",
       "var notebookContainer = gd.closest('#notebook-container');\n",
       "if (notebookContainer) {{\n",
       "    x.observe(notebookContainer, {childList: true});\n",
       "}}\n",
       "\n",
       "// Listen for the clearing of the current output cell\n",
       "var outputEl = gd.closest('.output');\n",
       "if (outputEl) {{\n",
       "    x.observe(outputEl, {childList: true});\n",
       "}}\n",
       "\n",
       "                        })\n",
       "                };\n",
       "                });\n",
       "            </script>\n",
       "        </div>"
      ]
     },
     "metadata": {},
     "output_type": "display_data"
    }
   ],
   "source": [
    "#\n",
    "# Define our \"signal\" digit\n",
    "# and the background digit\n",
    "digitSignal = 5\n",
    "digitBackground = 1\n",
    "\n",
    "dfA = dfAll.loc[dfAll['digit'] == digitSignal].copy()\n",
    "dfB = dfAll.loc[dfAll['digit'] == digitBackground].copy()\n",
    "\n",
    "dfA['signal'] = 1     # dfA has the digit we will look for = the signal\n",
    "dfB['signal'] = 0     # dfB has all of the other digits = the background\n",
    "\n",
    "dfCombined = pd.concat([dfA, dfB], ignore_index=True)\n",
    "\n",
    "# Your code goes here\n",
    "estimator = LinearSVC(random_state=42,dual=False,max_iter=5000)    # use dual=False when  n_samples > n_features which is what we have\n",
    "\n",
    "# call runFitter\n",
    "y_train,y_train_pred,y_train_score,y_train_digit,y_test,y_test_pred,y_test_score,y_test_digit = runFitter(dfCombined,estimator)\n",
    "\n",
    "precision_test,recall_test,auc_test,fpr_test, tpr_test, thresholds_test = binaryPerformance(y_test,y_test_pred,y_test_score,debug=False)\n",
    "precision_train,recall_train,auc_train,fpr_train, tpr_train, thresholds_train = binaryPerformance(y_train,y_train_pred,y_train_score,debug=False)\n",
    "\n",
    "print(\"AUC training data: \",auc_train)\n",
    "print(\"AUC testing data:  \",auc_test)\n",
    "\n",
    "fig = px.area(x=fpr_test,y=tpr_test,labels={'x':'FPR', 'y':'TPR'},\n",
    "                          hover_data={'Score':thresholds_test},title='ROC test Curve')\n",
    "fig.show()\n",
    "\n",
    "fig2 = px.area(x=fpr_train,y=tpr_train,labels={'x':'FPR', 'y':'TPR'},\n",
    "                          hover_data={'Score':thresholds_train},title='ROC train Curve')\n",
    "fig2.show()"
   ]
  },
  {
   "cell_type": "code",
   "execution_count": null,
   "metadata": {},
   "outputs": [],
   "source": [
    "# Performance is clearly better for 1 as the background digit"
   ]
  },
  {
   "cell_type": "markdown",
   "metadata": {},
   "source": [
    "## Impact of less data"
   ]
  },
  {
   "cell_type": "code",
   "execution_count": 53,
   "metadata": {},
   "outputs": [
    {
     "name": "stdout",
     "output_type": "stream",
     "text": [
      "AUC training data:  0.9979253112033195\n",
      "AUC testing data:   0.9367532647957767\n"
     ]
    },
    {
     "data": {
      "text/html": [
       "<div>\n",
       "        \n",
       "        \n",
       "            <div id=\"14613043-6857-4879-a292-fb55ba5bcb2f\" class=\"plotly-graph-div\" style=\"height:525px; width:100%;\"></div>\n",
       "            <script type=\"text/javascript\">\n",
       "                require([\"plotly\"], function(Plotly) {\n",
       "                    window.PLOTLYENV=window.PLOTLYENV || {};\n",
       "                    \n",
       "                if (document.getElementById(\"14613043-6857-4879-a292-fb55ba5bcb2f\")) {\n",
       "                    Plotly.newPlot(\n",
       "                        '14613043-6857-4879-a292-fb55ba5bcb2f',\n",
       "                        [{\"customdata\": [[\"Threshold=-11.369040660039886\"], [\"Threshold=-11.188322323639307\"], [\"Threshold=-11.007603987238728\"], [\"Threshold=-10.826885650838149\"], [\"Threshold=-10.64616731443757\"], [\"Threshold=-10.46544897803699\"], [\"Threshold=-10.284730641636411\"], [\"Threshold=-10.104012305235832\"], [\"Threshold=-9.923293968835253\"], [\"Threshold=-9.742575632434674\"], [\"Threshold=-9.561857296034095\"], [\"Threshold=-9.381138959633516\"], [\"Threshold=-9.200420623232937\"], [\"Threshold=-9.019702286832358\"], [\"Threshold=-8.838983950431778\"], [\"Threshold=-8.6582656140312\"], [\"Threshold=-8.47754727763062\"], [\"Threshold=-8.296828941230041\"], [\"Threshold=-8.116110604829462\"], [\"Threshold=-7.935392268428883\"], [\"Threshold=-7.754673932028304\"], [\"Threshold=-7.573955595627725\"], [\"Threshold=-7.393237259227146\"], [\"Threshold=-7.2125189228265665\"], [\"Threshold=-7.031800586425987\"], [\"Threshold=-6.851082250025408\"], [\"Threshold=-6.670363913624829\"], [\"Threshold=-6.48964557722425\"], [\"Threshold=-6.308927240823671\"], [\"Threshold=-6.128208904423092\"], [\"Threshold=-5.947490568022513\"], [\"Threshold=-5.766772231621934\"], [\"Threshold=-5.5860538952213545\"], [\"Threshold=-5.405335558820775\"], [\"Threshold=-5.224617222420196\"], [\"Threshold=-5.043898886019617\"], [\"Threshold=-4.863180549619038\"], [\"Threshold=-4.682462213218459\"], [\"Threshold=-4.50174387681788\"], [\"Threshold=-4.321025540417301\"], [\"Threshold=-4.140307204016722\"], [\"Threshold=-3.959588867616142\"], [\"Threshold=-3.7788705312155626\"], [\"Threshold=-3.598152194814983\"], [\"Threshold=-3.4174338584144035\"], [\"Threshold=-3.236715522013824\"], [\"Threshold=-3.0559971856132444\"], [\"Threshold=-2.875278849212665\"], [\"Threshold=-2.6945605128120853\"], [\"Threshold=-2.5138421764115058\"], [\"Threshold=-2.333123840010926\"], [\"Threshold=-2.1524055036103467\"], [\"Threshold=-1.971687167209767\"], [\"Threshold=-1.7909688308091876\"], [\"Threshold=-1.610250494408608\"], [\"Threshold=-1.4295321580080285\"], [\"Threshold=-1.248813821607449\"], [\"Threshold=-1.0680954852068694\"], [\"Threshold=-0.8873771488062898\"], [\"Threshold=-0.7066588124057103\"], [\"Threshold=-0.5259404760051307\"], [\"Threshold=-0.3452221396045512\"], [\"Threshold=-0.16450380320397173\"], [\"Threshold=0.01621453319660776\"], [\"Threshold=0.19693286959718725\"], [\"Threshold=0.37765120599776675\"], [\"Threshold=0.5583695423983462\"], [\"Threshold=0.7390878787989257\"], [\"Threshold=0.9198062151995052\"], [\"Threshold=1.1005245516000848\"], [\"Threshold=1.2812428880006643\"], [\"Threshold=1.4619612244012439\"], [\"Threshold=1.6426795608018234\"], [\"Threshold=1.823397897202403\"], [\"Threshold=2.0041162336029825\"], [\"Threshold=2.184834570003562\"], [\"Threshold=2.3655529064041416\"], [\"Threshold=2.546271242804721\"], [\"Threshold=2.7269895792053007\"], [\"Threshold=2.9077079156058803\"], [\"Threshold=3.08842625200646\"], [\"Threshold=3.2691445884070394\"], [\"Threshold=3.449862924807619\"], [\"Threshold=3.6305812612081985\"], [\"Threshold=3.811299597608778\"], [\"Threshold=3.9920179340093576\"], [\"Threshold=4.172736270409937\"], [\"Threshold=4.353454606810516\"], [\"Threshold=4.534172943211095\"], [\"Threshold=4.714891279611674\"], [\"Threshold=4.895609616012253\"], [\"Threshold=5.076327952412832\"], [\"Threshold=5.257046288813411\"], [\"Threshold=5.43776462521399\"], [\"Threshold=5.6184829616145695\"], [\"Threshold=5.799201298015149\"], [\"Threshold=5.979919634415728\"], [\"Threshold=6.160637970816307\"], [\"Threshold=6.341356307216886\"], [\"Threshold=6.522074643617465\"]], \"hovertemplate\": \"FPR=%{x}<br>TPR=%{y}<br>Score=%{customdata[0]}<extra></extra>\", \"legendgroup\": \"\", \"line\": {\"color\": \"#636efa\"}, \"mode\": \"lines\", \"name\": \"\", \"orientation\": \"v\", \"showlegend\": false, \"stackgroup\": \"1\", \"type\": \"scatter\", \"x\": [0.9915254237288136, 0.9915254237288136, 0.9915254237288136, 0.9915254237288136, 0.9915254237288136, 0.9915254237288136, 0.9830508474576272, 0.9830508474576272, 0.9661016949152542, 0.9661016949152542, 0.9661016949152542, 0.9661016949152542, 0.9661016949152542, 0.9576271186440678, 0.9576271186440678, 0.9576271186440678, 0.9576271186440678, 0.9576271186440678, 0.9576271186440678, 0.9576271186440678, 0.9576271186440678, 0.9576271186440678, 0.9491525423728814, 0.940677966101695, 0.940677966101695, 0.9322033898305084, 0.9152542372881356, 0.9067796610169492, 0.9067796610169492, 0.8983050847457628, 0.8983050847457628, 0.8813559322033898, 0.8813559322033898, 0.847457627118644, 0.847457627118644, 0.8220338983050848, 0.7796610169491526, 0.7457627118644068, 0.7372881355932204, 0.7033898305084746, 0.6864406779661016, 0.6694915254237288, 0.6610169491525424, 0.652542372881356, 0.6186440677966102, 0.5847457627118644, 0.5677966101694916, 0.5169491525423728, 0.5084745762711864, 0.5, 0.4576271186440678, 0.4322033898305085, 0.3898305084745763, 0.3728813559322034, 0.3474576271186441, 0.3050847457627119, 0.2711864406779661, 0.2288135593220339, 0.17796610169491525, 0.1440677966101695, 0.1016949152542373, 0.06779661016949153, 0.06779661016949153, 0.059322033898305086, 0.05084745762711865, 0.05084745762711865, 0.05084745762711865, 0.00847457627118644, 0.00847457627118644, 0.00847457627118644, 0.00847457627118644, 0.00847457627118644, 0.00847457627118644, 0.00847457627118644, 0.00847457627118644, 0.00847457627118644, 0.00847457627118644, 0.00847457627118644, 0.00847457627118644, 0.00847457627118644, 0.00847457627118644, 0.00847457627118644, 0.00847457627118644, 0.00847457627118644, 0.0, 0.0, 0.0, 0.0, 0.0, 0.0, 0.0, 0.0, 0.0, 0.0, 0.0, 0.0, 0.0, 0.0, 0.0, 0.0], \"xaxis\": \"x\", \"y\": [1.0, 1.0, 1.0, 1.0, 1.0, 1.0, 1.0, 1.0, 1.0, 1.0, 1.0, 1.0, 1.0, 1.0, 1.0, 1.0, 1.0, 1.0, 1.0, 1.0, 1.0, 1.0, 1.0, 1.0, 1.0, 1.0, 1.0, 1.0, 1.0, 1.0, 1.0, 1.0, 1.0, 1.0, 1.0, 0.9918032786885246, 0.9918032786885246, 0.9918032786885246, 0.9918032786885246, 0.9918032786885246, 0.9836065573770492, 0.9836065573770492, 0.9836065573770492, 0.9836065573770492, 0.9836065573770492, 0.9836065573770492, 0.9836065573770492, 0.9754098360655737, 0.9754098360655737, 0.9754098360655737, 0.9590163934426229, 0.9590163934426229, 0.9590163934426229, 0.9508196721311475, 0.9426229508196722, 0.9344262295081968, 0.9180327868852459, 0.9098360655737705, 0.9016393442622951, 0.8852459016393442, 0.8852459016393442, 0.8688524590163934, 0.8688524590163934, 0.8524590163934426, 0.8442622950819673, 0.8114754098360656, 0.7950819672131147, 0.7786885245901639, 0.7622950819672131, 0.7459016393442623, 0.7131147540983607, 0.7049180327868853, 0.6639344262295082, 0.6557377049180327, 0.6229508196721312, 0.5901639344262295, 0.5655737704918032, 0.5245901639344263, 0.4918032786885246, 0.4426229508196721, 0.4098360655737705, 0.38524590163934425, 0.3360655737704918, 0.30327868852459017, 0.2540983606557377, 0.21311475409836064, 0.18032786885245902, 0.16393442622950818, 0.11475409836065574, 0.09016393442622951, 0.09016393442622951, 0.06557377049180328, 0.03278688524590164, 0.01639344262295082, 0.00819672131147541, 0.00819672131147541, 0.00819672131147541, 0.00819672131147541, 0.00819672131147541, 0.00819672131147541], \"yaxis\": \"y\"}],\n",
       "                        {\"legend\": {\"tracegroupgap\": 0}, \"template\": {\"data\": {\"bar\": [{\"error_x\": {\"color\": \"#2a3f5f\"}, \"error_y\": {\"color\": \"#2a3f5f\"}, \"marker\": {\"line\": {\"color\": \"#E5ECF6\", \"width\": 0.5}}, \"type\": \"bar\"}], \"barpolar\": [{\"marker\": {\"line\": {\"color\": \"#E5ECF6\", \"width\": 0.5}}, \"type\": \"barpolar\"}], \"carpet\": [{\"aaxis\": {\"endlinecolor\": \"#2a3f5f\", \"gridcolor\": \"white\", \"linecolor\": \"white\", \"minorgridcolor\": \"white\", \"startlinecolor\": \"#2a3f5f\"}, \"baxis\": {\"endlinecolor\": \"#2a3f5f\", \"gridcolor\": \"white\", \"linecolor\": \"white\", \"minorgridcolor\": \"white\", \"startlinecolor\": \"#2a3f5f\"}, \"type\": \"carpet\"}], \"choropleth\": [{\"colorbar\": {\"outlinewidth\": 0, \"ticks\": \"\"}, \"type\": \"choropleth\"}], \"contour\": [{\"colorbar\": {\"outlinewidth\": 0, \"ticks\": \"\"}, \"colorscale\": [[0.0, \"#0d0887\"], [0.1111111111111111, \"#46039f\"], [0.2222222222222222, \"#7201a8\"], [0.3333333333333333, \"#9c179e\"], [0.4444444444444444, \"#bd3786\"], [0.5555555555555556, \"#d8576b\"], [0.6666666666666666, \"#ed7953\"], [0.7777777777777778, \"#fb9f3a\"], [0.8888888888888888, \"#fdca26\"], [1.0, \"#f0f921\"]], \"type\": \"contour\"}], \"contourcarpet\": [{\"colorbar\": {\"outlinewidth\": 0, \"ticks\": \"\"}, \"type\": \"contourcarpet\"}], \"heatmap\": [{\"colorbar\": {\"outlinewidth\": 0, \"ticks\": \"\"}, \"colorscale\": [[0.0, \"#0d0887\"], [0.1111111111111111, \"#46039f\"], [0.2222222222222222, \"#7201a8\"], [0.3333333333333333, \"#9c179e\"], [0.4444444444444444, \"#bd3786\"], [0.5555555555555556, \"#d8576b\"], [0.6666666666666666, \"#ed7953\"], [0.7777777777777778, \"#fb9f3a\"], [0.8888888888888888, \"#fdca26\"], [1.0, \"#f0f921\"]], \"type\": \"heatmap\"}], \"heatmapgl\": [{\"colorbar\": {\"outlinewidth\": 0, \"ticks\": \"\"}, \"colorscale\": [[0.0, \"#0d0887\"], [0.1111111111111111, \"#46039f\"], [0.2222222222222222, \"#7201a8\"], [0.3333333333333333, \"#9c179e\"], [0.4444444444444444, \"#bd3786\"], [0.5555555555555556, \"#d8576b\"], [0.6666666666666666, \"#ed7953\"], [0.7777777777777778, \"#fb9f3a\"], [0.8888888888888888, \"#fdca26\"], [1.0, \"#f0f921\"]], \"type\": \"heatmapgl\"}], \"histogram\": [{\"marker\": {\"colorbar\": {\"outlinewidth\": 0, \"ticks\": \"\"}}, \"type\": \"histogram\"}], \"histogram2d\": [{\"colorbar\": {\"outlinewidth\": 0, \"ticks\": \"\"}, \"colorscale\": [[0.0, \"#0d0887\"], [0.1111111111111111, \"#46039f\"], [0.2222222222222222, \"#7201a8\"], [0.3333333333333333, \"#9c179e\"], [0.4444444444444444, \"#bd3786\"], [0.5555555555555556, \"#d8576b\"], [0.6666666666666666, \"#ed7953\"], [0.7777777777777778, \"#fb9f3a\"], [0.8888888888888888, \"#fdca26\"], [1.0, \"#f0f921\"]], \"type\": \"histogram2d\"}], \"histogram2dcontour\": [{\"colorbar\": {\"outlinewidth\": 0, \"ticks\": \"\"}, \"colorscale\": [[0.0, \"#0d0887\"], [0.1111111111111111, \"#46039f\"], [0.2222222222222222, \"#7201a8\"], [0.3333333333333333, \"#9c179e\"], [0.4444444444444444, \"#bd3786\"], [0.5555555555555556, \"#d8576b\"], [0.6666666666666666, \"#ed7953\"], [0.7777777777777778, \"#fb9f3a\"], [0.8888888888888888, \"#fdca26\"], [1.0, \"#f0f921\"]], \"type\": \"histogram2dcontour\"}], \"mesh3d\": [{\"colorbar\": {\"outlinewidth\": 0, \"ticks\": \"\"}, \"type\": \"mesh3d\"}], \"parcoords\": [{\"line\": {\"colorbar\": {\"outlinewidth\": 0, \"ticks\": \"\"}}, \"type\": \"parcoords\"}], \"pie\": [{\"automargin\": true, \"type\": \"pie\"}], \"scatter\": [{\"marker\": {\"colorbar\": {\"outlinewidth\": 0, \"ticks\": \"\"}}, \"type\": \"scatter\"}], \"scatter3d\": [{\"line\": {\"colorbar\": {\"outlinewidth\": 0, \"ticks\": \"\"}}, \"marker\": {\"colorbar\": {\"outlinewidth\": 0, \"ticks\": \"\"}}, \"type\": \"scatter3d\"}], \"scattercarpet\": [{\"marker\": {\"colorbar\": {\"outlinewidth\": 0, \"ticks\": \"\"}}, \"type\": \"scattercarpet\"}], \"scattergeo\": [{\"marker\": {\"colorbar\": {\"outlinewidth\": 0, \"ticks\": \"\"}}, \"type\": \"scattergeo\"}], \"scattergl\": [{\"marker\": {\"colorbar\": {\"outlinewidth\": 0, \"ticks\": \"\"}}, \"type\": \"scattergl\"}], \"scattermapbox\": [{\"marker\": {\"colorbar\": {\"outlinewidth\": 0, \"ticks\": \"\"}}, \"type\": \"scattermapbox\"}], \"scatterpolar\": [{\"marker\": {\"colorbar\": {\"outlinewidth\": 0, \"ticks\": \"\"}}, \"type\": \"scatterpolar\"}], \"scatterpolargl\": [{\"marker\": {\"colorbar\": {\"outlinewidth\": 0, \"ticks\": \"\"}}, \"type\": \"scatterpolargl\"}], \"scatterternary\": [{\"marker\": {\"colorbar\": {\"outlinewidth\": 0, \"ticks\": \"\"}}, \"type\": \"scatterternary\"}], \"surface\": [{\"colorbar\": {\"outlinewidth\": 0, \"ticks\": \"\"}, \"colorscale\": [[0.0, \"#0d0887\"], [0.1111111111111111, \"#46039f\"], [0.2222222222222222, \"#7201a8\"], [0.3333333333333333, \"#9c179e\"], [0.4444444444444444, \"#bd3786\"], [0.5555555555555556, \"#d8576b\"], [0.6666666666666666, \"#ed7953\"], [0.7777777777777778, \"#fb9f3a\"], [0.8888888888888888, \"#fdca26\"], [1.0, \"#f0f921\"]], \"type\": \"surface\"}], \"table\": [{\"cells\": {\"fill\": {\"color\": \"#EBF0F8\"}, \"line\": {\"color\": \"white\"}}, \"header\": {\"fill\": {\"color\": \"#C8D4E3\"}, \"line\": {\"color\": \"white\"}}, \"type\": \"table\"}]}, \"layout\": {\"annotationdefaults\": {\"arrowcolor\": \"#2a3f5f\", \"arrowhead\": 0, \"arrowwidth\": 1}, \"coloraxis\": {\"colorbar\": {\"outlinewidth\": 0, \"ticks\": \"\"}}, \"colorscale\": {\"diverging\": [[0, \"#8e0152\"], [0.1, \"#c51b7d\"], [0.2, \"#de77ae\"], [0.3, \"#f1b6da\"], [0.4, \"#fde0ef\"], [0.5, \"#f7f7f7\"], [0.6, \"#e6f5d0\"], [0.7, \"#b8e186\"], [0.8, \"#7fbc41\"], [0.9, \"#4d9221\"], [1, \"#276419\"]], \"sequential\": [[0.0, \"#0d0887\"], [0.1111111111111111, \"#46039f\"], [0.2222222222222222, \"#7201a8\"], [0.3333333333333333, \"#9c179e\"], [0.4444444444444444, \"#bd3786\"], [0.5555555555555556, \"#d8576b\"], [0.6666666666666666, \"#ed7953\"], [0.7777777777777778, \"#fb9f3a\"], [0.8888888888888888, \"#fdca26\"], [1.0, \"#f0f921\"]], \"sequentialminus\": [[0.0, \"#0d0887\"], [0.1111111111111111, \"#46039f\"], [0.2222222222222222, \"#7201a8\"], [0.3333333333333333, \"#9c179e\"], [0.4444444444444444, \"#bd3786\"], [0.5555555555555556, \"#d8576b\"], [0.6666666666666666, \"#ed7953\"], [0.7777777777777778, \"#fb9f3a\"], [0.8888888888888888, \"#fdca26\"], [1.0, \"#f0f921\"]]}, \"colorway\": [\"#636efa\", \"#EF553B\", \"#00cc96\", \"#ab63fa\", \"#FFA15A\", \"#19d3f3\", \"#FF6692\", \"#B6E880\", \"#FF97FF\", \"#FECB52\"], \"font\": {\"color\": \"#2a3f5f\"}, \"geo\": {\"bgcolor\": \"white\", \"lakecolor\": \"white\", \"landcolor\": \"#E5ECF6\", \"showlakes\": true, \"showland\": true, \"subunitcolor\": \"white\"}, \"hoverlabel\": {\"align\": \"left\"}, \"hovermode\": \"closest\", \"mapbox\": {\"style\": \"light\"}, \"paper_bgcolor\": \"white\", \"plot_bgcolor\": \"#E5ECF6\", \"polar\": {\"angularaxis\": {\"gridcolor\": \"white\", \"linecolor\": \"white\", \"ticks\": \"\"}, \"bgcolor\": \"#E5ECF6\", \"radialaxis\": {\"gridcolor\": \"white\", \"linecolor\": \"white\", \"ticks\": \"\"}}, \"scene\": {\"xaxis\": {\"backgroundcolor\": \"#E5ECF6\", \"gridcolor\": \"white\", \"gridwidth\": 2, \"linecolor\": \"white\", \"showbackground\": true, \"ticks\": \"\", \"zerolinecolor\": \"white\"}, \"yaxis\": {\"backgroundcolor\": \"#E5ECF6\", \"gridcolor\": \"white\", \"gridwidth\": 2, \"linecolor\": \"white\", \"showbackground\": true, \"ticks\": \"\", \"zerolinecolor\": \"white\"}, \"zaxis\": {\"backgroundcolor\": \"#E5ECF6\", \"gridcolor\": \"white\", \"gridwidth\": 2, \"linecolor\": \"white\", \"showbackground\": true, \"ticks\": \"\", \"zerolinecolor\": \"white\"}}, \"shapedefaults\": {\"line\": {\"color\": \"#2a3f5f\"}}, \"ternary\": {\"aaxis\": {\"gridcolor\": \"white\", \"linecolor\": \"white\", \"ticks\": \"\"}, \"baxis\": {\"gridcolor\": \"white\", \"linecolor\": \"white\", \"ticks\": \"\"}, \"bgcolor\": \"#E5ECF6\", \"caxis\": {\"gridcolor\": \"white\", \"linecolor\": \"white\", \"ticks\": \"\"}}, \"title\": {\"x\": 0.05}, \"xaxis\": {\"automargin\": true, \"gridcolor\": \"white\", \"linecolor\": \"white\", \"ticks\": \"\", \"title\": {\"standoff\": 15}, \"zerolinecolor\": \"white\", \"zerolinewidth\": 2}, \"yaxis\": {\"automargin\": true, \"gridcolor\": \"white\", \"linecolor\": \"white\", \"ticks\": \"\", \"title\": {\"standoff\": 15}, \"zerolinecolor\": \"white\", \"zerolinewidth\": 2}}}, \"title\": {\"text\": \"ROC test Curve\"}, \"xaxis\": {\"anchor\": \"y\", \"domain\": [0.0, 1.0], \"title\": {\"text\": \"FPR\"}}, \"yaxis\": {\"anchor\": \"x\", \"domain\": [0.0, 1.0], \"title\": {\"text\": \"TPR\"}}},\n",
       "                        {\"responsive\": true}\n",
       "                    ).then(function(){\n",
       "                            \n",
       "var gd = document.getElementById('14613043-6857-4879-a292-fb55ba5bcb2f');\n",
       "var x = new MutationObserver(function (mutations, observer) {{\n",
       "        var display = window.getComputedStyle(gd).display;\n",
       "        if (!display || display === 'none') {{\n",
       "            console.log([gd, 'removed!']);\n",
       "            Plotly.purge(gd);\n",
       "            observer.disconnect();\n",
       "        }}\n",
       "}});\n",
       "\n",
       "// Listen for the removal of the full notebook cells\n",
       "var notebookContainer = gd.closest('#notebook-container');\n",
       "if (notebookContainer) {{\n",
       "    x.observe(notebookContainer, {childList: true});\n",
       "}}\n",
       "\n",
       "// Listen for the clearing of the current output cell\n",
       "var outputEl = gd.closest('.output');\n",
       "if (outputEl) {{\n",
       "    x.observe(outputEl, {childList: true});\n",
       "}}\n",
       "\n",
       "                        })\n",
       "                };\n",
       "                });\n",
       "            </script>\n",
       "        </div>"
      ]
     },
     "metadata": {},
     "output_type": "display_data"
    },
    {
     "data": {
      "text/html": [
       "<div>\n",
       "        \n",
       "        \n",
       "            <div id=\"ca4f742e-4c34-4910-b2d8-8a9a12b65d95\" class=\"plotly-graph-div\" style=\"height:525px; width:100%;\"></div>\n",
       "            <script type=\"text/javascript\">\n",
       "                require([\"plotly\"], function(Plotly) {\n",
       "                    window.PLOTLYENV=window.PLOTLYENV || {};\n",
       "                    \n",
       "                if (document.getElementById(\"ca4f742e-4c34-4910-b2d8-8a9a12b65d95\")) {\n",
       "                    Plotly.newPlot(\n",
       "                        'ca4f742e-4c34-4910-b2d8-8a9a12b65d95',\n",
       "                        [{\"customdata\": [[\"Threshold=-13.93940749681627\"], [\"Threshold=-13.725639583179358\"], [\"Threshold=-13.511871669542447\"], [\"Threshold=-13.298103755905537\"], [\"Threshold=-13.084335842268626\"], [\"Threshold=-12.870567928631715\"], [\"Threshold=-12.656800014994804\"], [\"Threshold=-12.443032101357893\"], [\"Threshold=-12.229264187720982\"], [\"Threshold=-12.015496274084072\"], [\"Threshold=-11.80172836044716\"], [\"Threshold=-11.58796044681025\"], [\"Threshold=-11.37419253317334\"], [\"Threshold=-11.160424619536428\"], [\"Threshold=-10.946656705899517\"], [\"Threshold=-10.732888792262607\"], [\"Threshold=-10.519120878625696\"], [\"Threshold=-10.305352964988785\"], [\"Threshold=-10.091585051351874\"], [\"Threshold=-9.877817137714963\"], [\"Threshold=-9.664049224078052\"], [\"Threshold=-9.450281310441142\"], [\"Threshold=-9.23651339680423\"], [\"Threshold=-9.02274548316732\"], [\"Threshold=-8.80897756953041\"], [\"Threshold=-8.595209655893498\"], [\"Threshold=-8.381441742256587\"], [\"Threshold=-8.167673828619677\"], [\"Threshold=-7.953905914982766\"], [\"Threshold=-7.740138001345855\"], [\"Threshold=-7.526370087708944\"], [\"Threshold=-7.312602174072033\"], [\"Threshold=-7.0988342604351224\"], [\"Threshold=-6.885066346798212\"], [\"Threshold=-6.671298433161301\"], [\"Threshold=-6.45753051952439\"], [\"Threshold=-6.243762605887479\"], [\"Threshold=-6.029994692250568\"], [\"Threshold=-5.8162267786136574\"], [\"Threshold=-5.602458864976747\"], [\"Threshold=-5.388690951339836\"], [\"Threshold=-5.174923037702925\"], [\"Threshold=-4.961155124066014\"], [\"Threshold=-4.747387210429103\"], [\"Threshold=-4.533619296792192\"], [\"Threshold=-4.319851383155282\"], [\"Threshold=-4.106083469518371\"], [\"Threshold=-3.8923155558814604\"], [\"Threshold=-3.67854764224455\"], [\"Threshold=-3.4647797286076396\"], [\"Threshold=-3.251011814970729\"], [\"Threshold=-3.037243901333819\"], [\"Threshold=-2.8234759876969084\"], [\"Threshold=-2.609708074059998\"], [\"Threshold=-2.3959401604230877\"], [\"Threshold=-2.1821722467861773\"], [\"Threshold=-1.9684043331492667\"], [\"Threshold=-1.754636419512356\"], [\"Threshold=-1.5408685058754454\"], [\"Threshold=-1.3271005922385348\"], [\"Threshold=-1.1133326786016242\"], [\"Threshold=-0.8995647649647136\"], [\"Threshold=-0.685796851327803\"], [\"Threshold=-0.47202893769089244\"], [\"Threshold=-0.2582610240539819\"], [\"Threshold=-0.044493110417071324\"], [\"Threshold=0.16927480321983923\"], [\"Threshold=0.3830427168567498\"], [\"Threshold=0.5968106304936603\"], [\"Threshold=0.8105785441305708\"], [\"Threshold=1.0243464577674815\"], [\"Threshold=1.238114371404392\"], [\"Threshold=1.4518822850413027\"], [\"Threshold=1.6656501986782133\"], [\"Threshold=1.879418112315124\"], [\"Threshold=2.0931860259520345\"], [\"Threshold=2.306953939588945\"], [\"Threshold=2.5207218532258553\"], [\"Threshold=2.7344897668627657\"], [\"Threshold=2.948257680499676\"], [\"Threshold=3.1620255941365865\"], [\"Threshold=3.375793507773497\"], [\"Threshold=3.5895614214104072\"], [\"Threshold=3.8033293350473176\"], [\"Threshold=4.0170972486842285\"], [\"Threshold=4.230865162321139\"], [\"Threshold=4.44463307595805\"], [\"Threshold=4.658400989594961\"], [\"Threshold=4.872168903231872\"], [\"Threshold=5.085936816868783\"], [\"Threshold=5.2997047305056935\"], [\"Threshold=5.513472644142604\"], [\"Threshold=5.727240557779515\"], [\"Threshold=5.941008471416426\"], [\"Threshold=6.154776385053337\"], [\"Threshold=6.368544298690248\"], [\"Threshold=6.5823122123271585\"], [\"Threshold=6.796080125964069\"], [\"Threshold=7.00984803960098\"], [\"Threshold=7.223615953237891\"]], \"hovertemplate\": \"FPR=%{x}<br>TPR=%{y}<br>Score=%{customdata[0]}<extra></extra>\", \"legendgroup\": \"\", \"line\": {\"color\": \"#636efa\"}, \"mode\": \"lines\", \"name\": \"\", \"orientation\": \"v\", \"showlegend\": false, \"stackgroup\": \"1\", \"type\": \"scatter\", \"x\": [0.9979253112033195, 0.9979253112033195, 0.9979253112033195, 0.9979253112033195, 0.9979253112033195, 0.995850622406639, 0.995850622406639, 0.995850622406639, 0.995850622406639, 0.995850622406639, 0.995850622406639, 0.995850622406639, 0.995850622406639, 0.995850622406639, 0.9937759336099585, 0.9937759336099585, 0.991701244813278, 0.991701244813278, 0.9875518672199171, 0.9854771784232366, 0.983402489626556, 0.983402489626556, 0.9813278008298755, 0.979253112033195, 0.975103734439834, 0.970954356846473, 0.970954356846473, 0.9626556016597511, 0.9543568464730291, 0.9543568464730291, 0.9481327800829875, 0.9377593360995851, 0.9336099585062241, 0.921161825726141, 0.9107883817427386, 0.9066390041493776, 0.8921161825726142, 0.8775933609958506, 0.8630705394190872, 0.8381742738589212, 0.8278008298755186, 0.8174273858921162, 0.7904564315352697, 0.7697095435684648, 0.7427385892116183, 0.7157676348547718, 0.6825726141078838, 0.6493775933609959, 0.6141078838174274, 0.578838174273859, 0.549792531120332, 0.508298755186722, 0.470954356846473, 0.43775933609958506, 0.41286307053941906, 0.37344398340248963, 0.3381742738589212, 0.2883817427385892, 0.2572614107883817, 0.21991701244813278, 0.17634854771784234, 0.0, 0.0, 0.0, 0.0, 0.0, 0.0, 0.0, 0.0, 0.0, 0.0, 0.0, 0.0, 0.0, 0.0, 0.0, 0.0, 0.0, 0.0, 0.0, 0.0, 0.0, 0.0, 0.0, 0.0, 0.0, 0.0, 0.0, 0.0, 0.0, 0.0, 0.0, 0.0, 0.0, 0.0, 0.0, 0.0, 0.0, 0.0, 0.0], \"xaxis\": \"x\", \"y\": [1.0, 1.0, 1.0, 1.0, 1.0, 1.0, 1.0, 1.0, 1.0, 1.0, 1.0, 1.0, 1.0, 1.0, 1.0, 1.0, 1.0, 1.0, 1.0, 1.0, 1.0, 1.0, 1.0, 1.0, 1.0, 1.0, 1.0, 1.0, 1.0, 1.0, 1.0, 1.0, 1.0, 1.0, 1.0, 1.0, 1.0, 1.0, 1.0, 1.0, 1.0, 1.0, 1.0, 1.0, 1.0, 1.0, 1.0, 1.0, 1.0, 1.0, 1.0, 1.0, 1.0, 1.0, 1.0, 1.0, 1.0, 1.0, 1.0, 1.0, 1.0, 1.0, 1.0, 1.0, 1.0, 1.0, 1.0, 1.0, 1.0, 1.0, 0.8430962343096234, 0.7782426778242678, 0.7489539748953975, 0.700836820083682, 0.6589958158995816, 0.606694560669456, 0.5606694560669456, 0.5167364016736402, 0.47280334728033474, 0.4225941422594142, 0.38284518828451886, 0.3263598326359833, 0.2719665271966527, 0.22594142259414227, 0.20711297071129708, 0.18619246861924685, 0.15271966527196654, 0.12761506276150628, 0.09832635983263599, 0.08158995815899582, 0.06485355648535565, 0.05230125523012552, 0.04184100418410042, 0.029288702928870293, 0.02092050209205021, 0.012552301255230125, 0.008368200836820083, 0.008368200836820083, 0.006276150627615063, 0.006276150627615063], \"yaxis\": \"y\"}],\n",
       "                        {\"legend\": {\"tracegroupgap\": 0}, \"template\": {\"data\": {\"bar\": [{\"error_x\": {\"color\": \"#2a3f5f\"}, \"error_y\": {\"color\": \"#2a3f5f\"}, \"marker\": {\"line\": {\"color\": \"#E5ECF6\", \"width\": 0.5}}, \"type\": \"bar\"}], \"barpolar\": [{\"marker\": {\"line\": {\"color\": \"#E5ECF6\", \"width\": 0.5}}, \"type\": \"barpolar\"}], \"carpet\": [{\"aaxis\": {\"endlinecolor\": \"#2a3f5f\", \"gridcolor\": \"white\", \"linecolor\": \"white\", \"minorgridcolor\": \"white\", \"startlinecolor\": \"#2a3f5f\"}, \"baxis\": {\"endlinecolor\": \"#2a3f5f\", \"gridcolor\": \"white\", \"linecolor\": \"white\", \"minorgridcolor\": \"white\", \"startlinecolor\": \"#2a3f5f\"}, \"type\": \"carpet\"}], \"choropleth\": [{\"colorbar\": {\"outlinewidth\": 0, \"ticks\": \"\"}, \"type\": \"choropleth\"}], \"contour\": [{\"colorbar\": {\"outlinewidth\": 0, \"ticks\": \"\"}, \"colorscale\": [[0.0, \"#0d0887\"], [0.1111111111111111, \"#46039f\"], [0.2222222222222222, \"#7201a8\"], [0.3333333333333333, \"#9c179e\"], [0.4444444444444444, \"#bd3786\"], [0.5555555555555556, \"#d8576b\"], [0.6666666666666666, \"#ed7953\"], [0.7777777777777778, \"#fb9f3a\"], [0.8888888888888888, \"#fdca26\"], [1.0, \"#f0f921\"]], \"type\": \"contour\"}], \"contourcarpet\": [{\"colorbar\": {\"outlinewidth\": 0, \"ticks\": \"\"}, \"type\": \"contourcarpet\"}], \"heatmap\": [{\"colorbar\": {\"outlinewidth\": 0, \"ticks\": \"\"}, \"colorscale\": [[0.0, \"#0d0887\"], [0.1111111111111111, \"#46039f\"], [0.2222222222222222, \"#7201a8\"], [0.3333333333333333, \"#9c179e\"], [0.4444444444444444, \"#bd3786\"], [0.5555555555555556, \"#d8576b\"], [0.6666666666666666, \"#ed7953\"], [0.7777777777777778, \"#fb9f3a\"], [0.8888888888888888, \"#fdca26\"], [1.0, \"#f0f921\"]], \"type\": \"heatmap\"}], \"heatmapgl\": [{\"colorbar\": {\"outlinewidth\": 0, \"ticks\": \"\"}, \"colorscale\": [[0.0, \"#0d0887\"], [0.1111111111111111, \"#46039f\"], [0.2222222222222222, \"#7201a8\"], [0.3333333333333333, \"#9c179e\"], [0.4444444444444444, \"#bd3786\"], [0.5555555555555556, \"#d8576b\"], [0.6666666666666666, \"#ed7953\"], [0.7777777777777778, \"#fb9f3a\"], [0.8888888888888888, \"#fdca26\"], [1.0, \"#f0f921\"]], \"type\": \"heatmapgl\"}], \"histogram\": [{\"marker\": {\"colorbar\": {\"outlinewidth\": 0, \"ticks\": \"\"}}, \"type\": \"histogram\"}], \"histogram2d\": [{\"colorbar\": {\"outlinewidth\": 0, \"ticks\": \"\"}, \"colorscale\": [[0.0, \"#0d0887\"], [0.1111111111111111, \"#46039f\"], [0.2222222222222222, \"#7201a8\"], [0.3333333333333333, \"#9c179e\"], [0.4444444444444444, \"#bd3786\"], [0.5555555555555556, \"#d8576b\"], [0.6666666666666666, \"#ed7953\"], [0.7777777777777778, \"#fb9f3a\"], [0.8888888888888888, \"#fdca26\"], [1.0, \"#f0f921\"]], \"type\": \"histogram2d\"}], \"histogram2dcontour\": [{\"colorbar\": {\"outlinewidth\": 0, \"ticks\": \"\"}, \"colorscale\": [[0.0, \"#0d0887\"], [0.1111111111111111, \"#46039f\"], [0.2222222222222222, \"#7201a8\"], [0.3333333333333333, \"#9c179e\"], [0.4444444444444444, \"#bd3786\"], [0.5555555555555556, \"#d8576b\"], [0.6666666666666666, \"#ed7953\"], [0.7777777777777778, \"#fb9f3a\"], [0.8888888888888888, \"#fdca26\"], [1.0, \"#f0f921\"]], \"type\": \"histogram2dcontour\"}], \"mesh3d\": [{\"colorbar\": {\"outlinewidth\": 0, \"ticks\": \"\"}, \"type\": \"mesh3d\"}], \"parcoords\": [{\"line\": {\"colorbar\": {\"outlinewidth\": 0, \"ticks\": \"\"}}, \"type\": \"parcoords\"}], \"pie\": [{\"automargin\": true, \"type\": \"pie\"}], \"scatter\": [{\"marker\": {\"colorbar\": {\"outlinewidth\": 0, \"ticks\": \"\"}}, \"type\": \"scatter\"}], \"scatter3d\": [{\"line\": {\"colorbar\": {\"outlinewidth\": 0, \"ticks\": \"\"}}, \"marker\": {\"colorbar\": {\"outlinewidth\": 0, \"ticks\": \"\"}}, \"type\": \"scatter3d\"}], \"scattercarpet\": [{\"marker\": {\"colorbar\": {\"outlinewidth\": 0, \"ticks\": \"\"}}, \"type\": \"scattercarpet\"}], \"scattergeo\": [{\"marker\": {\"colorbar\": {\"outlinewidth\": 0, \"ticks\": \"\"}}, \"type\": \"scattergeo\"}], \"scattergl\": [{\"marker\": {\"colorbar\": {\"outlinewidth\": 0, \"ticks\": \"\"}}, \"type\": \"scattergl\"}], \"scattermapbox\": [{\"marker\": {\"colorbar\": {\"outlinewidth\": 0, \"ticks\": \"\"}}, \"type\": \"scattermapbox\"}], \"scatterpolar\": [{\"marker\": {\"colorbar\": {\"outlinewidth\": 0, \"ticks\": \"\"}}, \"type\": \"scatterpolar\"}], \"scatterpolargl\": [{\"marker\": {\"colorbar\": {\"outlinewidth\": 0, \"ticks\": \"\"}}, \"type\": \"scatterpolargl\"}], \"scatterternary\": [{\"marker\": {\"colorbar\": {\"outlinewidth\": 0, \"ticks\": \"\"}}, \"type\": \"scatterternary\"}], \"surface\": [{\"colorbar\": {\"outlinewidth\": 0, \"ticks\": \"\"}, \"colorscale\": [[0.0, \"#0d0887\"], [0.1111111111111111, \"#46039f\"], [0.2222222222222222, \"#7201a8\"], [0.3333333333333333, \"#9c179e\"], [0.4444444444444444, \"#bd3786\"], [0.5555555555555556, \"#d8576b\"], [0.6666666666666666, \"#ed7953\"], [0.7777777777777778, \"#fb9f3a\"], [0.8888888888888888, \"#fdca26\"], [1.0, \"#f0f921\"]], \"type\": \"surface\"}], \"table\": [{\"cells\": {\"fill\": {\"color\": \"#EBF0F8\"}, \"line\": {\"color\": \"white\"}}, \"header\": {\"fill\": {\"color\": \"#C8D4E3\"}, \"line\": {\"color\": \"white\"}}, \"type\": \"table\"}]}, \"layout\": {\"annotationdefaults\": {\"arrowcolor\": \"#2a3f5f\", \"arrowhead\": 0, \"arrowwidth\": 1}, \"coloraxis\": {\"colorbar\": {\"outlinewidth\": 0, \"ticks\": \"\"}}, \"colorscale\": {\"diverging\": [[0, \"#8e0152\"], [0.1, \"#c51b7d\"], [0.2, \"#de77ae\"], [0.3, \"#f1b6da\"], [0.4, \"#fde0ef\"], [0.5, \"#f7f7f7\"], [0.6, \"#e6f5d0\"], [0.7, \"#b8e186\"], [0.8, \"#7fbc41\"], [0.9, \"#4d9221\"], [1, \"#276419\"]], \"sequential\": [[0.0, \"#0d0887\"], [0.1111111111111111, \"#46039f\"], [0.2222222222222222, \"#7201a8\"], [0.3333333333333333, \"#9c179e\"], [0.4444444444444444, \"#bd3786\"], [0.5555555555555556, \"#d8576b\"], [0.6666666666666666, \"#ed7953\"], [0.7777777777777778, \"#fb9f3a\"], [0.8888888888888888, \"#fdca26\"], [1.0, \"#f0f921\"]], \"sequentialminus\": [[0.0, \"#0d0887\"], [0.1111111111111111, \"#46039f\"], [0.2222222222222222, \"#7201a8\"], [0.3333333333333333, \"#9c179e\"], [0.4444444444444444, \"#bd3786\"], [0.5555555555555556, \"#d8576b\"], [0.6666666666666666, \"#ed7953\"], [0.7777777777777778, \"#fb9f3a\"], [0.8888888888888888, \"#fdca26\"], [1.0, \"#f0f921\"]]}, \"colorway\": [\"#636efa\", \"#EF553B\", \"#00cc96\", \"#ab63fa\", \"#FFA15A\", \"#19d3f3\", \"#FF6692\", \"#B6E880\", \"#FF97FF\", \"#FECB52\"], \"font\": {\"color\": \"#2a3f5f\"}, \"geo\": {\"bgcolor\": \"white\", \"lakecolor\": \"white\", \"landcolor\": \"#E5ECF6\", \"showlakes\": true, \"showland\": true, \"subunitcolor\": \"white\"}, \"hoverlabel\": {\"align\": \"left\"}, \"hovermode\": \"closest\", \"mapbox\": {\"style\": \"light\"}, \"paper_bgcolor\": \"white\", \"plot_bgcolor\": \"#E5ECF6\", \"polar\": {\"angularaxis\": {\"gridcolor\": \"white\", \"linecolor\": \"white\", \"ticks\": \"\"}, \"bgcolor\": \"#E5ECF6\", \"radialaxis\": {\"gridcolor\": \"white\", \"linecolor\": \"white\", \"ticks\": \"\"}}, \"scene\": {\"xaxis\": {\"backgroundcolor\": \"#E5ECF6\", \"gridcolor\": \"white\", \"gridwidth\": 2, \"linecolor\": \"white\", \"showbackground\": true, \"ticks\": \"\", \"zerolinecolor\": \"white\"}, \"yaxis\": {\"backgroundcolor\": \"#E5ECF6\", \"gridcolor\": \"white\", \"gridwidth\": 2, \"linecolor\": \"white\", \"showbackground\": true, \"ticks\": \"\", \"zerolinecolor\": \"white\"}, \"zaxis\": {\"backgroundcolor\": \"#E5ECF6\", \"gridcolor\": \"white\", \"gridwidth\": 2, \"linecolor\": \"white\", \"showbackground\": true, \"ticks\": \"\", \"zerolinecolor\": \"white\"}}, \"shapedefaults\": {\"line\": {\"color\": \"#2a3f5f\"}}, \"ternary\": {\"aaxis\": {\"gridcolor\": \"white\", \"linecolor\": \"white\", \"ticks\": \"\"}, \"baxis\": {\"gridcolor\": \"white\", \"linecolor\": \"white\", \"ticks\": \"\"}, \"bgcolor\": \"#E5ECF6\", \"caxis\": {\"gridcolor\": \"white\", \"linecolor\": \"white\", \"ticks\": \"\"}}, \"title\": {\"x\": 0.05}, \"xaxis\": {\"automargin\": true, \"gridcolor\": \"white\", \"linecolor\": \"white\", \"ticks\": \"\", \"title\": {\"standoff\": 15}, \"zerolinecolor\": \"white\", \"zerolinewidth\": 2}, \"yaxis\": {\"automargin\": true, \"gridcolor\": \"white\", \"linecolor\": \"white\", \"ticks\": \"\", \"title\": {\"standoff\": 15}, \"zerolinecolor\": \"white\", \"zerolinewidth\": 2}}}, \"title\": {\"text\": \"ROC train Curve\"}, \"xaxis\": {\"anchor\": \"y\", \"domain\": [0.0, 1.0], \"title\": {\"text\": \"FPR\"}}, \"yaxis\": {\"anchor\": \"x\", \"domain\": [0.0, 1.0], \"title\": {\"text\": \"TPR\"}}},\n",
       "                        {\"responsive\": true}\n",
       "                    ).then(function(){\n",
       "                            \n",
       "var gd = document.getElementById('ca4f742e-4c34-4910-b2d8-8a9a12b65d95');\n",
       "var x = new MutationObserver(function (mutations, observer) {{\n",
       "        var display = window.getComputedStyle(gd).display;\n",
       "        if (!display || display === 'none') {{\n",
       "            console.log([gd, 'removed!']);\n",
       "            Plotly.purge(gd);\n",
       "            observer.disconnect();\n",
       "        }}\n",
       "}});\n",
       "\n",
       "// Listen for the removal of the full notebook cells\n",
       "var notebookContainer = gd.closest('#notebook-container');\n",
       "if (notebookContainer) {{\n",
       "    x.observe(notebookContainer, {childList: true});\n",
       "}}\n",
       "\n",
       "// Listen for the clearing of the current output cell\n",
       "var outputEl = gd.closest('.output');\n",
       "if (outputEl) {{\n",
       "    x.observe(outputEl, {childList: true});\n",
       "}}\n",
       "\n",
       "                        })\n",
       "                };\n",
       "                });\n",
       "            </script>\n",
       "        </div>"
      ]
     },
     "metadata": {},
     "output_type": "display_data"
    }
   ],
   "source": [
    "dfA = dfAll.loc[dfAll['digit'] == digitSignal].copy()\n",
    "dfB = dfAll.loc[dfAll['digit'] != digitSignal].copy()\n",
    "\n",
    "dfA['signal'] = 1     # dfA has the digit we will look for = the signal\n",
    "dfB['signal'] = 0     # dfB has all of the other digits = the background\n",
    "\n",
    "dfCombined = pd.concat([dfA.head(600), dfB_use.head(600)],ignore_index=True)\n",
    "\n",
    "# Your code goes here\n",
    "estimator = LinearSVC(random_state=42,dual=False,max_iter=5000)    # use dual=False when  n_samples > n_features which is what we have\n",
    "\n",
    "# call runFitter\n",
    "y_train,y_train_pred,y_train_score,y_train_digit,y_test,y_test_pred,y_test_score,y_test_digit = runFitter(dfCombined,estimator)\n",
    "\n",
    "precision_test,recall_test,auc_test,fpr_test, tpr_test, thresholds_test = binaryPerformance(y_test,y_test_pred,y_test_score,debug=False)\n",
    "precision_train,recall_train,auc_train,fpr_train, tpr_train, thresholds_train = binaryPerformance(y_train,y_train_pred,y_train_score,debug=False)\n",
    "\n",
    "print(\"AUC training data: \",auc_train)\n",
    "print(\"AUC testing data:  \",auc_test)\n",
    "\n",
    "fig = px.area(x=fpr_test,y=tpr_test,labels={'x':'FPR', 'y':'TPR'},\n",
    "                          hover_data={'Score':thresholds_test},title='ROC test Curve')\n",
    "fig.show()\n",
    "\n",
    "fig2 = px.area(x=fpr_train,y=tpr_train,labels={'x':'FPR', 'y':'TPR'},\n",
    "                          hover_data={'Score':thresholds_train},title='ROC train Curve')\n",
    "fig2.show()"
   ]
  }
 ],
 "metadata": {
  "colab": {
   "collapsed_sections": [],
   "name": "assignment4.ipynb",
   "provenance": [],
   "toc_visible": true,
   "version": "0.3.2"
  },
  "kernelspec": {
   "display_name": "Python 3",
   "language": "python",
   "name": "python3"
  },
  "language_info": {
   "codemirror_mode": {
    "name": "ipython",
    "version": 3
   },
   "file_extension": ".py",
   "mimetype": "text/x-python",
   "name": "python",
   "nbconvert_exporter": "python",
   "pygments_lexer": "ipython3",
   "version": "3.6.8"
  }
 },
 "nbformat": 4,
 "nbformat_minor": 1
}
