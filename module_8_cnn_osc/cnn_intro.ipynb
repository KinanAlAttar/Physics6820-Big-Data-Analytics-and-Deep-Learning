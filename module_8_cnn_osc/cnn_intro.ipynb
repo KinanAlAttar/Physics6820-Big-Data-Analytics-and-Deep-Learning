{
 "cells": [
  {
   "cell_type": "markdown",
   "metadata": {},
   "source": [
    "# Introduction to Convolutional Neural Networks\n",
    "We have been using **fully connected networks** (FCNs) to classify the MNIST dataset, and in the last assignment we designed a network which could do this with an accuracy of around 98%.   Convolutional Neural Networks, or Convnets, or CNNS (fake networks!), are another even more powerful tool for classifying images such as MNIST.   "
   ]
  },
  {
   "cell_type": "markdown",
   "metadata": {},
   "source": [
    "# Pull in the MNIST data"
   ]
  },
  {
   "cell_type": "code",
   "execution_count": 1,
   "metadata": {},
   "outputs": [
    {
     "name": "stdout",
     "output_type": "stream",
     "text": [
      "2.3.1\n",
      "2.4.0\n",
      "Train info (60000, 28, 28) (60000,)\n",
      "Test info (10000, 28, 28) (10000,)\n"
     ]
    }
   ],
   "source": [
    "import tensorflow as tf\n",
    "from tensorflow import keras\n",
    "print(tf.__version__)\n",
    "print(keras.__version__)\n",
    "(train_images, train_labels), (test_images, test_labels) = keras.datasets.mnist.load_data()\n",
    "\n",
    "short = False\n",
    "if short:\n",
    "    train_images = train_images[:7000,:]\n",
    "    train_labels = train_labels[:7000]\n",
    "    test_images = test_images[:3000,:]\n",
    "    test_labels = test_labels[:3000]\n",
    "#\n",
    "print(\"Train info\",train_images.shape, train_labels.shape)\n",
    "print(\"Test info\",test_images.shape, test_labels.shape)\n",
    "train_images = train_images.reshape((train_images.shape[0],28*28))\n",
    "train_images = train_images.astype('float32')/255\n",
    "\n",
    "test_images = test_images.reshape((test_images.shape[0],28*28))\n",
    "test_images = test_images.astype('float32')/255\n",
    "from keras.utils import to_categorical\n",
    "\n",
    "train_labels_cat = to_categorical(train_labels)\n",
    "test_labels_cat = to_categorical(test_labels)\n"
   ]
  },
  {
   "cell_type": "markdown",
   "metadata": {},
   "source": [
    "# Run on the test set using our previous network\n",
    "You might ask, what do Convnets do that FCNs can't?\n",
    "\n",
    "To understand this, let's take another look at our MNIST FCN.  If you have not already, examine and run the jupyter notebook in this module called **train_fcn_model_mnist.ipynb**.   After you run this, you will have a stored version of the compiled and fit FCN called **fully_trained_model_fcn.h5**.\n",
    "\n",
    "**Then** you can run the code below (which loads in the network that train_fcn_model_mnist.ipynb trains).\n",
    "\n",
    "We should get around 98% (will vary depending on the randomly initialized weights)."
   ]
  },
  {
   "cell_type": "code",
   "execution_count": 2,
   "metadata": {},
   "outputs": [],
   "source": [
    "network_name = 'fully_trained_model_fcn.h5'\n",
    "trained_network = keras.models.load_model(network_name)"
   ]
  },
  {
   "cell_type": "code",
   "execution_count": 3,
   "metadata": {},
   "outputs": [
    {
     "data": {
      "text/plain": [
       "(10000,)"
      ]
     },
     "execution_count": 3,
     "metadata": {},
     "output_type": "execute_result"
    }
   ],
   "source": [
    "test_labels.shape"
   ]
  },
  {
   "cell_type": "code",
   "execution_count": 6,
   "metadata": {},
   "outputs": [
    {
     "data": {
      "text/plain": [
       "array([[[-0.55752262, -0.26089026,  0.03699773, ..., -0.61082759,\n",
       "          1.45483281,  0.29699534],\n",
       "        [-1.08295852,  0.54003622,  0.45497884, ..., -0.62455502,\n",
       "         -0.22736461,  0.89209392],\n",
       "        [ 1.56180236, -1.18469627, -1.20334072, ..., -0.52148744,\n",
       "          0.11280688,  1.43991692],\n",
       "        ...,\n",
       "        [ 0.72945678, -0.65178086, -0.82567022, ..., -0.47268082,\n",
       "          0.34387815,  0.69214523],\n",
       "        [ 1.1843466 ,  0.76268068, -1.21610355, ..., -0.24615537,\n",
       "          0.93687041,  0.45619415],\n",
       "        [ 0.37856119,  1.39340379, -0.81233006, ...,  0.94938212,\n",
       "          0.48852253, -0.09229292]],\n",
       "\n",
       "       [[-0.52082402,  0.57249225,  0.25569712, ...,  0.16969727,\n",
       "          0.22895727, -0.57264371],\n",
       "        [-0.31200266, -0.4829657 ,  0.54697904, ..., -0.38853863,\n",
       "         -0.46312119,  1.53917091],\n",
       "        [ 0.59788064,  0.04492308, -1.19457628, ..., -0.61948857,\n",
       "          0.56844304, -1.50754243],\n",
       "        ...,\n",
       "        [ 0.77226759, -0.1820761 ,  1.52468392, ..., -0.12882229,\n",
       "         -0.25309863,  1.0525472 ],\n",
       "        [ 0.26334528, -1.25932315, -1.10180338, ..., -1.51769262,\n",
       "          0.26152005, -0.64947676],\n",
       "        [-0.19097595,  0.9101591 ,  1.60529504, ..., -2.15648701,\n",
       "          0.16791735, -0.22075128]],\n",
       "\n",
       "       [[-0.8227744 , -0.51957463,  1.85555534, ..., -1.1185587 ,\n",
       "         -0.26744508,  0.86860191],\n",
       "        [-2.36447684, -0.67614788, -1.59042806, ...,  0.36766757,\n",
       "         -0.04154486,  1.37480235],\n",
       "        [-0.12760034,  0.36927988,  0.50778274, ...,  0.87988663,\n",
       "          2.6883079 ,  3.78786292],\n",
       "        ...,\n",
       "        [-0.39463115,  1.16835141,  0.8846252 , ..., -0.43194696,\n",
       "          0.43000331,  0.47206187],\n",
       "        [ 0.95481513,  1.66687444, -2.00287285, ..., -0.48024891,\n",
       "          0.65664025, -0.71073867],\n",
       "        [-0.84151216, -0.19551684,  1.12834666, ...,  0.00484408,\n",
       "          0.12324389, -0.55085327]],\n",
       "\n",
       "       ...,\n",
       "\n",
       "       [[-1.4784035 ,  0.27207277,  0.43225234, ..., -0.0585359 ,\n",
       "         -1.19373011, -0.72269092],\n",
       "        [ 0.15248902,  0.23340156,  1.68501128, ...,  0.16194603,\n",
       "         -0.43499249, -0.84899866],\n",
       "        [ 0.13476279, -0.14728707,  0.83377787, ..., -1.50244648,\n",
       "         -0.7746774 , -0.09488959],\n",
       "        ...,\n",
       "        [-1.73476038,  1.85836927, -0.54784916, ...,  0.68799096,\n",
       "          0.88582552, -1.61004246],\n",
       "        [-1.53393496, -0.96395737, -1.13205932, ...,  0.3204951 ,\n",
       "          0.64677001, -1.33881544],\n",
       "        [-1.70194459,  1.1535509 , -0.21047901, ...,  0.4239921 ,\n",
       "          0.37360261,  1.48586688]],\n",
       "\n",
       "       [[-1.33777383, -1.13157786, -0.40660279, ...,  0.56191451,\n",
       "          1.47000391, -1.24200735],\n",
       "        [ 0.44932317,  1.70399362,  0.9179775 , ...,  2.81273057,\n",
       "          0.23791078, -1.09197087],\n",
       "        [-0.78333705,  0.08834445, -0.02134291, ..., -0.11119275,\n",
       "         -0.8126704 , -0.17455856],\n",
       "        ...,\n",
       "        [-0.05157483, -0.26404701,  1.21243826, ..., -1.1005074 ,\n",
       "         -0.74532463, -0.33842389],\n",
       "        [ 0.47568775,  0.13997992,  0.07306599, ..., -0.38823521,\n",
       "         -0.23582273, -0.74675713],\n",
       "        [ 0.15492881, -0.65167586, -0.71540167, ..., -1.62500666,\n",
       "         -0.60941596, -0.57518513]],\n",
       "\n",
       "       [[-0.71198172,  1.44985289, -0.79169919, ..., -0.04284983,\n",
       "         -0.47432294, -0.53835595],\n",
       "        [ 0.44852174, -1.52932703, -0.7791346 , ...,  1.52377981,\n",
       "          0.31313433,  0.00433224],\n",
       "        [-0.41674251,  0.24293794, -2.77202898, ..., -0.46155135,\n",
       "          0.10934108,  0.22990601],\n",
       "        ...,\n",
       "        [-1.17601491, -0.57805223, -0.19463163, ...,  1.15386018,\n",
       "         -0.54073638,  1.58683687],\n",
       "        [ 0.5829917 , -0.01016936,  1.00456956, ...,  0.38947886,\n",
       "         -1.14550697, -0.25958176],\n",
       "        [ 0.84492167,  0.84388508,  0.05003874, ...,  0.49858989,\n",
       "         -1.46860621,  0.54051564]]])"
      ]
     },
     "execution_count": 6,
     "metadata": {},
     "output_type": "execute_result"
    }
   ],
   "source": [
    "from numpy.random import randn \n",
    "x = randn(784*100)\n",
    "x.reshape(100, 28, 28)"
   ]
  },
  {
   "cell_type": "markdown",
   "metadata": {},
   "source": [
    "## A method to get performance numbers\n",
    "The following method will be helpful later to get loss, accuracy, and the confusion matrix for our network."
   ]
  },
  {
   "cell_type": "code",
   "execution_count": 3,
   "metadata": {},
   "outputs": [],
   "source": [
    "import numpy as np\n",
    "#\n",
    "# Used to implement the multi-dimensional counter we need in the performance class\n",
    "#\n",
    "# Used to implement the multi-dimensional counter we need in the performance class\n",
    "from collections import defaultdict\n",
    "from functools import partial\n",
    "from itertools import repeat\n",
    "def nested_defaultdict(default_factory, depth=1):\n",
    "    result = partial(defaultdict, default_factory)\n",
    "    for _ in repeat(None, depth - 1):\n",
    "        result = partial(defaultdict, result)\n",
    "    return result()\n",
    "\n",
    "\n",
    "def getPerformance(network,images,labels_cat,labels):\n",
    "#\n",
    "# Get the overall performance for the test sample\n",
    "    loss, acc = network.evaluate(images,labels_cat)\n",
    "#\n",
    "# Get the individual predictions for each sample in the test set\n",
    "    predictions = network.predict(images)\n",
    "#\n",
    "# Get the max probabilites for each rows\n",
    "    probs = np.max(predictions, axis = 1)\n",
    "#\n",
    "# Get the predicted classes for each row\n",
    "    classes = np.argmax(predictions, axis = 1)\n",
    "#\n",
    "# Now loop over the first twenty samples and compare truth to prediction\n",
    "#print(\"Label\\t Pred\\t Prob\")\n",
    "#for label,cl,pr in zip(smear_labels[:20],classes[:20],probs[:20]):\n",
    "#    print(label,'\\t',cl,'\\t',round(pr,3))\n",
    "#\n",
    "# Get confustion matrix\n",
    "    cf = nested_defaultdict(int,2)\n",
    "    for label,cl in zip(labels,classes):\n",
    "        cf[label][cl] += 1\n",
    "#\n",
    "    return loss,acc,cf"
   ]
  },
  {
   "cell_type": "code",
   "execution_count": 4,
   "metadata": {},
   "outputs": [
    {
     "name": "stdout",
     "output_type": "stream",
     "text": [
      "313/313 [==============================] - 0s 934us/step - loss: 0.0640 - accuracy: 0.9824\n",
      "   Results\n",
      "   Loss,acc 0.064 0.9824\n",
      "   True:  0 \t 971 \t 1 \t 1 \t 0 \t 1 \t 0 \t 2 \t 1 \t 2 \t 1\n",
      "   True:  1 \t 0 \t 1127 \t 3 \t 0 \t 0 \t 1 \t 2 \t 1 \t 1 \t 0\n",
      "   True:  2 \t 3 \t 1 \t 1013 \t 1 \t 1 \t 0 \t 2 \t 4 \t 7 \t 0\n",
      "   True:  3 \t 0 \t 0 \t 5 \t 992 \t 0 \t 6 \t 0 \t 5 \t 2 \t 0\n",
      "   True:  4 \t 0 \t 0 \t 2 \t 1 \t 963 \t 0 \t 5 \t 1 \t 0 \t 10\n",
      "   True:  5 \t 3 \t 0 \t 0 \t 8 \t 1 \t 874 \t 2 \t 1 \t 2 \t 1\n",
      "   True:  6 \t 6 \t 3 \t 2 \t 1 \t 1 \t 6 \t 938 \t 1 \t 0 \t 0\n",
      "   True:  7 \t 1 \t 2 \t 8 \t 1 \t 1 \t 0 \t 0 \t 1009 \t 2 \t 4\n",
      "   True:  8 \t 1 \t 0 \t 4 \t 5 \t 4 \t 2 \t 1 \t 3 \t 951 \t 3\n",
      "   True:  9 \t 1 \t 2 \t 0 \t 4 \t 6 \t 2 \t 0 \t 8 \t 0 \t 986\n",
      "\n"
     ]
    }
   ],
   "source": [
    "loss,acc,cf = getPerformance(trained_network,test_images,test_labels_cat,test_labels)\n",
    "print(\"   Results\")\n",
    "print(\"   Loss,acc\",round(loss,4),round(acc,4))\n",
    "for trueClass in range(10):\n",
    "    print(\"   True: \",trueClass,end=\"\")\n",
    "    for predClass in range(10):\n",
    "        print(\" \\t\",cf[trueClass][predClass],end=\"\")\n",
    "    print()\n",
    "print()\n"
   ]
  },
  {
   "cell_type": "code",
   "execution_count": 6,
   "metadata": {},
   "outputs": [],
   "source": [
    "predictions = trained_network.predict(test_images)"
   ]
  },
  {
   "cell_type": "code",
   "execution_count": 8,
   "metadata": {},
   "outputs": [],
   "source": [
    "import numpy as np\n",
    "classes = np.argmax(predictions, axis = 1)"
   ]
  },
  {
   "cell_type": "code",
   "execution_count": 10,
   "metadata": {},
   "outputs": [
    {
     "data": {
      "text/plain": [
       "(10000,)"
      ]
     },
     "execution_count": 10,
     "metadata": {},
     "output_type": "execute_result"
    }
   ],
   "source": [
    "classes.shape"
   ]
  },
  {
   "cell_type": "markdown",
   "metadata": {},
   "source": [
    "# Can we improve on this?\n",
    "When we ask about how we might improve on this performance, we should think about a few things:\n",
    "1.  How big is our network?   Does it scale to images larger than our 28x28x1 digit images?\n",
    "2.  How sensitive is our network to small (or even large) changes in our inputs?\n",
    "3.  Even if the previous two points are a problem, we can still ask if it is possible to improve our performance over the FCN."
   ]
  },
  {
   "cell_type": "markdown",
   "metadata": {},
   "source": [
    "## How big is our network\n",
    "Keras gives us a tool to get summary information about our network:"
   ]
  },
  {
   "cell_type": "code",
   "execution_count": 5,
   "metadata": {},
   "outputs": [
    {
     "name": "stdout",
     "output_type": "stream",
     "text": [
      "Tensor(\"dense_input:0\", shape=(None, 784), dtype=float32)\n",
      "Tensor(\"dense_1/Softmax:0\", shape=(None, 10), dtype=float32)\n",
      "Model: \"sequential\"\n",
      "_________________________________________________________________\n",
      "Layer (type)                 Output Shape              Param #   \n",
      "=================================================================\n",
      "dense (Dense)                (None, 400)               314000    \n",
      "_________________________________________________________________\n",
      "dense_1 (Dense)              (None, 10)                4010      \n",
      "=================================================================\n",
      "Total params: 318,010\n",
      "Trainable params: 318,010\n",
      "Non-trainable params: 0\n",
      "_________________________________________________________________\n",
      "None\n"
     ]
    }
   ],
   "source": [
    "print(trained_network.input)\n",
    "print(trained_network.output)\n",
    "print(trained_network.summary())"
   ]
  },
  {
   "cell_type": "markdown",
   "metadata": {},
   "source": [
    "## Calculating the Number of parameters\n",
    "Notice that the two layers are called **dense**: these are fully connected layers, meaning there is a connection from every output of one layer to every input of the next layer.   Here is how we get the parameter counts:\n",
    "1.  dense_1 (the \"_1\" is just a label from when the network was created, it has no significance): We have 784 inputs each connected to 400 hidden nodes: 784*400=313600 parameters, plus another 400 \"bias\" parameters (1 for each node) which gives us a total of 314,000 parameters for the hidden layer.\n",
    "2.  dense_2: we have 400 inputs (one each from the hidden layer) connected to 10 outputs: 400*10 + 10(bias)=4010 parameters for the output layer.\n",
    "\n",
    "So we have 318,010 total parameters for a network which is used to classify small 28x28x1 greyscale images.   If we went to megapixel color images, we would have 1000x1000x3 = 3,000,000 input pixels, and if we have a 400 node hidden layer (which is probably too small), we end up with more than 1.2 billion parameters.... this does not scale!"
   ]
  },
  {
   "cell_type": "markdown",
   "metadata": {},
   "source": [
    "## Sensitivity to variations in the input\n",
    "The types of variations we want to consider include:\n",
    "1.  Shifts of the input image (up/down and/or right/left).\n",
    "2.  Scaling of the input image (making it bigger or smaller (still within the 28x28 pixel window).\n",
    "3.  Rotations of the input image.\n",
    "We could also include shearing of the input image, but for now lets just consider the first 3.   \n",
    "\n",
    "Keras includes a method for performing all of these operations on an image.   Let's define a method to do this, using a single image as an input, and also define a method to display the image:"
   ]
  },
  {
   "cell_type": "code",
   "execution_count": 6,
   "metadata": {},
   "outputs": [],
   "source": [
    "import matplotlib.pyplot as plt\n",
    "import numpy as np\n",
    "\n",
    "data_gen_args = dict(featurewise_center=True,\n",
    "                     featurewise_std_normalization=True,\n",
    "                     rotation_range=90,\n",
    "                     width_shift_range=0.1,\n",
    "                     height_shift_range=0.1,\n",
    "                     zoom_range=0.2)\n",
    "image_datagen = keras.preprocessing.image.ImageDataGenerator(**data_gen_args)\n",
    "\n",
    "def transform_image(img,tx=0,ty=0,zoom=1.0,rotation=0.0,shear=0.0):\n",
    "    transform_parameters = {}\n",
    "    orig_image = np.array(img, copy=True).reshape(28,28,1)\n",
    "    transform_parameters['theta'] = rotation\n",
    "    transform_parameters['zx'] = zoom\n",
    "    transform_parameters['zy'] = zoom\n",
    "    transform_parameters['tx'] = tx\n",
    "    transform_parameters['ty'] = ty\n",
    "    transform_parameters['shear'] = shear\n",
    "    orig_image = image_datagen.apply_transform(x=orig_image, transform_parameters=transform_parameters)\n",
    "    return orig_image\n",
    "\n",
    "def plot_image(img):\n",
    "    one_image = img.reshape(28,28)\n",
    "    plt.imshow(one_image, cmap='hot')\n",
    "    plt.colorbar()\n",
    "    plt.show()\n"
   ]
  },
  {
   "cell_type": "markdown",
   "metadata": {},
   "source": [
    "## TASK 1: Pick a random image from our test dataset, and do the following:\n",
    "1.  Rotate 45 degrees.\n",
    "2.  Rotate 45 degrees plus zoom out (make the digit smaller)\n",
    "3.  Rotate 45 degrees plus zoom out plus translate the image to the upper corner.\n",
    "\n",
    "You will have to play with how to call the above method **transform_image** in order to figure out how to do this.   \n",
    "\n",
    "I give a simple example of calling the transform method with all of the call parameters 0, so I expect the same image as I put in.   Then I plot it.   I want you to do this same thing, but now rotate and zoom as instructed in items 1,2,3 above."
   ]
  },
  {
   "cell_type": "code",
   "execution_count": 7,
   "metadata": {},
   "outputs": [
    {
     "data": {
      "image/png": "[encoded data removed]",
      "text/plain": [
       "<Figure size 432x288 with 2 Axes>"
      ]
     },
     "metadata": {
      "needs_background": "light"
     },
     "output_type": "display_data"
    },
    {
     "data": {
      "image/png": "[encoded data removed]",
      "text/plain": [
       "<Figure size 432x288 with 2 Axes>"
      ]
     },
     "metadata": {
      "needs_background": "light"
     },
     "output_type": "display_data"
    },
    {
     "name": "stdout",
     "output_type": "stream",
     "text": [
      "Images should be identical!\n"
     ]
    }
   ],
   "source": [
    "# eample shpowing NO transformation\n",
    "image_index = 100\n",
    "image = test_images[image_index].reshape(28,28)\n",
    "trans_image = transform_image(image,tx=0,ty=0,zoom=1.0,rotation=0.0,shear=0.0)\n",
    "plot_image(image)\n",
    "plot_image(trans_image) \n",
    "print(\"Images should be identical!\")"
   ]
  },
  {
   "cell_type": "code",
   "execution_count": 10,
   "metadata": {},
   "outputs": [
    {
     "data": {
      "image/png": "[encoded data removed]",
      "text/plain": [
       "<Figure size 432x288 with 2 Axes>"
      ]
     },
     "metadata": {
      "needs_background": "light"
     },
     "output_type": "display_data"
    }
   ],
   "source": [
    "# Rotate 45 degrees: Your code here!\n",
    "plot_image(transform_image(image,tx=0,ty=0,zoom=1.0,rotation=45.0,shear=0.0))"
   ]
  },
  {
   "cell_type": "code",
   "execution_count": 12,
   "metadata": {},
   "outputs": [
    {
     "data": {
      "image/png": "[encoded data removed]",
      "text/plain": [
       "<Figure size 432x288 with 2 Axes>"
      ]
     },
     "metadata": {
      "needs_background": "light"
     },
     "output_type": "display_data"
    }
   ],
   "source": [
    "# Rotate 45 degrees plus zoom out (make the digit smaller): Your code here!\n",
    "plot_image(transform_image(image,tx=0,ty=0,zoom=2,rotation=45.0,shear=0.0))"
   ]
  },
  {
   "cell_type": "code",
   "execution_count": 20,
   "metadata": {},
   "outputs": [
    {
     "data": {
      "image/png": "[encoded data removed]",
      "text/plain": [
       "<Figure size 432x288 with 2 Axes>"
      ]
     },
     "metadata": {
      "needs_background": "light"
     },
     "output_type": "display_data"
    }
   ],
   "source": [
    "# Rotate 45 degrees plus zoom out plus translate the image to the upper corner: Your code here!\n",
    "plot_image(transform_image(image,tx=15,ty=-10,zoom=2,rotation=45.0,shear=0.0))"
   ]
  },
  {
   "cell_type": "markdown",
   "metadata": {},
   "source": [
    "## Stability of the FCN to Variations in the input\n",
    "We are now ready to systematically answer the question: how well does the FCN handle images that are slight (or not-so-slight) variations of the data it was trained on.   \n",
    "\n",
    "Here is what we will do: \n",
    "1.  Loop over every image in the test set\n",
    "2.  Choose a random +/- shift (in x and y) from a subset (0-4 pixels in increments of 1).\n",
    "3.  Randomly shift the image over that shift.\n",
    "4.  Store the transformed image in a list\n",
    "When we are done, we will run that list of images through our original FCN and note the performance, comparing it to the original performance."
   ]
  },
  {
   "cell_type": "code",
   "execution_count": 68,
   "metadata": {},
   "outputs": [
    {
     "name": "stdout",
     "output_type": "stream",
     "text": [
      "\n",
      "Shift  0\n",
      "313/313 [==============================] - 0s 921us/step - loss: 0.0643 - accuracy: 0.9806\n",
      "   Results\n",
      "   Loss,acc 0.06434069573879242 0.9805999994277954\n",
      "   True:  0 \t 970 \t 0 \t 1 \t 1 \t 1 \t 2 \t 2 \t 1 \t 1 \t 1\n",
      "   True:  1 \t 0 \t 1126 \t 3 \t 0 \t 0 \t 1 \t 2 \t 1 \t 2 \t 0\n",
      "   True:  2 \t 1 \t 0 \t 1015 \t 4 \t 1 \t 0 \t 1 \t 4 \t 6 \t 0\n",
      "   True:  3 \t 0 \t 0 \t 3 \t 989 \t 1 \t 4 \t 0 \t 3 \t 1 \t 9\n",
      "   True:  4 \t 1 \t 0 \t 1 \t 1 \t 964 \t 0 \t 5 \t 1 \t 1 \t 8\n",
      "   True:  5 \t 2 \t 0 \t 0 \t 7 \t 2 \t 873 \t 3 \t 1 \t 3 \t 1\n",
      "   True:  6 \t 5 \t 2 \t 1 \t 1 \t 6 \t 5 \t 936 \t 0 \t 2 \t 0\n",
      "   True:  7 \t 1 \t 5 \t 9 \t 1 \t 2 \t 0 \t 0 \t 1003 \t 2 \t 5\n",
      "   True:  8 \t 2 \t 0 \t 2 \t 4 \t 6 \t 4 \t 2 \t 4 \t 944 \t 6\n",
      "   True:  9 \t 2 \t 2 \t 0 \t 4 \t 7 \t 1 \t 1 \t 5 \t 1 \t 986\n",
      "\n",
      "Shift  1\n",
      "313/313 [==============================] - 0s 906us/step - loss: 0.2835 - accuracy: 0.9286\n",
      "   Results\n",
      "   Loss,acc 0.2834576964378357 0.928600013256073\n",
      "   True:  0 \t 876 \t 0 \t 17 \t 3 \t 1 \t 17 \t 15 \t 5 \t 13 \t 33\n",
      "   True:  1 \t 2 \t 1010 \t 3 \t 6 \t 6 \t 7 \t 28 \t 38 \t 33 \t 2\n",
      "   True:  2 \t 6 \t 2 \t 985 \t 12 \t 2 \t 3 \t 6 \t 10 \t 4 \t 2\n",
      "   True:  3 \t 1 \t 1 \t 10 \t 960 \t 3 \t 13 \t 2 \t 6 \t 7 \t 7\n",
      "   True:  4 \t 4 \t 0 \t 7 \t 1 \t 929 \t 0 \t 7 \t 5 \t 4 \t 25\n",
      "   True:  5 \t 2 \t 0 \t 2 \t 18 \t 1 \t 854 \t 7 \t 2 \t 2 \t 4\n",
      "   True:  6 \t 6 \t 3 \t 3 \t 4 \t 10 \t 18 \t 911 \t 1 \t 2 \t 0\n",
      "   True:  7 \t 0 \t 7 \t 18 \t 7 \t 6 \t 2 \t 2 \t 959 \t 11 \t 16\n",
      "   True:  8 \t 4 \t 1 \t 10 \t 30 \t 5 \t 15 \t 4 \t 9 \t 877 \t 19\n",
      "   True:  9 \t 3 \t 1 \t 0 \t 13 \t 18 \t 10 \t 1 \t 27 \t 11 \t 925\n",
      "\n",
      "Shift  2\n",
      "313/313 [==============================] - 0s 965us/step - loss: 2.2656 - accuracy: 0.6163\n",
      "   Results\n",
      "   Loss,acc 2.265584945678711 0.6162999868392944\n",
      "   True:  0 \t 316 \t 0 \t 147 \t 56 \t 5 \t 146 \t 106 \t 30 \t 70 \t 104\n",
      "   True:  1 \t 14 \t 438 \t 6 \t 18 \t 33 \t 68 \t 240 \t 225 \t 68 \t 25\n",
      "   True:  2 \t 3 \t 12 \t 787 \t 75 \t 15 \t 23 \t 66 \t 30 \t 19 \t 2\n",
      "   True:  3 \t 11 \t 10 \t 75 \t 805 \t 3 \t 27 \t 10 \t 23 \t 15 \t 31\n",
      "   True:  4 \t 2 \t 9 \t 33 \t 44 \t 618 \t 51 \t 30 \t 31 \t 107 \t 57\n",
      "   True:  5 \t 12 \t 3 \t 18 \t 80 \t 11 \t 623 \t 32 \t 12 \t 49 \t 52\n",
      "   True:  6 \t 10 \t 32 \t 89 \t 19 \t 28 \t 36 \t 719 \t 1 \t 24 \t 0\n",
      "   True:  7 \t 1 \t 7 \t 76 \t 35 \t 8 \t 28 \t 4 \t 777 \t 57 \t 35\n",
      "   True:  8 \t 6 \t 14 \t 39 \t 151 \t 7 \t 65 \t 41 \t 27 \t 530 \t 94\n",
      "   True:  9 \t 3 \t 1 \t 12 \t 56 \t 55 \t 37 \t 4 \t 143 \t 148 \t 550\n",
      "\n",
      "Shift  3\n",
      "313/313 [==============================] - 0s 973us/step - loss: 6.9580 - accuracy: 0.2682\n",
      "   Results\n",
      "   Loss,acc 6.957967281341553 0.26820001006126404\n",
      "   True:  0 \t 15 \t 4 \t 232 \t 159 \t 6 \t 224 \t 170 \t 40 \t 61 \t 69\n",
      "   True:  1 \t 11 \t 192 \t 4 \t 88 \t 56 \t 135 \t 315 \t 261 \t 35 \t 38\n",
      "   True:  2 \t 1 \t 11 \t 422 \t 171 \t 14 \t 116 \t 225 \t 29 \t 26 \t 17\n",
      "   True:  3 \t 21 \t 23 \t 143 \t 420 \t 2 \t 65 \t 133 \t 42 \t 20 \t 141\n",
      "   True:  4 \t 0 \t 12 \t 129 \t 135 \t 209 \t 157 \t 69 \t 49 \t 164 \t 58\n",
      "   True:  5 \t 28 \t 10 \t 79 \t 143 \t 16 \t 259 \t 104 \t 31 \t 84 \t 138\n",
      "   True:  6 \t 14 \t 32 \t 214 \t 74 \t 45 \t 111 \t 416 \t 6 \t 38 \t 8\n",
      "   True:  7 \t 4 \t 3 \t 124 \t 164 \t 22 \t 100 \t 12 \t 375 \t 122 \t 102\n",
      "   True:  8 \t 7 \t 33 \t 55 \t 169 \t 6 \t 102 \t 173 \t 55 \t 158 \t 216\n",
      "   True:  9 \t 0 \t 5 \t 72 \t 232 \t 47 \t 155 \t 19 \t 79 \t 184 \t 216\n",
      "\n",
      "Shift  4\n",
      "313/313 [==============================] - 0s 917us/step - loss: 11.6928 - accuracy: 0.0939\n",
      "   Results\n",
      "   Loss,acc 11.692809104919434 0.09390000253915787\n",
      "   True:  0 \t 0 \t 0 \t 254 \t 142 \t 11 \t 180 \t 191 \t 26 \t 30 \t 146\n",
      "   True:  1 \t 72 \t 63 \t 1 \t 108 \t 125 \t 86 \t 268 \t 265 \t 55 \t 92\n",
      "   True:  2 \t 2 \t 6 \t 139 \t 188 \t 15 \t 210 \t 379 \t 33 \t 24 \t 36\n",
      "   True:  3 \t 20 \t 13 \t 97 \t 110 \t 5 \t 74 \t 328 \t 59 \t 20 \t 284\n",
      "   True:  4 \t 8 \t 10 \t 205 \t 201 \t 47 \t 219 \t 94 \t 88 \t 90 \t 20\n",
      "   True:  5 \t 15 \t 5 \t 99 \t 88 \t 25 \t 134 \t 186 \t 45 \t 31 \t 264\n",
      "   True:  6 \t 14 \t 9 \t 259 \t 136 \t 21 \t 177 \t 220 \t 35 \t 56 \t 31\n",
      "   True:  7 \t 10 \t 0 \t 134 \t 220 \t 56 \t 200 \t 54 \t 111 \t 132 \t 111\n",
      "   True:  8 \t 4 \t 22 \t 30 \t 111 \t 8 \t 77 \t 287 \t 69 \t 61 \t 305\n",
      "   True:  9 \t 10 \t 5 \t 144 \t 294 \t 13 \t 296 \t 73 \t 30 \t 90 \t 54\n"
     ]
    }
   ],
   "source": [
    "import random\n",
    "import numpy as np\n",
    "fcn_shift=[]\n",
    "for shift in [0,1,2,3,4]:\n",
    "    print()\n",
    "    print(\"Shift \",shift)\n",
    "    imgList = []\n",
    "    count = 0\n",
    "    for img in test_images[:]:\n",
    "        if random.uniform(0.0,1.0) > 0.5:\n",
    "            tx = shift\n",
    "        else:\n",
    "            tx = -shift\n",
    "        if random.uniform(0.0,1.0) > 0.5:\n",
    "            ty = shift\n",
    "        else:\n",
    "            ty = -shift\n",
    "#        tx = random.uniform(-shift,shift)\n",
    "#        ty = random.uniform(-shift,shift)\n",
    "        trans_image = transform_image(img,tx=tx,ty=ty,zoom=1.0,rotation=0.0,shear=0.0)\n",
    "        imgList.append(trans_image)\n",
    "#\n",
    "# Convert to np array\n",
    "    npa_images = np.asarray(imgList, dtype=np.float32)\n",
    "    npa_images = npa_images.reshape((npa_images.shape[0],28*28))\n",
    "#\n",
    "    smear_loss,smear_acc,smear_cf = getPerformance(trained_network,npa_images,test_labels_cat,test_labels)\n",
    "    print(\"   Results\")\n",
    "    print(\"   Loss,acc\",smear_loss,smear_acc)\n",
    "    fcn_shift.append(smear_acc)\n",
    "    for trueClass in range(10):\n",
    "        print(\"   True: \",trueClass,end=\"\")\n",
    "        for predClass in range(10):\n",
    "            print(\" \\t\",smear_cf[trueClass][predClass],end=\"\")\n",
    "        print()\n"
   ]
  },
  {
   "cell_type": "markdown",
   "metadata": {},
   "source": [
    "**This is bad.** As soon as we get 2 pixels out, the performance drops by almost 30%!   So the FCN is not stable at all against small variations in input.\n",
    "\n",
    "## Task 2: Test FCN Stability Further\n",
    "Using a similar strategy as above, try the following:\n",
    "1.  Rotations in the range: [0.0,20.0,40.0,60.0,80.0] (keep shifts=0)\n",
    "2.  Zooms in the range[1.0,1.25,1.5,1.75,2.0] (keep shifts and rotations=0)"
   ]
  },
  {
   "cell_type": "code",
   "execution_count": 69,
   "metadata": {},
   "outputs": [
    {
     "name": "stdout",
     "output_type": "stream",
     "text": [
      "\n",
      "Rotation  0.0\n",
      "313/313 [==============================] - 0s 926us/step - loss: 0.0643 - accuracy: 0.9806\n",
      "   Results\n",
      "   Loss,acc 0.06434069573879242 0.9805999994277954\n",
      "   True:  0 \t 970 \t 0 \t 1 \t 1 \t 1 \t 2 \t 2 \t 1 \t 1 \t 1\n",
      "   True:  1 \t 0 \t 1126 \t 3 \t 0 \t 0 \t 1 \t 2 \t 1 \t 2 \t 0\n",
      "   True:  2 \t 1 \t 0 \t 1015 \t 4 \t 1 \t 0 \t 1 \t 4 \t 6 \t 0\n",
      "   True:  3 \t 0 \t 0 \t 3 \t 989 \t 1 \t 4 \t 0 \t 3 \t 1 \t 9\n",
      "   True:  4 \t 1 \t 0 \t 1 \t 1 \t 964 \t 0 \t 5 \t 1 \t 1 \t 8\n",
      "   True:  5 \t 2 \t 0 \t 0 \t 7 \t 2 \t 873 \t 3 \t 1 \t 3 \t 1\n",
      "   True:  6 \t 5 \t 2 \t 1 \t 1 \t 6 \t 5 \t 936 \t 0 \t 2 \t 0\n",
      "   True:  7 \t 1 \t 5 \t 9 \t 1 \t 2 \t 0 \t 0 \t 1003 \t 2 \t 5\n",
      "   True:  8 \t 2 \t 0 \t 2 \t 4 \t 6 \t 4 \t 2 \t 4 \t 944 \t 6\n",
      "   True:  9 \t 2 \t 2 \t 0 \t 4 \t 7 \t 1 \t 1 \t 5 \t 1 \t 986\n",
      "\n",
      "Rotation  20.0\n",
      "313/313 [==============================] - 0s 961us/step - loss: 0.4843 - accuracy: 0.8844\n",
      "   Results\n",
      "   Loss,acc 0.4842539429664612 0.8844000101089478\n",
      "   True:  0 \t 953 \t 0 \t 2 \t 1 \t 0 \t 12 \t 2 \t 3 \t 3 \t 4\n",
      "   True:  1 \t 0 \t 1036 \t 25 \t 4 \t 17 \t 3 \t 2 \t 2 \t 45 \t 1\n",
      "   True:  2 \t 8 \t 3 \t 901 \t 31 \t 15 \t 5 \t 6 \t 41 \t 17 \t 5\n",
      "   True:  3 \t 4 \t 1 \t 20 \t 915 \t 2 \t 31 \t 1 \t 8 \t 12 \t 16\n",
      "   True:  4 \t 2 \t 0 \t 24 \t 0 \t 843 \t 4 \t 16 \t 5 \t 39 \t 49\n",
      "   True:  5 \t 6 \t 0 \t 11 \t 5 \t 12 \t 809 \t 16 \t 3 \t 18 \t 12\n",
      "   True:  6 \t 6 \t 2 \t 2 \t 1 \t 56 \t 46 \t 839 \t 2 \t 4 \t 0\n",
      "   True:  7 \t 0 \t 5 \t 91 \t 6 \t 26 \t 0 \t 0 \t 824 \t 21 \t 55\n",
      "   True:  8 \t 10 \t 2 \t 31 \t 8 \t 12 \t 14 \t 6 \t 2 \t 867 \t 22\n",
      "   True:  9 \t 1 \t 3 \t 4 \t 8 \t 68 \t 7 \t 1 \t 13 \t 47 \t 857\n",
      "\n",
      "Rotation  40.0\n",
      "313/313 [==============================] - 0s 939us/step - loss: 3.3340 - accuracy: 0.4817\n",
      "   Results\n",
      "   Loss,acc 3.3340468406677246 0.48170000314712524\n",
      "   True:  0 \t 906 \t 0 \t 3 \t 1 \t 0 \t 37 \t 7 \t 6 \t 6 \t 14\n",
      "   True:  1 \t 0 \t 592 \t 166 \t 10 \t 238 \t 31 \t 2 \t 1 \t 85 \t 10\n",
      "   True:  2 \t 24 \t 8 \t 329 \t 100 \t 124 \t 34 \t 39 \t 177 \t 143 \t 54\n",
      "   True:  3 \t 70 \t 3 \t 44 \t 558 \t 20 \t 108 \t 12 \t 22 \t 75 \t 98\n",
      "   True:  4 \t 7 \t 3 \t 380 \t 6 \t 229 \t 39 \t 78 \t 21 \t 161 \t 58\n",
      "   True:  5 \t 53 \t 2 \t 107 \t 11 \t 34 \t 465 \t 123 \t 7 \t 57 \t 33\n",
      "   True:  6 \t 22 \t 2 \t 2 \t 11 \t 130 \t 255 \t 516 \t 6 \t 6 \t 8\n",
      "   True:  7 \t 11 \t 12 \t 435 \t 26 \t 140 \t 10 \t 0 \t 172 \t 12 \t 210\n",
      "   True:  8 \t 52 \t 4 \t 155 \t 15 \t 46 \t 83 \t 33 \t 0 \t 530 \t 56\n",
      "   True:  9 \t 19 \t 6 \t 165 \t 7 \t 120 \t 15 \t 22 \t 30 \t 105 \t 520\n",
      "\n",
      "Rotation  60.0\n",
      "313/313 [==============================] - 0s 953us/step - loss: 7.1032 - accuracy: 0.1892\n",
      "   Results\n",
      "   Loss,acc 7.103187561035156 0.1891999989748001\n",
      "   True:  0 \t 818 \t 0 \t 19 \t 5 \t 4 \t 60 \t 6 \t 4 \t 35 \t 29\n",
      "   True:  1 \t 1 \t 122 \t 226 \t 11 \t 692 \t 13 \t 0 \t 0 \t 63 \t 7\n",
      "   True:  2 \t 63 \t 9 \t 111 \t 38 \t 194 \t 102 \t 35 \t 237 \t 174 \t 69\n",
      "   True:  3 \t 165 \t 1 \t 69 \t 112 \t 116 \t 152 \t 135 \t 30 \t 94 \t 136\n",
      "   True:  4 \t 16 \t 5 \t 566 \t 35 \t 115 \t 46 \t 99 \t 31 \t 56 \t 13\n",
      "   True:  5 \t 198 \t 2 \t 144 \t 8 \t 87 \t 111 \t 250 \t 21 \t 38 \t 33\n",
      "   True:  6 \t 60 \t 0 \t 47 \t 32 \t 175 \t 348 \t 226 \t 13 \t 30 \t 27\n",
      "   True:  7 \t 23 \t 5 \t 455 \t 21 \t 233 \t 24 \t 10 \t 22 \t 3 \t 232\n",
      "   True:  8 \t 122 \t 5 \t 320 \t 15 \t 137 \t 57 \t 106 \t 6 \t 141 \t 65\n",
      "   True:  9 \t 44 \t 2 \t 470 \t 21 \t 105 \t 10 \t 127 \t 37 \t 79 \t 114\n",
      "\n",
      "Rotation  80.0\n",
      "313/313 [==============================] - 0s 939us/step - loss: 8.9145 - accuracy: 0.1255\n",
      "   Results\n",
      "   Loss,acc 8.914462089538574 0.12549999356269836\n",
      "   True:  0 \t 752 \t 0 \t 20 \t 3 \t 8 \t 77 \t 21 \t 5 \t 24 \t 70\n",
      "   True:  1 \t 0 \t 3 \t 109 \t 0 \t 968 \t 29 \t 0 \t 20 \t 5 \t 1\n",
      "   True:  2 \t 34 \t 1 \t 159 \t 12 \t 345 \t 124 \t 64 \t 97 \t 98 \t 98\n",
      "   True:  3 \t 106 \t 0 \t 121 \t 10 \t 266 \t 100 \t 299 \t 3 \t 61 \t 44\n",
      "   True:  4 \t 3 \t 5 \t 433 \t 44 \t 140 \t 102 \t 149 \t 57 \t 28 \t 21\n",
      "   True:  5 \t 150 \t 3 \t 64 \t 6 \t 239 \t 34 \t 306 \t 12 \t 18 \t 60\n",
      "   True:  6 \t 53 \t 2 \t 212 \t 115 \t 163 \t 230 \t 95 \t 18 \t 33 \t 37\n",
      "   True:  7 \t 65 \t 2 \t 231 \t 7 \t 467 \t 79 \t 102 \t 18 \t 3 \t 54\n",
      "   True:  8 \t 69 \t 0 \t 252 \t 2 \t 261 \t 72 \t 245 \t 11 \t 25 \t 37\n",
      "   True:  9 \t 29 \t 1 \t 375 \t 23 \t 140 \t 36 \t 341 \t 31 \t 14 \t 19\n"
     ]
    }
   ],
   "source": [
    "import random\n",
    "import numpy as np\n",
    "fcn_rot=[]\n",
    "for rot in [0.0,20.0,40.0,60.0,80.0]:\n",
    "    print()\n",
    "    print(\"Rotation \",rot)\n",
    "    imgList = []\n",
    "    count = 0\n",
    "    for img in test_images[:]:\n",
    "        if random.uniform(0.0,1.0) > 0.5:\n",
    "            rotation = rot\n",
    "        else:\n",
    "            rotation = -rot\n",
    "#        tx = random.uniform(-shift,shift)\n",
    "#        ty = random.uniform(-shift,shift)\n",
    "        trans_image = transform_image(img,tx=0,ty=0,zoom=1.0,rotation=rotation,shear=0.0)\n",
    "        imgList.append(trans_image)\n",
    "#\n",
    "# Convert to np array\n",
    "    npa_images = np.asarray(imgList, dtype=np.float32)\n",
    "    npa_images = npa_images.reshape((npa_images.shape[0],28*28))\n",
    "#\n",
    "    smear_loss,smear_acc,smear_cf = getPerformance(trained_network,npa_images,test_labels_cat,test_labels)\n",
    "    print(\"   Results\")\n",
    "    print(\"   Loss,acc\",smear_loss,smear_acc)\n",
    "    fcn_rot.append(smear_acc)\n",
    "    for trueClass in range(10):\n",
    "        print(\"   True: \",trueClass,end=\"\")\n",
    "        for predClass in range(10):\n",
    "            print(\" \\t\",smear_cf[trueClass][predClass],end=\"\")\n",
    "        print()\n"
   ]
  },
  {
   "cell_type": "code",
   "execution_count": 70,
   "metadata": {},
   "outputs": [
    {
     "name": "stdout",
     "output_type": "stream",
     "text": [
      "\n",
      "Zoom  1.0\n",
      "313/313 [==============================] - 0s 958us/step - loss: 4.8094 - accuracy: 0.6681\n",
      "   Results\n",
      "   Loss,acc 4.8093976974487305 0.6680999994277954\n",
      "   True:  0 \t 944 \t 0 \t 4 \t 2 \t 0 \t 11 \t 6 \t 4 \t 3 \t 6\n",
      "   True:  1 \t 0 \t 997 \t 3 \t 1 \t 6 \t 2 \t 2 \t 116 \t 5 \t 3\n",
      "   True:  2 \t 2 \t 4 \t 615 \t 13 \t 14 \t 39 \t 5 \t 57 \t 262 \t 21\n",
      "   True:  3 \t 0 \t 13 \t 29 \t 487 \t 4 \t 233 \t 20 \t 7 \t 187 \t 30\n",
      "   True:  4 \t 4 \t 54 \t 78 \t 49 \t 597 \t 24 \t 154 \t 7 \t 9 \t 6\n",
      "   True:  5 \t 6 \t 5 \t 8 \t 85 \t 3 \t 766 \t 7 \t 3 \t 1 \t 8\n",
      "   True:  6 \t 5 \t 3 \t 7 \t 36 \t 2 \t 30 \t 466 \t 36 \t 2 \t 371\n",
      "   True:  7 \t 0 \t 148 \t 272 \t 3 \t 10 \t 2 \t 68 \t 502 \t 20 \t 3\n",
      "   True:  8 \t 2 \t 5 \t 39 \t 83 \t 3 \t 5 \t 2 \t 3 \t 818 \t 14\n",
      "   True:  9 \t 4 \t 77 \t 13 \t 33 \t 8 \t 16 \t 325 \t 3 \t 41 \t 489\n",
      "\n",
      "Zoom  1.25\n",
      "313/313 [==============================] - 0s 922us/step - loss: 3.7426 - accuracy: 0.5674\n",
      "   Results\n",
      "   Loss,acc 3.742577314376831 0.5673999786376953\n",
      "   True:  0 \t 904 \t 1 \t 1 \t 3 \t 18 \t 3 \t 37 \t 8 \t 0 \t 5\n",
      "   True:  1 \t 0 \t 1053 \t 5 \t 2 \t 15 \t 0 \t 0 \t 59 \t 1 \t 0\n",
      "   True:  2 \t 11 \t 87 \t 509 \t 9 \t 85 \t 5 \t 23 \t 60 \t 242 \t 1\n",
      "   True:  3 \t 1 \t 116 \t 44 \t 469 \t 51 \t 84 \t 19 \t 27 \t 183 \t 16\n",
      "   True:  4 \t 0 \t 47 \t 16 \t 28 \t 633 \t 0 \t 244 \t 11 \t 0 \t 3\n",
      "   True:  5 \t 6 \t 12 \t 26 \t 145 \t 34 \t 601 \t 29 \t 21 \t 5 \t 13\n",
      "   True:  6 \t 3 \t 10 \t 0 \t 107 \t 362 \t 20 \t 357 \t 45 \t 0 \t 54\n",
      "   True:  7 \t 1 \t 268 \t 172 \t 7 \t 49 \t 1 \t 83 \t 436 \t 6 \t 5\n",
      "   True:  8 \t 6 \t 134 \t 67 \t 96 \t 62 \t 1 \t 27 \t 16 \t 544 \t 21\n",
      "   True:  9 \t 3 \t 94 \t 8 \t 42 \t 338 \t 10 \t 335 \t 8 \t 3 \t 168\n",
      "\n",
      "Zoom  1.5\n",
      "313/313 [==============================] - 0s 927us/step - loss: 3.7874 - accuracy: 0.3696\n",
      "   Results\n",
      "   Loss,acc 3.787398338317871 0.36959999799728394\n",
      "   True:  0 \t 605 \t 3 \t 6 \t 7 \t 131 \t 2 \t 171 \t 51 \t 0 \t 4\n",
      "   True:  1 \t 0 \t 1004 \t 8 \t 0 \t 97 \t 0 \t 1 \t 23 \t 0 \t 2\n",
      "   True:  2 \t 4 \t 189 \t 355 \t 33 \t 190 \t 0 \t 67 \t 94 \t 94 \t 6\n",
      "   True:  3 \t 1 \t 277 \t 39 \t 200 \t 252 \t 28 \t 43 \t 79 \t 49 \t 42\n",
      "   True:  4 \t 0 \t 19 \t 7 \t 43 \t 734 \t 0 \t 161 \t 18 \t 0 \t 0\n",
      "   True:  5 \t 3 \t 89 \t 14 \t 146 \t 221 \t 271 \t 67 \t 55 \t 9 \t 17\n",
      "   True:  6 \t 0 \t 17 \t 2 \t 52 \t 782 \t 7 \t 80 \t 7 \t 0 \t 11\n",
      "   True:  7 \t 0 \t 234 \t 76 \t 67 \t 165 \t 0 \t 74 \t 370 \t 2 \t 40\n",
      "   True:  8 \t 2 \t 237 \t 67 \t 76 \t 455 \t 0 \t 40 \t 21 \t 63 \t 13\n",
      "   True:  9 \t 0 \t 71 \t 13 \t 60 \t 650 \t 1 \t 171 \t 29 \t 0 \t 14\n",
      "\n",
      "Zoom  1.75\n",
      "313/313 [==============================] - 0s 985us/step - loss: 4.7368 - accuracy: 0.2228\n",
      "   Results\n",
      "   Loss,acc 4.736825942993164 0.22280000150203705\n",
      "   True:  0 \t 133 \t 3 \t 23 \t 12 \t 470 \t 0 \t 256 \t 83 \t 0 \t 0\n",
      "   True:  1 \t 0 \t 804 \t 4 \t 0 \t 305 \t 0 \t 0 \t 16 \t 0 \t 6\n",
      "   True:  2 \t 0 \t 164 \t 105 \t 52 \t 454 \t 1 \t 81 \t 157 \t 16 \t 2\n",
      "   True:  3 \t 0 \t 224 \t 6 \t 59 \t 442 \t 17 \t 15 \t 99 \t 1 \t 147\n",
      "   True:  4 \t 0 \t 8 \t 1 \t 35 \t 865 \t 0 \t 65 \t 8 \t 0 \t 0\n",
      "   True:  5 \t 1 \t 108 \t 19 \t 68 \t 479 \t 55 \t 72 \t 56 \t 4 \t 30\n",
      "   True:  6 \t 0 \t 24 \t 0 \t 31 \t 878 \t 2 \t 18 \t 2 \t 0 \t 3\n",
      "   True:  7 \t 0 \t 235 \t 14 \t 110 \t 400 \t 0 \t 27 \t 184 \t 0 \t 58\n",
      "   True:  8 \t 0 \t 144 \t 56 \t 50 \t 674 \t 0 \t 15 \t 26 \t 0 \t 9\n",
      "   True:  9 \t 0 \t 28 \t 0 \t 43 \t 886 \t 1 \t 31 \t 15 \t 0 \t 5\n",
      "\n",
      "Zoom  2.0\n",
      "313/313 [==============================] - 0s 959us/step - loss: 5.7635 - accuracy: 0.1745\n",
      "   Results\n",
      "   Loss,acc 5.763528823852539 0.1745000034570694\n",
      "   True:  0 \t 10 \t 3 \t 7 \t 10 \t 743 \t 1 \t 177 \t 28 \t 0 \t 1\n",
      "   True:  1 \t 0 \t 687 \t 0 \t 0 \t 423 \t 0 \t 0 \t 17 \t 0 \t 8\n",
      "   True:  2 \t 0 \t 102 \t 15 \t 44 \t 736 \t 1 \t 20 \t 103 \t 2 \t 9\n",
      "   True:  3 \t 0 \t 155 \t 3 \t 34 \t 577 \t 6 \t 3 \t 21 \t 1 \t 210\n",
      "   True:  4 \t 0 \t 10 \t 0 \t 26 \t 936 \t 0 \t 10 \t 0 \t 0 \t 0\n",
      "   True:  5 \t 0 \t 92 \t 5 \t 33 \t 630 \t 8 \t 36 \t 37 \t 1 \t 50\n",
      "   True:  6 \t 0 \t 33 \t 0 \t 12 \t 910 \t 0 \t 3 \t 0 \t 0 \t 0\n",
      "   True:  7 \t 0 \t 218 \t 0 \t 50 \t 662 \t 1 \t 11 \t 48 \t 0 \t 38\n",
      "   True:  8 \t 0 \t 97 \t 13 \t 23 \t 825 \t 0 \t 2 \t 8 \t 0 \t 6\n",
      "   True:  9 \t 0 \t 31 \t 0 \t 8 \t 963 \t 0 \t 1 \t 2 \t 0 \t 4\n"
     ]
    }
   ],
   "source": [
    "import random\n",
    "import numpy as np\n",
    "fcn_zoom=[]\n",
    "for zoom in [1.0,1.25,1.5,1.75,2.0]:\n",
    "    print()\n",
    "    print(\"Zoom \",zoom)\n",
    "    imgList = []\n",
    "    count = 0\n",
    "    for img in test_images[:]:\n",
    "        if random.uniform(0.0,1.0) > 0.5:\n",
    "            zoom = zoom\n",
    "        else:\n",
    "            zoom = -zoom\n",
    "#        tx = random.uniform(-shift,shift)\n",
    "#        ty = random.uniform(-shift,shift)\n",
    "        trans_image = transform_image(img,tx=0,ty=0,zoom=zoom,rotation=0.0,shear=0.0)\n",
    "        imgList.append(trans_image)\n",
    "#\n",
    "# Convert to np array\n",
    "    npa_images = np.asarray(imgList, dtype=np.float32)\n",
    "    npa_images = npa_images.reshape((npa_images.shape[0],28*28))\n",
    "#\n",
    "    smear_loss,smear_acc,smear_cf = getPerformance(trained_network,npa_images,test_labels_cat,test_labels)\n",
    "    print(\"   Results\")\n",
    "    print(\"   Loss,acc\",smear_loss,smear_acc)\n",
    "    fcn_zoom.append(smear_acc)\n",
    "    for trueClass in range(10):\n",
    "        print(\"   True: \",trueClass,end=\"\")\n",
    "        for predClass in range(10):\n",
    "            print(\" \\t\",smear_cf[trueClass][predClass],end=\"\")\n",
    "        print()\n"
   ]
  },
  {
   "cell_type": "markdown",
   "metadata": {},
   "source": [
    "## Shortcomings of FCNs\n",
    "We see that standard, fully-connected neural networks, although powerful, have some clear shortcomings when applied to image classification:\n",
    "1.  They do not scale well.  Reasonable-sized images would require an enormous number of parameters.   This in turn would require a corresponding increase in the number of training samples in order to determine the parameters accurately.\n",
    "2.  They are dependent on the specific pixel relationships within the image.   Performance degrades substantially as soon as there is a minor devation from these relationships.\n",
    "\n",
    "Both of these issues are related: the FCN does not take advantage of the fact that - generally - in image classification, the images tend to be built from underlying common features.   In the case of MNIST images, these are the curves and lines and corners which make up the individual digits.   Convnets attempt to take advantage of these features."
   ]
  },
  {
   "cell_type": "markdown",
   "metadata": {},
   "source": [
    "# Building a Convnet\n",
    "Before explaining how convnets work, lets try to build a simple network to classify MNIST images.\n",
    "\n",
    "For comparison, we first show the code we use to build and train an FCN, followed by similar code to build and train a CNN."
   ]
  },
  {
   "cell_type": "code",
   "execution_count": 24,
   "metadata": {},
   "outputs": [
    {
     "name": "stdout",
     "output_type": "stream",
     "text": [
      "Epoch 1/15\n",
      "469/469 [==============================] - 1s 3ms/step - loss: 0.3299 - accuracy: 0.9052 - val_loss: 0.2158 - val_accuracy: 0.9358\n",
      "Epoch 2/15\n",
      "469/469 [==============================] - 1s 2ms/step - loss: 0.1769 - accuracy: 0.9483 - val_loss: 0.1450 - val_accuracy: 0.9594\n",
      "Epoch 3/15\n",
      "469/469 [==============================] - 1s 2ms/step - loss: 0.1234 - accuracy: 0.9640 - val_loss: 0.1111 - val_accuracy: 0.9672\n",
      "Epoch 4/15\n",
      "469/469 [==============================] - 1s 2ms/step - loss: 0.0916 - accuracy: 0.9731 - val_loss: 0.0975 - val_accuracy: 0.9703\n",
      "Epoch 5/15\n",
      "469/469 [==============================] - 1s 2ms/step - loss: 0.0699 - accuracy: 0.9794 - val_loss: 0.0901 - val_accuracy: 0.9730\n",
      "Epoch 6/15\n",
      "469/469 [==============================] - 1s 2ms/step - loss: 0.0544 - accuracy: 0.9845 - val_loss: 0.0829 - val_accuracy: 0.9749\n",
      "Epoch 7/15\n",
      "469/469 [==============================] - 1s 2ms/step - loss: 0.0435 - accuracy: 0.9877 - val_loss: 0.0720 - val_accuracy: 0.9785\n",
      "Epoch 8/15\n",
      "469/469 [==============================] - 1s 2ms/step - loss: 0.0331 - accuracy: 0.9913 - val_loss: 0.0697 - val_accuracy: 0.9782\n",
      "Epoch 9/15\n",
      "469/469 [==============================] - 1s 2ms/step - loss: 0.0266 - accuracy: 0.9929 - val_loss: 0.0704 - val_accuracy: 0.9779\n",
      "Epoch 10/15\n",
      "469/469 [==============================] - 1s 2ms/step - loss: 0.0207 - accuracy: 0.9951 - val_loss: 0.0727 - val_accuracy: 0.9769\n",
      "Epoch 11/15\n",
      "469/469 [==============================] - 1s 2ms/step - loss: 0.0159 - accuracy: 0.9967 - val_loss: 0.0678 - val_accuracy: 0.9794\n",
      "Epoch 12/15\n",
      "469/469 [==============================] - 1s 2ms/step - loss: 0.0129 - accuracy: 0.9975 - val_loss: 0.0640 - val_accuracy: 0.9808\n",
      "Epoch 13/15\n",
      "469/469 [==============================] - 1s 2ms/step - loss: 0.0097 - accuracy: 0.9982 - val_loss: 0.0656 - val_accuracy: 0.9802\n",
      "Epoch 14/15\n",
      "469/469 [==============================] - 1s 2ms/step - loss: 0.0073 - accuracy: 0.9991 - val_loss: 0.0714 - val_accuracy: 0.9787\n",
      "Epoch 15/15\n",
      "469/469 [==============================] - 1s 2ms/step - loss: 0.0060 - accuracy: 0.9992 - val_loss: 0.0643 - val_accuracy: 0.9806\n",
      "Model: \"sequential\"\n",
      "_________________________________________________________________\n",
      "Layer (type)                 Output Shape              Param #   \n",
      "=================================================================\n",
      "dense (Dense)                (None, 400)               314000    \n",
      "_________________________________________________________________\n",
      "dense_1 (Dense)              (None, 10)                4010      \n",
      "=================================================================\n",
      "Total params: 318,010\n",
      "Trainable params: 318,010\n",
      "Non-trainable params: 0\n",
      "_________________________________________________________________\n",
      "None\n"
     ]
    }
   ],
   "source": [
    "#\n",
    "# Make sure the shape of the input is correct\n",
    "train_images = train_images.reshape((train_images.shape[0],28*28))\n",
    "test_images = test_images.reshape((test_images.shape[0],28*28))\n",
    "\n",
    "fcn_network = keras.models.Sequential()\n",
    "#\n",
    "# Hidden\n",
    "fcn_network.add(keras.layers.Dense(400,activation='tanh',input_shape=(28*28,)))\n",
    "#\n",
    "# Output\n",
    "fcn_network.add(keras.layers.Dense(10,activation='softmax'))\n",
    "#\n",
    "# Compile\n",
    "fcn_network.compile(optimizer='adam',loss='categorical_crossentropy',metrics=['accuracy'])\n",
    "# \n",
    "# Fit/save/print summary\n",
    "history = fcn_network.fit(train_images,train_labels_cat,epochs=15,batch_size=128,validation_data=(test_images,test_labels_cat))\n",
    "fcn_network.save('fully_trained_model_fcn.h5')\n",
    "print(fcn_network.summary())\n"
   ]
  },
  {
   "cell_type": "code",
   "execution_count": 25,
   "metadata": {},
   "outputs": [
    {
     "name": "stdout",
     "output_type": "stream",
     "text": [
      "313/313 [==============================] - 0s 910us/step - loss: 0.0643 - accuracy: 0.9806\n",
      "FCN: Test sample loss:  0.06434069573879242 ; Test sample accuracy:  0.9805999994277954\n"
     ]
    }
   ],
   "source": [
    "#\n",
    "# Get the overall performance for the test sample\n",
    "test_loss, test_acc = fcn_network.evaluate(test_images,test_labels_cat)\n",
    "print(\"FCN: Test sample loss: \",test_loss, \"; Test sample accuracy: \",test_acc)\n"
   ]
  },
  {
   "cell_type": "code",
   "execution_count": 26,
   "metadata": {},
   "outputs": [
    {
     "name": "stdout",
     "output_type": "stream",
     "text": [
      "Epoch 1/5\n",
      "235/235 [==============================] - 15s 63ms/step - loss: 0.3673 - accuracy: 0.8860 - val_loss: 0.1233 - val_accuracy: 0.9604\n",
      "Epoch 2/5\n",
      "235/235 [==============================] - 15s 62ms/step - loss: 0.0889 - accuracy: 0.9730 - val_loss: 0.0577 - val_accuracy: 0.9816\n",
      "Epoch 3/5\n",
      "235/235 [==============================] - 15s 62ms/step - loss: 0.0577 - accuracy: 0.9826 - val_loss: 0.0423 - val_accuracy: 0.9864\n",
      "Epoch 4/5\n",
      "235/235 [==============================] - 15s 62ms/step - loss: 0.0432 - accuracy: 0.9868 - val_loss: 0.0316 - val_accuracy: 0.9910\n",
      "Epoch 5/5\n",
      "235/235 [==============================] - 15s 62ms/step - loss: 0.0343 - accuracy: 0.9894 - val_loss: 0.0421 - val_accuracy: 0.9861\n",
      "Model: \"sequential_1\"\n",
      "_________________________________________________________________\n",
      "Layer (type)                 Output Shape              Param #   \n",
      "=================================================================\n",
      "conv2d (Conv2D)              (None, 24, 24, 30)        780       \n",
      "_________________________________________________________________\n",
      "max_pooling2d (MaxPooling2D) (None, 12, 12, 30)        0         \n",
      "_________________________________________________________________\n",
      "conv2d_1 (Conv2D)            (None, 8, 8, 25)          18775     \n",
      "_________________________________________________________________\n",
      "max_pooling2d_1 (MaxPooling2 (None, 4, 4, 25)          0         \n",
      "_________________________________________________________________\n",
      "flatten (Flatten)            (None, 400)               0         \n",
      "_________________________________________________________________\n",
      "dense_2 (Dense)              (None, 64)                25664     \n",
      "_________________________________________________________________\n",
      "dense_3 (Dense)              (None, 10)                650       \n",
      "=================================================================\n",
      "Total params: 45,869\n",
      "Trainable params: 45,869\n",
      "Non-trainable params: 0\n",
      "_________________________________________________________________\n",
      "None\n"
     ]
    }
   ],
   "source": [
    "#\n",
    "# Make sure the shape of the input is correct (the last \",1\" is the number of \"channels\"=1 for grayscale)\n",
    "train_images = train_images.reshape((train_images.shape[0],28,28,1))\n",
    "test_images = test_images.reshape((test_images.shape[0],28,28,1))\n",
    "#\n",
    "cnn_network = keras.models.Sequential()\n",
    "#\n",
    "# First convolutional layer\n",
    "cnn_network.add(keras.layers.Conv2D(30,(5,5),activation='relu',input_shape=(28,28,1)))\n",
    "# Pool\n",
    "cnn_network.add(keras.layers.MaxPooling2D((2,2)))\n",
    "#\n",
    "# Second convolutional layer\n",
    "cnn_network.add(keras.layers.Conv2D(25,(5,5),activation='relu'))\n",
    "# Pool\n",
    "cnn_network.add(keras.layers.MaxPooling2D((2,2)))\n",
    "#\n",
    "# Connect to a dense output layer - just like an FCN\n",
    "cnn_network.add(keras.layers.Flatten())\n",
    "cnn_network.add(keras.layers.Dense(64,activation='relu'))\n",
    "cnn_network.add(keras.layers.Dense(10,activation='softmax'))\n",
    "#\n",
    "# Compile\n",
    "cnn_network.compile(optimizer='rmsprop',loss='categorical_crossentropy',metrics=['accuracy'])\n",
    "#\n",
    "# Fit/save/print summary\n",
    "history = cnn_network.fit(train_images,train_labels_cat,epochs=5,batch_size=256,validation_data=(test_images,test_labels_cat))\n",
    "cnn_network.save('fully_trained_model_cnn.h5')\n",
    "print(cnn_network.summary())\n"
   ]
  },
  {
   "cell_type": "code",
   "execution_count": 27,
   "metadata": {},
   "outputs": [
    {
     "name": "stdout",
     "output_type": "stream",
     "text": [
      "313/313 [==============================] - 1s 3ms/step - loss: 0.0421 - accuracy: 0.9861\n",
      "CNN: Test sample loss:  0.04213597625494003 ; Test sample accuracy:  0.9861000180244446\n"
     ]
    }
   ],
   "source": [
    "\n",
    "#\n",
    "# Get the overall performance for the test sample\n",
    "test_loss, test_acc = cnn_network.evaluate(test_images,test_labels_cat)\n",
    "print(\"CNN: Test sample loss: \",test_loss, \"; Test sample accuracy: \",test_acc)\n"
   ]
  },
  {
   "cell_type": "markdown",
   "metadata": {},
   "source": [
    "## Comparison of CNN and FCN\n",
    "There are a couple of things to notice when comparing the output from the two code blocks above:\n",
    "1.  The performance of the CNN is better than the FCN after 5 epochs.  A careful examination of the training set accuracies reveals that the CNN is still undertrained (and so can perform better if we increase the number of epochs).\n",
    "2.  The number of parameters needed to specify the CNN is 40.3k, about 7 times smaller than the FCN!\n",
    "3.  The training time per step is much longer (about 10x) for the CNN than it is for the FCN."
   ]
  },
  {
   "cell_type": "markdown",
   "metadata": {},
   "source": [
    "## Task 3: Test CNN Stability \n",
    "What we don't know yet, is how stable the CNN is to variations in the input images.\n",
    "Using a similar strategy as we used above for the FCN, calaculate the performance under the following variations:\n",
    "1.  Shifts in the range [0,1,2,3,4]\n",
    "2.  Rotations in the range: [0.0,20.0,40.0,60.0,80.0] (keep shifts=0)\n",
    "3.  Zooms in the range[1.0,1.25,1.5,1.75,2.0] (keep shifts and rotations=0)\n"
   ]
  },
  {
   "cell_type": "markdown",
   "metadata": {},
   "source": [
    "## Read in saved network from above"
   ]
  },
  {
   "cell_type": "code",
   "execution_count": 66,
   "metadata": {},
   "outputs": [],
   "source": [
    "# Your code here!\n",
    "trained_network = keras.models.load_model('fully_trained_model_cnn.h5')"
   ]
  },
  {
   "cell_type": "markdown",
   "metadata": {},
   "source": [
    "## Shifts"
   ]
  },
  {
   "cell_type": "code",
   "execution_count": 62,
   "metadata": {},
   "outputs": [
    {
     "name": "stdout",
     "output_type": "stream",
     "text": [
      "\n",
      "Shift  0\n",
      "313/313 [==============================] - 1s 3ms/step - loss: 0.0421 - accuracy: 0.9861\n",
      "   Results\n",
      "   Loss,acc 0.04213597625494003 0.9861000180244446\n",
      "   True:  0 \t 975 \t 0 \t 0 \t 0 \t 0 \t 0 \t 0 \t 2 \t 2 \t 1\n",
      "   True:  1 \t 0 \t 1132 \t 2 \t 0 \t 0 \t 0 \t 1 \t 0 \t 0 \t 0\n",
      "   True:  2 \t 2 \t 2 \t 1022 \t 0 \t 2 \t 0 \t 0 \t 1 \t 3 \t 0\n",
      "   True:  3 \t 1 \t 2 \t 4 \t 992 \t 0 \t 4 \t 0 \t 2 \t 3 \t 2\n",
      "   True:  4 \t 0 \t 0 \t 0 \t 0 \t 973 \t 0 \t 5 \t 1 \t 1 \t 2\n",
      "   True:  5 \t 2 \t 0 \t 0 \t 6 \t 0 \t 860 \t 8 \t 3 \t 5 \t 8\n",
      "   True:  6 \t 5 \t 2 \t 0 \t 0 \t 1 \t 1 \t 949 \t 0 \t 0 \t 0\n",
      "   True:  7 \t 0 \t 5 \t 14 \t 0 \t 0 \t 0 \t 0 \t 1008 \t 1 \t 0\n",
      "   True:  8 \t 4 \t 1 \t 1 \t 0 \t 2 \t 0 \t 0 \t 3 \t 958 \t 5\n",
      "   True:  9 \t 0 \t 3 \t 0 \t 0 \t 8 \t 0 \t 0 \t 6 \t 0 \t 992\n",
      "\n",
      "Shift  1\n",
      "313/313 [==============================] - 1s 3ms/step - loss: 0.0982 - accuracy: 0.9682\n",
      "   Results\n",
      "   Loss,acc 0.098240926861763 0.9682000279426575\n",
      "   True:  0 \t 964 \t 0 \t 1 \t 0 \t 3 \t 1 \t 1 \t 1 \t 2 \t 7\n",
      "   True:  1 \t 3 \t 1110 \t 2 \t 0 \t 0 \t 0 \t 16 \t 1 \t 3 \t 0\n",
      "   True:  2 \t 9 \t 4 \t 998 \t 0 \t 7 \t 0 \t 4 \t 7 \t 2 \t 1\n",
      "   True:  3 \t 5 \t 2 \t 10 \t 977 \t 0 \t 8 \t 0 \t 4 \t 4 \t 0\n",
      "   True:  4 \t 0 \t 1 \t 0 \t 0 \t 970 \t 0 \t 4 \t 1 \t 2 \t 4\n",
      "   True:  5 \t 3 \t 2 \t 0 \t 13 \t 1 \t 823 \t 17 \t 4 \t 15 \t 14\n",
      "   True:  6 \t 10 \t 4 \t 0 \t 0 \t 6 \t 1 \t 936 \t 0 \t 1 \t 0\n",
      "   True:  7 \t 0 \t 9 \t 20 \t 0 \t 1 \t 0 \t 0 \t 990 \t 5 \t 3\n",
      "   True:  8 \t 9 \t 1 \t 2 \t 0 \t 2 \t 1 \t 6 \t 6 \t 940 \t 7\n",
      "   True:  9 \t 3 \t 4 \t 1 \t 0 \t 11 \t 0 \t 0 \t 8 \t 8 \t 974\n",
      "\n",
      "Shift  2\n",
      "313/313 [==============================] - 1s 3ms/step - loss: 0.5413 - accuracy: 0.8393\n",
      "   Results\n",
      "   Loss,acc 0.5412660241127014 0.8392999768257141\n",
      "   True:  0 \t 748 \t 1 \t 9 \t 9 \t 12 \t 9 \t 31 \t 28 \t 22 \t 111\n",
      "   True:  1 \t 2 \t 899 \t 1 \t 1 \t 4 \t 0 \t 107 \t 109 \t 11 \t 1\n",
      "   True:  2 \t 15 \t 4 \t 904 \t 3 \t 25 \t 0 \t 33 \t 34 \t 10 \t 4\n",
      "   True:  3 \t 49 \t 2 \t 41 \t 846 \t 2 \t 27 \t 2 \t 17 \t 11 \t 13\n",
      "   True:  4 \t 7 \t 11 \t 9 \t 2 \t 903 \t 0 \t 9 \t 17 \t 15 \t 9\n",
      "   True:  5 \t 27 \t 4 \t 3 \t 68 \t 1 \t 680 \t 29 \t 5 \t 36 \t 39\n",
      "   True:  6 \t 22 \t 22 \t 2 \t 1 \t 24 \t 1 \t 853 \t 0 \t 21 \t 12\n",
      "   True:  7 \t 0 \t 28 \t 43 \t 5 \t 2 \t 0 \t 0 \t 926 \t 19 \t 5\n",
      "   True:  8 \t 28 \t 9 \t 13 \t 5 \t 15 \t 1 \t 29 \t 26 \t 793 \t 55\n",
      "   True:  9 \t 47 \t 10 \t 3 \t 18 \t 24 \t 2 \t 9 \t 30 \t 25 \t 841\n",
      "\n",
      "Shift  3\n",
      "313/313 [==============================] - 1s 3ms/step - loss: 2.1875 - accuracy: 0.5101\n",
      "   Results\n",
      "   Loss,acc 2.1875357627868652 0.5101000070571899\n",
      "   True:  0 \t 307 \t 17 \t 63 \t 36 \t 43 \t 7 \t 168 \t 82 \t 102 \t 155\n",
      "   True:  1 \t 33 \t 497 \t 3 \t 0 \t 45 \t 1 \t 264 \t 265 \t 27 \t 0\n",
      "   True:  2 \t 39 \t 19 \t 587 \t 13 \t 147 \t 9 \t 79 \t 103 \t 20 \t 16\n",
      "   True:  3 \t 112 \t 11 \t 149 \t 499 \t 11 \t 43 \t 18 \t 54 \t 60 \t 53\n",
      "   True:  4 \t 41 \t 60 \t 65 \t 3 \t 594 \t 8 \t 56 \t 75 \t 50 \t 30\n",
      "   True:  5 \t 61 \t 12 \t 24 \t 110 \t 20 \t 455 \t 59 \t 11 \t 61 \t 79\n",
      "   True:  6 \t 30 \t 80 \t 17 \t 0 \t 120 \t 1 \t 554 \t 3 \t 40 \t 113\n",
      "   True:  7 \t 20 \t 41 \t 73 \t 15 \t 20 \t 2 \t 2 \t 791 \t 59 \t 5\n",
      "   True:  8 \t 60 \t 41 \t 45 \t 61 \t 25 \t 23 \t 105 \t 68 \t 462 \t 84\n",
      "   True:  9 \t 48 \t 31 \t 14 \t 64 \t 50 \t 2 \t 138 \t 146 \t 161 \t 355\n",
      "\n",
      "Shift  4\n",
      "313/313 [==============================] - 1s 3ms/step - loss: 4.7041 - accuracy: 0.2462\n",
      "   Results\n",
      "   Loss,acc 4.704134941101074 0.24619999527931213\n",
      "   True:  0 \t 61 \t 86 \t 121 \t 48 \t 120 \t 18 \t 181 \t 159 \t 99 \t 87\n",
      "   True:  1 \t 63 \t 290 \t 10 \t 2 \t 147 \t 1 \t 275 \t 284 \t 62 \t 1\n",
      "   True:  2 \t 30 \t 38 \t 298 \t 41 \t 263 \t 22 \t 69 \t 172 \t 64 \t 35\n",
      "   True:  3 \t 129 \t 5 \t 232 \t 202 \t 22 \t 65 \t 49 \t 115 \t 125 \t 66\n",
      "   True:  4 \t 28 \t 136 \t 163 \t 3 \t 245 \t 21 \t 94 \t 190 \t 78 \t 24\n",
      "   True:  5 \t 81 \t 30 \t 113 \t 104 \t 25 \t 262 \t 104 \t 38 \t 72 \t 63\n",
      "   True:  6 \t 60 \t 157 \t 45 \t 4 \t 229 \t 7 \t 223 \t 7 \t 29 \t 197\n",
      "   True:  7 \t 105 \t 48 \t 65 \t 65 \t 66 \t 16 \t 33 \t 572 \t 53 \t 5\n",
      "   True:  8 \t 54 \t 71 \t 84 \t 136 \t 68 \t 44 \t 127 \t 94 \t 223 \t 73\n",
      "   True:  9 \t 23 \t 54 \t 50 \t 29 \t 65 \t 9 \t 234 \t 249 \t 210 \t 86\n"
     ]
    }
   ],
   "source": [
    "import random\n",
    "import numpy as np\n",
    "cnn_shift = []\n",
    "for shift in [0,1,2,3,4]:\n",
    "    print()\n",
    "    print(\"Shift \",shift)\n",
    "    imgList = []\n",
    "    count = 0\n",
    "    for img in test_images[:]:\n",
    "        if random.uniform(0.0,1.0) > 0.5:\n",
    "            tx = shift\n",
    "        else:\n",
    "            tx = -shift\n",
    "        if random.uniform(0.0,1.0) > 0.5:\n",
    "            ty = shift\n",
    "        else:\n",
    "            ty = -shift\n",
    "#        tx = random.uniform(-shift,shift)\n",
    "#        ty = random.uniform(-shift,shift)\n",
    "        trans_image = transform_image(img,tx=tx,ty=ty,zoom=1.0,rotation=0.0,shear=0.0)\n",
    "        imgList.append(trans_image)\n",
    "#\n",
    "# Convert to np array\n",
    "    npa_images = np.asarray(imgList, dtype=np.float32)\n",
    "    npa_images = npa_images.reshape((npa_images.shape[0],28,28,1))\n",
    "#\n",
    "    smear_loss,smear_acc,smear_cf = getPerformance(trained_network,npa_images,test_labels_cat,test_labels)\n",
    "    print(\"   Results\")\n",
    "    print(\"   Loss,acc\",smear_loss,smear_acc)\n",
    "    cnn_shift.append(smear_acc)\n",
    "    for trueClass in range(10):\n",
    "        print(\"   True: \",trueClass,end=\"\")\n",
    "        for predClass in range(10):\n",
    "            print(\" \\t\",smear_cf[trueClass][predClass],end=\"\")\n",
    "        print()\n"
   ]
  },
  {
   "cell_type": "markdown",
   "metadata": {},
   "source": [
    "# Rotations"
   ]
  },
  {
   "cell_type": "code",
   "execution_count": 63,
   "metadata": {},
   "outputs": [
    {
     "name": "stdout",
     "output_type": "stream",
     "text": [
      "\n",
      "Rotation  0.0\n",
      "313/313 [==============================] - 1s 3ms/step - loss: 0.0421 - accuracy: 0.9861\n",
      "   Results\n",
      "   Loss,acc 0.04213597625494003 0.9861000180244446\n",
      "   True:  0 \t 975 \t 0 \t 0 \t 0 \t 0 \t 0 \t 0 \t 2 \t 2 \t 1\n",
      "   True:  1 \t 0 \t 1132 \t 2 \t 0 \t 0 \t 0 \t 1 \t 0 \t 0 \t 0\n",
      "   True:  2 \t 2 \t 2 \t 1022 \t 0 \t 2 \t 0 \t 0 \t 1 \t 3 \t 0\n",
      "   True:  3 \t 1 \t 2 \t 4 \t 992 \t 0 \t 4 \t 0 \t 2 \t 3 \t 2\n",
      "   True:  4 \t 0 \t 0 \t 0 \t 0 \t 973 \t 0 \t 5 \t 1 \t 1 \t 2\n",
      "   True:  5 \t 2 \t 0 \t 0 \t 6 \t 0 \t 860 \t 8 \t 3 \t 5 \t 8\n",
      "   True:  6 \t 5 \t 2 \t 0 \t 0 \t 1 \t 1 \t 949 \t 0 \t 0 \t 0\n",
      "   True:  7 \t 0 \t 5 \t 14 \t 0 \t 0 \t 0 \t 0 \t 1008 \t 1 \t 0\n",
      "   True:  8 \t 4 \t 1 \t 1 \t 0 \t 2 \t 0 \t 0 \t 3 \t 958 \t 5\n",
      "   True:  9 \t 0 \t 3 \t 0 \t 0 \t 8 \t 0 \t 0 \t 6 \t 0 \t 992\n",
      "\n",
      "Rotation  20.0\n",
      "313/313 [==============================] - 1s 3ms/step - loss: 0.2672 - accuracy: 0.9203\n",
      "   Results\n",
      "   Loss,acc 0.26724037528038025 0.9203000068664551\n",
      "   True:  0 \t 975 \t 0 \t 2 \t 0 \t 0 \t 0 \t 0 \t 1 \t 1 \t 1\n",
      "   True:  1 \t 2 \t 1079 \t 4 \t 0 \t 2 \t 0 \t 2 \t 0 \t 46 \t 0\n",
      "   True:  2 \t 11 \t 13 \t 968 \t 1 \t 6 \t 0 \t 4 \t 12 \t 16 \t 1\n",
      "   True:  3 \t 10 \t 1 \t 11 \t 923 \t 1 \t 8 \t 2 \t 10 \t 25 \t 19\n",
      "   True:  4 \t 3 \t 0 \t 14 \t 0 \t 880 \t 0 \t 5 \t 8 \t 53 \t 19\n",
      "   True:  5 \t 4 \t 0 \t 0 \t 6 \t 8 \t 775 \t 37 \t 3 \t 20 \t 39\n",
      "   True:  6 \t 16 \t 1 \t 0 \t 0 \t 6 \t 5 \t 924 \t 0 \t 6 \t 0\n",
      "   True:  7 \t 2 \t 23 \t 126 \t 0 \t 9 \t 0 \t 0 \t 832 \t 17 \t 19\n",
      "   True:  8 \t 12 \t 1 \t 7 \t 0 \t 20 \t 0 \t 13 \t 2 \t 909 \t 10\n",
      "   True:  9 \t 5 \t 4 \t 2 \t 0 \t 7 \t 6 \t 0 \t 4 \t 43 \t 938\n",
      "\n",
      "Rotation  40.0\n",
      "313/313 [==============================] - 1s 3ms/step - loss: 1.9307 - accuracy: 0.5773\n",
      "   Results\n",
      "   Loss,acc 1.9307377338409424 0.5773000121116638\n",
      "   True:  0 \t 966 \t 0 \t 1 \t 0 \t 0 \t 3 \t 1 \t 5 \t 1 \t 3\n",
      "   True:  1 \t 0 \t 719 \t 120 \t 0 \t 18 \t 2 \t 1 \t 15 \t 260 \t 0\n",
      "   True:  2 \t 79 \t 67 \t 491 \t 3 \t 51 \t 1 \t 4 \t 160 \t 165 \t 11\n",
      "   True:  3 \t 73 \t 1 \t 25 \t 505 \t 18 \t 45 \t 15 \t 57 \t 198 \t 73\n",
      "   True:  4 \t 19 \t 16 \t 124 \t 3 \t 409 \t 13 \t 27 \t 24 \t 296 \t 51\n",
      "   True:  5 \t 45 \t 1 \t 2 \t 13 \t 36 \t 387 \t 194 \t 10 \t 55 \t 149\n",
      "   True:  6 \t 64 \t 0 \t 0 \t 4 \t 12 \t 81 \t 780 \t 1 \t 14 \t 2\n",
      "   True:  7 \t 7 \t 54 \t 493 \t 7 \t 105 \t 0 \t 1 \t 272 \t 15 \t 74\n",
      "   True:  8 \t 42 \t 4 \t 39 \t 2 \t 160 \t 8 \t 72 \t 3 \t 622 \t 22\n",
      "   True:  9 \t 54 \t 0 \t 26 \t 1 \t 40 \t 12 \t 12 \t 8 \t 234 \t 622\n",
      "\n",
      "Rotation  60.0\n",
      "313/313 [==============================] - 1s 3ms/step - loss: 4.7191 - accuracy: 0.2592\n",
      "   Results\n",
      "   Loss,acc 4.71909236907959 0.25920000672340393\n",
      "   True:  0 \t 931 \t 0 \t 0 \t 0 \t 0 \t 4 \t 3 \t 8 \t 11 \t 23\n",
      "   True:  1 \t 0 \t 210 \t 428 \t 0 \t 113 \t 0 \t 4 \t 65 \t 315 \t 0\n",
      "   True:  2 \t 91 \t 24 \t 164 \t 0 \t 84 \t 0 \t 25 \t 310 \t 310 \t 24\n",
      "   True:  3 \t 215 \t 0 \t 39 \t 61 \t 67 \t 31 \t 103 \t 181 \t 266 \t 47\n",
      "   True:  4 \t 13 \t 25 \t 255 \t 31 \t 99 \t 88 \t 77 \t 49 \t 339 \t 6\n",
      "   True:  5 \t 148 \t 1 \t 1 \t 8 \t 79 \t 105 \t 323 \t 10 \t 31 \t 186\n",
      "   True:  6 \t 155 \t 1 \t 1 \t 13 \t 46 \t 125 \t 518 \t 3 \t 83 \t 13\n",
      "   True:  7 \t 44 \t 32 \t 593 \t 1 \t 185 \t 1 \t 13 \t 68 \t 14 \t 77\n",
      "   True:  8 \t 78 \t 1 \t 115 \t 1 \t 241 \t 3 \t 250 \t 15 \t 234 \t 36\n",
      "   True:  9 \t 147 \t 3 \t 143 \t 1 \t 53 \t 14 \t 186 \t 5 \t 255 \t 202\n",
      "\n",
      "Rotation  80.0\n",
      "313/313 [==============================] - 1s 3ms/step - loss: 6.4169 - accuracy: 0.1885\n",
      "   Results\n",
      "   Loss,acc 6.416895389556885 0.18850000202655792\n",
      "   True:  0 \t 901 \t 0 \t 1 \t 2 \t 0 \t 7 \t 6 \t 1 \t 33 \t 29\n",
      "   True:  1 \t 0 \t 17 \t 748 \t 0 \t 150 \t 1 \t 2 \t 116 \t 101 \t 0\n",
      "   True:  2 \t 67 \t 14 \t 179 \t 0 \t 195 \t 1 \t 89 \t 190 \t 273 \t 24\n",
      "   True:  3 \t 276 \t 0 \t 24 \t 0 \t 162 \t 11 \t 232 \t 133 \t 156 \t 16\n",
      "   True:  4 \t 12 \t 28 \t 231 \t 45 \t 133 \t 161 \t 89 \t 95 \t 188 \t 0\n",
      "   True:  5 \t 170 \t 0 \t 0 \t 0 \t 99 \t 30 \t 386 \t 13 \t 8 \t 186\n",
      "   True:  6 \t 248 \t 1 \t 2 \t 47 \t 59 \t 73 \t 326 \t 6 \t 140 \t 56\n",
      "   True:  7 \t 66 \t 7 \t 417 \t 2 \t 263 \t 1 \t 108 \t 94 \t 57 \t 13\n",
      "   True:  8 \t 119 \t 3 \t 92 \t 0 \t 111 \t 1 \t 367 \t 54 \t 184 \t 43\n",
      "   True:  9 \t 164 \t 0 \t 166 \t 2 \t 100 \t 13 \t 390 \t 3 \t 150 \t 21\n"
     ]
    }
   ],
   "source": [
    "# Your code here!\n",
    "import random\n",
    "import numpy as np\n",
    "cnn_rot=[]\n",
    "for rot in [0.0,20.0,40.0,60.0,80.0]:\n",
    "    print()\n",
    "    print(\"Rotation \",rot)\n",
    "    imgList = []\n",
    "    count = 0\n",
    "    for img in test_images[:]:\n",
    "        if random.uniform(0.0,1.0) > 0.5:\n",
    "            rotation = rot\n",
    "        else:\n",
    "            rotation = -rot\n",
    "#        tx = random.uniform(-shift,shift)\n",
    "#        ty = random.uniform(-shift,shift)\n",
    "        trans_image = transform_image(img,tx=0,ty=0,zoom=1.0,rotation=rotation,shear=0.0)\n",
    "        imgList.append(trans_image)\n",
    "#\n",
    "# Convert to np array\n",
    "    npa_images = np.asarray(imgList, dtype=np.float32)\n",
    "    npa_images = npa_images.reshape((npa_images.shape[0],28,28,1))\n",
    "#\n",
    "    smear_loss,smear_acc,smear_cf = getPerformance(trained_network,npa_images,test_labels_cat,test_labels)\n",
    "    print(\"   Results\")\n",
    "    print(\"   Loss,acc\",smear_loss,smear_acc)\n",
    "    cnn_rot.append(smear_acc)\n",
    "    for trueClass in range(10):\n",
    "        print(\"   True: \",trueClass,end=\"\")\n",
    "        for predClass in range(10):\n",
    "            print(\" \\t\",smear_cf[trueClass][predClass],end=\"\")\n",
    "        print()\n"
   ]
  },
  {
   "cell_type": "markdown",
   "metadata": {},
   "source": [
    "## Zooms"
   ]
  },
  {
   "cell_type": "code",
   "execution_count": 64,
   "metadata": {},
   "outputs": [
    {
     "name": "stdout",
     "output_type": "stream",
     "text": [
      "\n",
      "Zoom  1.0\n",
      "313/313 [==============================] - 1s 3ms/step - loss: 4.5344 - accuracy: 0.7027\n",
      "   Results\n",
      "   Loss,acc 4.534396648406982 0.7027000188827515\n",
      "   True:  0 \t 964 \t 0 \t 1 \t 0 \t 0 \t 0 \t 2 \t 4 \t 1 \t 8\n",
      "   True:  1 \t 0 \t 1113 \t 2 \t 0 \t 0 \t 2 \t 0 \t 17 \t 1 \t 0\n",
      "   True:  2 \t 15 \t 7 \t 665 \t 0 \t 4 \t 0 \t 1 \t 105 \t 235 \t 0\n",
      "   True:  3 \t 7 \t 3 \t 8 \t 474 \t 3 \t 65 \t 63 \t 1 \t 348 \t 38\n",
      "   True:  4 \t 5 \t 33 \t 18 \t 3 \t 714 \t 3 \t 154 \t 36 \t 15 \t 1\n",
      "   True:  5 \t 9 \t 1 \t 3 \t 60 \t 5 \t 705 \t 30 \t 2 \t 13 \t 64\n",
      "   True:  6 \t 13 \t 2 \t 1 \t 1 \t 0 \t 1 \t 468 \t 45 \t 0 \t 427\n",
      "   True:  7 \t 5 \t 140 \t 121 \t 0 \t 10 \t 0 \t 255 \t 487 \t 10 \t 0\n",
      "   True:  8 \t 2 \t 2 \t 14 \t 14 \t 2 \t 0 \t 0 \t 2 \t 926 \t 12\n",
      "   True:  9 \t 3 \t 12 \t 0 \t 6 \t 8 \t 2 \t 441 \t 3 \t 23 \t 511\n",
      "\n",
      "Zoom  1.25\n",
      "313/313 [==============================] - 1s 3ms/step - loss: 3.2032 - accuracy: 0.6791\n",
      "   Results\n",
      "   Loss,acc 3.203206777572632 0.679099977016449\n",
      "   True:  0 \t 945 \t 0 \t 1 \t 0 \t 1 \t 0 \t 24 \t 2 \t 1 \t 6\n",
      "   True:  1 \t 0 \t 1125 \t 0 \t 0 \t 0 \t 0 \t 0 \t 8 \t 2 \t 0\n",
      "   True:  2 \t 18 \t 15 \t 648 \t 0 \t 3 \t 0 \t 4 \t 32 \t 312 \t 0\n",
      "   True:  3 \t 8 \t 6 \t 13 \t 477 \t 3 \t 15 \t 140 \t 2 \t 340 \t 6\n",
      "   True:  4 \t 3 \t 32 \t 51 \t 2 \t 598 \t 1 \t 255 \t 14 \t 24 \t 2\n",
      "   True:  5 \t 12 \t 2 \t 5 \t 120 \t 5 \t 613 \t 70 \t 1 \t 24 \t 40\n",
      "   True:  6 \t 8 \t 2 \t 2 \t 29 \t 4 \t 2 \t 477 \t 88 \t 1 \t 345\n",
      "   True:  7 \t 3 \t 105 \t 140 \t 0 \t 17 \t 0 \t 224 \t 523 \t 12 \t 4\n",
      "   True:  8 \t 14 \t 9 \t 37 \t 9 \t 2 \t 0 \t 5 \t 2 \t 891 \t 5\n",
      "   True:  9 \t 2 \t 16 \t 6 \t 4 \t 5 \t 0 \t 470 \t 4 \t 8 \t 494\n",
      "\n",
      "Zoom  1.5\n",
      "313/313 [==============================] - 1s 3ms/step - loss: 2.5747 - accuracy: 0.6030\n",
      "   Results\n",
      "   Loss,acc 2.574742078781128 0.6029999852180481\n",
      "   True:  0 \t 873 \t 0 \t 1 \t 0 \t 0 \t 0 \t 105 \t 0 \t 0 \t 1\n",
      "   True:  1 \t 0 \t 1122 \t 2 \t 0 \t 0 \t 0 \t 0 \t 9 \t 2 \t 0\n",
      "   True:  2 \t 7 \t 28 \t 629 \t 0 \t 3 \t 0 \t 56 \t 18 \t 290 \t 1\n",
      "   True:  3 \t 7 \t 23 \t 52 \t 430 \t 5 \t 5 \t 335 \t 2 \t 127 \t 24\n",
      "   True:  4 \t 0 \t 30 \t 90 \t 1 \t 491 \t 0 \t 345 \t 5 \t 14 \t 6\n",
      "   True:  5 \t 3 \t 4 \t 17 \t 164 \t 5 \t 352 \t 240 \t 2 \t 73 \t 32\n",
      "   True:  6 \t 19 \t 5 \t 3 \t 147 \t 11 \t 7 \t 499 \t 74 \t 1 \t 192\n",
      "   True:  7 \t 5 \t 108 \t 194 \t 0 \t 17 \t 0 \t 227 \t 455 \t 15 \t 7\n",
      "   True:  8 \t 38 \t 34 \t 81 \t 12 \t 4 \t 0 \t 97 \t 2 \t 701 \t 5\n",
      "   True:  9 \t 7 \t 28 \t 9 \t 5 \t 23 \t 0 \t 447 \t 5 \t 7 \t 478\n",
      "\n",
      "Zoom  1.75\n",
      "313/313 [==============================] - 1s 3ms/step - loss: 2.5028 - accuracy: 0.4888\n",
      "   Results\n",
      "   Loss,acc 2.502833843231201 0.4887999892234802\n",
      "   True:  0 \t 600 \t 0 \t 2 \t 0 \t 1 \t 0 \t 376 \t 0 \t 1 \t 0\n",
      "   True:  1 \t 0 \t 1114 \t 4 \t 2 \t 0 \t 0 \t 1 \t 7 \t 7 \t 0\n",
      "   True:  2 \t 9 \t 40 \t 619 \t 3 \t 1 \t 0 \t 115 \t 8 \t 237 \t 0\n",
      "   True:  3 \t 17 \t 44 \t 85 \t 295 \t 4 \t 0 \t 418 \t 2 \t 65 \t 80\n",
      "   True:  4 \t 0 \t 22 \t 74 \t 3 \t 434 \t 0 \t 417 \t 1 \t 18 \t 13\n",
      "   True:  5 \t 14 \t 5 \t 32 \t 223 \t 2 \t 136 \t 399 \t 1 \t 56 \t 24\n",
      "   True:  6 \t 7 \t 5 \t 4 \t 187 \t 15 \t 10 \t 511 \t 32 \t 0 \t 187\n",
      "   True:  7 \t 2 \t 102 \t 186 \t 1 \t 7 \t 0 \t 314 \t 383 \t 21 \t 12\n",
      "   True:  8 \t 54 \t 90 \t 128 \t 9 \t 0 \t 0 \t 265 \t 1 \t 419 \t 8\n",
      "   True:  9 \t 13 \t 38 \t 10 \t 8 \t 62 \t 2 \t 479 \t 6 \t 14 \t 377\n",
      "\n",
      "Zoom  2.0\n",
      "313/313 [==============================] - 1s 3ms/step - loss: 2.4808 - accuracy: 0.4037\n",
      "   Results\n",
      "   Loss,acc 2.4808247089385986 0.40369999408721924\n",
      "   True:  0 \t 309 \t 3 \t 4 \t 1 \t 1 \t 0 \t 662 \t 0 \t 0 \t 0\n",
      "   True:  1 \t 0 \t 1110 \t 7 \t 0 \t 0 \t 0 \t 1 \t 1 \t 15 \t 1\n",
      "   True:  2 \t 3 \t 48 \t 586 \t 4 \t 0 \t 0 \t 185 \t 7 \t 199 \t 0\n",
      "   True:  3 \t 58 \t 77 \t 123 \t 170 \t 0 \t 0 \t 429 \t 1 \t 52 \t 100\n",
      "   True:  4 \t 0 \t 16 \t 46 \t 19 \t 377 \t 0 \t 470 \t 0 \t 28 \t 26\n",
      "   True:  5 \t 13 \t 6 \t 43 \t 212 \t 1 \t 28 \t 502 \t 1 \t 50 \t 36\n",
      "   True:  6 \t 1 \t 4 \t 10 \t 153 \t 20 \t 16 \t 590 \t 8 \t 1 \t 155\n",
      "   True:  7 \t 2 \t 81 \t 157 \t 3 \t 5 \t 0 \t 397 \t 284 \t 30 \t 69\n",
      "   True:  8 \t 17 \t 201 \t 101 \t 8 \t 2 \t 0 \t 406 \t 1 \t 233 \t 5\n",
      "   True:  9 \t 11 \t 45 \t 8 \t 45 \t 43 \t 4 \t 486 \t 2 \t 15 \t 350\n"
     ]
    }
   ],
   "source": [
    "# Your code here!\n",
    "import random\n",
    "import numpy as np\n",
    "cnn_zoom=[]\n",
    "for zoom in [1.0,1.25,1.5,1.75,2.0]:\n",
    "    print()\n",
    "    print(\"Zoom \",zoom)\n",
    "    imgList = []\n",
    "    count = 0\n",
    "    for img in test_images[:]:\n",
    "        if random.uniform(0.0,1.0) > 0.5:\n",
    "            zoom = zoom\n",
    "        else:\n",
    "            zoom = -zoom\n",
    "#        tx = random.uniform(-shift,shift)\n",
    "#        ty = random.uniform(-shift,shift)\n",
    "        trans_image = transform_image(img,tx=0,ty=0,zoom=zoom,rotation=0.0,shear=0.0)\n",
    "        imgList.append(trans_image)\n",
    "#\n",
    "# Convert to np array\n",
    "    npa_images = np.asarray(imgList, dtype=np.float32)\n",
    "    npa_images = npa_images.reshape((npa_images.shape[0],28,28,1))\n",
    "#\n",
    "    smear_loss,smear_acc,smear_cf = getPerformance(trained_network,npa_images,test_labels_cat,test_labels)\n",
    "    print(\"   Results\")\n",
    "    print(\"   Loss,acc\",smear_loss,smear_acc)\n",
    "    cnn_zoom.append(smear_acc)\n",
    "    for trueClass in range(10):\n",
    "        print(\"   True: \",trueClass,end=\"\")\n",
    "        for predClass in range(10):\n",
    "            print(\" \\t\",smear_cf[trueClass][predClass],end=\"\")\n",
    "        print()\n"
   ]
  },
  {
   "cell_type": "markdown",
   "metadata": {},
   "source": [
    "## Task 4: Tablulate Results\n",
    "Make a table comparing FCN vs CNN for the each of the variations in Shifts, Rotations, and Zooms."
   ]
  },
  {
   "cell_type": "code",
   "execution_count": 71,
   "metadata": {},
   "outputs": [
    {
     "name": "stdout",
     "output_type": "stream",
     "text": [
      "   Shift_cnn  Zoom_cnn  Rotation_cnn  Shift_fcn  Zoom_fcn  Rotation_fcn\n",
      "0     0.9861    0.7027        0.9861     0.9806    0.6681        0.9806\n",
      "1     0.9682    0.6791        0.9203     0.9286    0.5674        0.8844\n",
      "2     0.8393    0.6030        0.5773     0.6163    0.3696        0.4817\n",
      "3     0.5101    0.4888        0.2592     0.2682    0.2228        0.1892\n",
      "4     0.2462    0.4037        0.1885     0.0939    0.1745        0.1255\n"
     ]
    }
   ],
   "source": [
    "import pandas as pd\n",
    "d = {'Shift_cnn': cnn_shift, 'Zoom_cnn': cnn_zoom, 'Rotation_cnn':cnn_rot, 'Shift_fcn':fcn_shift, 'Zoom_fcn':fcn_zoom,\n",
    "    'Rotation_fcn': fcn_rot}\n",
    "df = pd.DataFrame(data=d)\n",
    "print(df)"
   ]
  }
 ],
 "metadata": {
  "kernelspec": {
   "display_name": "Python 3",
   "language": "python",
   "name": "python3"
  },
  "language_info": {
   "codemirror_mode": {
    "name": "ipython",
    "version": 3
   },
   "file_extension": ".py",
   "mimetype": "text/x-python",
   "name": "python",
   "nbconvert_exporter": "python",
   "pygments_lexer": "ipython3",
   "version": "3.6.8"
  }
 },
 "nbformat": 4,
 "nbformat_minor": 2
}
